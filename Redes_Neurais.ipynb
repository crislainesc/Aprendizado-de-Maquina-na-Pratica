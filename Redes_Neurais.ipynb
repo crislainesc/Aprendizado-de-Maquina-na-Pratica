{
  "nbformat": 4,
  "nbformat_minor": 0,
  "metadata": {
    "colab": {
      "name": "Redes_Neurais.ipynb",
      "provenance": [],
      "collapsed_sections": [],
      "authorship_tag": "ABX9TyO+TEgl+QVHv3soEdvOIIqC",
      "include_colab_link": true
    },
    "kernelspec": {
      "name": "python3",
      "display_name": "Python 3"
    }
  },
  "cells": [
    {
      "cell_type": "markdown",
      "metadata": {
        "id": "view-in-github",
        "colab_type": "text"
      },
      "source": [
        "<a href=\"https://colab.research.google.com/github/crislainesc/Aprendizado-de-Maquina-na-Pratica/blob/Atividade/Redes_Neurais.ipynb\" target=\"_parent\"><img src=\"https://colab.research.google.com/assets/colab-badge.svg\" alt=\"Open In Colab\"/></a>"
      ]
    },
    {
      "cell_type": "markdown",
      "metadata": {
        "id": "lWaEqRJVREiy",
        "colab_type": "text"
      },
      "source": [
        "# **Previsão de insuficiência cardíaca**\n",
        "\n",
        "\n",
        "\n",
        "*   Data set com informações clínicas que podem permitir a criação de um modelo capaz de prever a mortalidade por insuficiência cardíaca.\n",
        "*   [Heart Failure Prediction](https://www.kaggle.com/andrewmvd/heart-failure-clinical-data)\n",
        "*   12 características clínicas que podem prognosticar eventos de morte.\n",
        "*   299 instâncias."
      ]
    },
    {
      "cell_type": "markdown",
      "metadata": {
        "id": "ORHiTmBt4tzt",
        "colab_type": "text"
      },
      "source": [
        "**Montando ambiente no Google Drive**"
      ]
    },
    {
      "cell_type": "code",
      "metadata": {
        "id": "MPIrbnGSQ9n4",
        "colab_type": "code",
        "colab": {
          "base_uri": "https://localhost:8080/",
          "height": 35
        },
        "outputId": "f804b456-2797-48da-b0df-9edc0793881e"
      },
      "source": [
        "from google.colab import drive\n",
        "drive.mount('/content/drive/')"
      ],
      "execution_count": null,
      "outputs": [
        {
          "output_type": "stream",
          "text": [
            "Drive already mounted at /content/drive/; to attempt to forcibly remount, call drive.mount(\"/content/drive/\", force_remount=True).\n"
          ],
          "name": "stdout"
        }
      ]
    },
    {
      "cell_type": "markdown",
      "metadata": {
        "id": "pjpmARaGWFkt",
        "colab_type": "text"
      },
      "source": [
        "**1. Importando Bibliotecas**"
      ]
    },
    {
      "cell_type": "code",
      "metadata": {
        "id": "OD0XU-OtRNTV",
        "colab_type": "code",
        "colab": {}
      },
      "source": [
        "import pandas as pd\n",
        "import matplotlib.pyplot as plt"
      ],
      "execution_count": null,
      "outputs": []
    },
    {
      "cell_type": "markdown",
      "metadata": {
        "id": "CsIPsF5TWMFR",
        "colab_type": "text"
      },
      "source": [
        "**2. Carregamento dos dados**"
      ]
    },
    {
      "cell_type": "code",
      "metadata": {
        "id": "0B_fOW8_RaSv",
        "colab_type": "code",
        "colab": {}
      },
      "source": [
        "data = pd.read_csv('/content/drive/My Drive/Colab Notebooks/Semana 2/heart_failure.csv')"
      ],
      "execution_count": null,
      "outputs": []
    },
    {
      "cell_type": "code",
      "metadata": {
        "id": "ivCbASauRqqp",
        "colab_type": "code",
        "colab": {
          "base_uri": "https://localhost:8080/",
          "height": 218
        },
        "outputId": "fdfec70e-1b63-4cd4-d60a-7fd77851ac9c"
      },
      "source": [
        "data.head()"
      ],
      "execution_count": null,
      "outputs": [
        {
          "output_type": "execute_result",
          "data": {
            "text/html": [
              "<div>\n",
              "<style scoped>\n",
              "    .dataframe tbody tr th:only-of-type {\n",
              "        vertical-align: middle;\n",
              "    }\n",
              "\n",
              "    .dataframe tbody tr th {\n",
              "        vertical-align: top;\n",
              "    }\n",
              "\n",
              "    .dataframe thead th {\n",
              "        text-align: right;\n",
              "    }\n",
              "</style>\n",
              "<table border=\"1\" class=\"dataframe\">\n",
              "  <thead>\n",
              "    <tr style=\"text-align: right;\">\n",
              "      <th></th>\n",
              "      <th>age</th>\n",
              "      <th>anaemia</th>\n",
              "      <th>creatinine_phosphokinase</th>\n",
              "      <th>diabetes</th>\n",
              "      <th>ejection_fraction</th>\n",
              "      <th>high_blood_pressure</th>\n",
              "      <th>platelets</th>\n",
              "      <th>serum_creatinine</th>\n",
              "      <th>serum_sodium</th>\n",
              "      <th>sex</th>\n",
              "      <th>smoking</th>\n",
              "      <th>time</th>\n",
              "      <th>DEATH_EVENT</th>\n",
              "    </tr>\n",
              "  </thead>\n",
              "  <tbody>\n",
              "    <tr>\n",
              "      <th>0</th>\n",
              "      <td>75.0</td>\n",
              "      <td>0</td>\n",
              "      <td>582</td>\n",
              "      <td>0</td>\n",
              "      <td>20</td>\n",
              "      <td>1</td>\n",
              "      <td>265000.00</td>\n",
              "      <td>1.9</td>\n",
              "      <td>130</td>\n",
              "      <td>1</td>\n",
              "      <td>0</td>\n",
              "      <td>4</td>\n",
              "      <td>1</td>\n",
              "    </tr>\n",
              "    <tr>\n",
              "      <th>1</th>\n",
              "      <td>55.0</td>\n",
              "      <td>0</td>\n",
              "      <td>7861</td>\n",
              "      <td>0</td>\n",
              "      <td>38</td>\n",
              "      <td>0</td>\n",
              "      <td>263358.03</td>\n",
              "      <td>1.1</td>\n",
              "      <td>136</td>\n",
              "      <td>1</td>\n",
              "      <td>0</td>\n",
              "      <td>6</td>\n",
              "      <td>1</td>\n",
              "    </tr>\n",
              "    <tr>\n",
              "      <th>2</th>\n",
              "      <td>65.0</td>\n",
              "      <td>0</td>\n",
              "      <td>146</td>\n",
              "      <td>0</td>\n",
              "      <td>20</td>\n",
              "      <td>0</td>\n",
              "      <td>162000.00</td>\n",
              "      <td>1.3</td>\n",
              "      <td>129</td>\n",
              "      <td>1</td>\n",
              "      <td>1</td>\n",
              "      <td>7</td>\n",
              "      <td>1</td>\n",
              "    </tr>\n",
              "    <tr>\n",
              "      <th>3</th>\n",
              "      <td>50.0</td>\n",
              "      <td>1</td>\n",
              "      <td>111</td>\n",
              "      <td>0</td>\n",
              "      <td>20</td>\n",
              "      <td>0</td>\n",
              "      <td>210000.00</td>\n",
              "      <td>1.9</td>\n",
              "      <td>137</td>\n",
              "      <td>1</td>\n",
              "      <td>0</td>\n",
              "      <td>7</td>\n",
              "      <td>1</td>\n",
              "    </tr>\n",
              "    <tr>\n",
              "      <th>4</th>\n",
              "      <td>65.0</td>\n",
              "      <td>1</td>\n",
              "      <td>160</td>\n",
              "      <td>1</td>\n",
              "      <td>20</td>\n",
              "      <td>0</td>\n",
              "      <td>327000.00</td>\n",
              "      <td>2.7</td>\n",
              "      <td>116</td>\n",
              "      <td>0</td>\n",
              "      <td>0</td>\n",
              "      <td>8</td>\n",
              "      <td>1</td>\n",
              "    </tr>\n",
              "  </tbody>\n",
              "</table>\n",
              "</div>"
            ],
            "text/plain": [
              "    age  anaemia  creatinine_phosphokinase  ...  smoking  time  DEATH_EVENT\n",
              "0  75.0        0                       582  ...        0     4            1\n",
              "1  55.0        0                      7861  ...        0     6            1\n",
              "2  65.0        0                       146  ...        1     7            1\n",
              "3  50.0        1                       111  ...        0     7            1\n",
              "4  65.0        1                       160  ...        0     8            1\n",
              "\n",
              "[5 rows x 13 columns]"
            ]
          },
          "metadata": {
            "tags": []
          },
          "execution_count": 4
        }
      ]
    },
    {
      "cell_type": "code",
      "metadata": {
        "id": "TRDCD07DT9Bb",
        "colab_type": "code",
        "colab": {
          "base_uri": "https://localhost:8080/",
          "height": 108
        },
        "outputId": "f517c47f-9474-4167-e979-248809d5e660"
      },
      "source": [
        "data.columns"
      ],
      "execution_count": null,
      "outputs": [
        {
          "output_type": "execute_result",
          "data": {
            "text/plain": [
              "Index(['age', 'anaemia', 'creatinine_phosphokinase', 'diabetes',\n",
              "       'ejection_fraction', 'high_blood_pressure', 'platelets',\n",
              "       'serum_creatinine', 'serum_sodium', 'sex', 'smoking', 'time',\n",
              "       'DEATH_EVENT'],\n",
              "      dtype='object')"
            ]
          },
          "metadata": {
            "tags": []
          },
          "execution_count": 5
        }
      ]
    },
    {
      "cell_type": "markdown",
      "metadata": {
        "id": "cHw7O807WVu3",
        "colab_type": "text"
      },
      "source": [
        "**3. Limpeza e organização dos dados**"
      ]
    },
    {
      "cell_type": "code",
      "metadata": {
        "id": "BSwlJbvnT_wu",
        "colab_type": "code",
        "colab": {
          "base_uri": "https://localhost:8080/",
          "height": 427
        },
        "outputId": "a4565a99-dc63-4405-fe12-ce75420b297a"
      },
      "source": [
        "data.dropna()"
      ],
      "execution_count": null,
      "outputs": [
        {
          "output_type": "execute_result",
          "data": {
            "text/html": [
              "<div>\n",
              "<style scoped>\n",
              "    .dataframe tbody tr th:only-of-type {\n",
              "        vertical-align: middle;\n",
              "    }\n",
              "\n",
              "    .dataframe tbody tr th {\n",
              "        vertical-align: top;\n",
              "    }\n",
              "\n",
              "    .dataframe thead th {\n",
              "        text-align: right;\n",
              "    }\n",
              "</style>\n",
              "<table border=\"1\" class=\"dataframe\">\n",
              "  <thead>\n",
              "    <tr style=\"text-align: right;\">\n",
              "      <th></th>\n",
              "      <th>age</th>\n",
              "      <th>anaemia</th>\n",
              "      <th>creatinine_phosphokinase</th>\n",
              "      <th>diabetes</th>\n",
              "      <th>ejection_fraction</th>\n",
              "      <th>high_blood_pressure</th>\n",
              "      <th>platelets</th>\n",
              "      <th>serum_creatinine</th>\n",
              "      <th>serum_sodium</th>\n",
              "      <th>sex</th>\n",
              "      <th>smoking</th>\n",
              "      <th>time</th>\n",
              "      <th>DEATH_EVENT</th>\n",
              "    </tr>\n",
              "  </thead>\n",
              "  <tbody>\n",
              "    <tr>\n",
              "      <th>0</th>\n",
              "      <td>75.0</td>\n",
              "      <td>0</td>\n",
              "      <td>582</td>\n",
              "      <td>0</td>\n",
              "      <td>20</td>\n",
              "      <td>1</td>\n",
              "      <td>265000.00</td>\n",
              "      <td>1.9</td>\n",
              "      <td>130</td>\n",
              "      <td>1</td>\n",
              "      <td>0</td>\n",
              "      <td>4</td>\n",
              "      <td>1</td>\n",
              "    </tr>\n",
              "    <tr>\n",
              "      <th>1</th>\n",
              "      <td>55.0</td>\n",
              "      <td>0</td>\n",
              "      <td>7861</td>\n",
              "      <td>0</td>\n",
              "      <td>38</td>\n",
              "      <td>0</td>\n",
              "      <td>263358.03</td>\n",
              "      <td>1.1</td>\n",
              "      <td>136</td>\n",
              "      <td>1</td>\n",
              "      <td>0</td>\n",
              "      <td>6</td>\n",
              "      <td>1</td>\n",
              "    </tr>\n",
              "    <tr>\n",
              "      <th>2</th>\n",
              "      <td>65.0</td>\n",
              "      <td>0</td>\n",
              "      <td>146</td>\n",
              "      <td>0</td>\n",
              "      <td>20</td>\n",
              "      <td>0</td>\n",
              "      <td>162000.00</td>\n",
              "      <td>1.3</td>\n",
              "      <td>129</td>\n",
              "      <td>1</td>\n",
              "      <td>1</td>\n",
              "      <td>7</td>\n",
              "      <td>1</td>\n",
              "    </tr>\n",
              "    <tr>\n",
              "      <th>3</th>\n",
              "      <td>50.0</td>\n",
              "      <td>1</td>\n",
              "      <td>111</td>\n",
              "      <td>0</td>\n",
              "      <td>20</td>\n",
              "      <td>0</td>\n",
              "      <td>210000.00</td>\n",
              "      <td>1.9</td>\n",
              "      <td>137</td>\n",
              "      <td>1</td>\n",
              "      <td>0</td>\n",
              "      <td>7</td>\n",
              "      <td>1</td>\n",
              "    </tr>\n",
              "    <tr>\n",
              "      <th>4</th>\n",
              "      <td>65.0</td>\n",
              "      <td>1</td>\n",
              "      <td>160</td>\n",
              "      <td>1</td>\n",
              "      <td>20</td>\n",
              "      <td>0</td>\n",
              "      <td>327000.00</td>\n",
              "      <td>2.7</td>\n",
              "      <td>116</td>\n",
              "      <td>0</td>\n",
              "      <td>0</td>\n",
              "      <td>8</td>\n",
              "      <td>1</td>\n",
              "    </tr>\n",
              "    <tr>\n",
              "      <th>...</th>\n",
              "      <td>...</td>\n",
              "      <td>...</td>\n",
              "      <td>...</td>\n",
              "      <td>...</td>\n",
              "      <td>...</td>\n",
              "      <td>...</td>\n",
              "      <td>...</td>\n",
              "      <td>...</td>\n",
              "      <td>...</td>\n",
              "      <td>...</td>\n",
              "      <td>...</td>\n",
              "      <td>...</td>\n",
              "      <td>...</td>\n",
              "    </tr>\n",
              "    <tr>\n",
              "      <th>294</th>\n",
              "      <td>62.0</td>\n",
              "      <td>0</td>\n",
              "      <td>61</td>\n",
              "      <td>1</td>\n",
              "      <td>38</td>\n",
              "      <td>1</td>\n",
              "      <td>155000.00</td>\n",
              "      <td>1.1</td>\n",
              "      <td>143</td>\n",
              "      <td>1</td>\n",
              "      <td>1</td>\n",
              "      <td>270</td>\n",
              "      <td>0</td>\n",
              "    </tr>\n",
              "    <tr>\n",
              "      <th>295</th>\n",
              "      <td>55.0</td>\n",
              "      <td>0</td>\n",
              "      <td>1820</td>\n",
              "      <td>0</td>\n",
              "      <td>38</td>\n",
              "      <td>0</td>\n",
              "      <td>270000.00</td>\n",
              "      <td>1.2</td>\n",
              "      <td>139</td>\n",
              "      <td>0</td>\n",
              "      <td>0</td>\n",
              "      <td>271</td>\n",
              "      <td>0</td>\n",
              "    </tr>\n",
              "    <tr>\n",
              "      <th>296</th>\n",
              "      <td>45.0</td>\n",
              "      <td>0</td>\n",
              "      <td>2060</td>\n",
              "      <td>1</td>\n",
              "      <td>60</td>\n",
              "      <td>0</td>\n",
              "      <td>742000.00</td>\n",
              "      <td>0.8</td>\n",
              "      <td>138</td>\n",
              "      <td>0</td>\n",
              "      <td>0</td>\n",
              "      <td>278</td>\n",
              "      <td>0</td>\n",
              "    </tr>\n",
              "    <tr>\n",
              "      <th>297</th>\n",
              "      <td>45.0</td>\n",
              "      <td>0</td>\n",
              "      <td>2413</td>\n",
              "      <td>0</td>\n",
              "      <td>38</td>\n",
              "      <td>0</td>\n",
              "      <td>140000.00</td>\n",
              "      <td>1.4</td>\n",
              "      <td>140</td>\n",
              "      <td>1</td>\n",
              "      <td>1</td>\n",
              "      <td>280</td>\n",
              "      <td>0</td>\n",
              "    </tr>\n",
              "    <tr>\n",
              "      <th>298</th>\n",
              "      <td>50.0</td>\n",
              "      <td>0</td>\n",
              "      <td>196</td>\n",
              "      <td>0</td>\n",
              "      <td>45</td>\n",
              "      <td>0</td>\n",
              "      <td>395000.00</td>\n",
              "      <td>1.6</td>\n",
              "      <td>136</td>\n",
              "      <td>1</td>\n",
              "      <td>1</td>\n",
              "      <td>285</td>\n",
              "      <td>0</td>\n",
              "    </tr>\n",
              "  </tbody>\n",
              "</table>\n",
              "<p>299 rows × 13 columns</p>\n",
              "</div>"
            ],
            "text/plain": [
              "      age  anaemia  creatinine_phosphokinase  ...  smoking  time  DEATH_EVENT\n",
              "0    75.0        0                       582  ...        0     4            1\n",
              "1    55.0        0                      7861  ...        0     6            1\n",
              "2    65.0        0                       146  ...        1     7            1\n",
              "3    50.0        1                       111  ...        0     7            1\n",
              "4    65.0        1                       160  ...        0     8            1\n",
              "..    ...      ...                       ...  ...      ...   ...          ...\n",
              "294  62.0        0                        61  ...        1   270            0\n",
              "295  55.0        0                      1820  ...        0   271            0\n",
              "296  45.0        0                      2060  ...        0   278            0\n",
              "297  45.0        0                      2413  ...        1   280            0\n",
              "298  50.0        0                       196  ...        1   285            0\n",
              "\n",
              "[299 rows x 13 columns]"
            ]
          },
          "metadata": {
            "tags": []
          },
          "execution_count": 6
        }
      ]
    },
    {
      "cell_type": "markdown",
      "metadata": {
        "id": "Fw1eT2eZVmqB",
        "colab_type": "text"
      },
      "source": [
        "O data set não possui dados faltantes ou que precisem serem transformados em valores númericos. Porém, existem fatores que não influenciam diretamente em um evento de morte por insufiência cardíaca e tais fatores podem diminuir a eficiência do modelo.\n",
        "\n",
        "Sendo os fatores que diretamente contribuem para o evento de morte:\n",
        "\n",
        "*   **Age (Idade)**: O avanço da idade pode contribuir para a má circulação sangínea no corpo.\n",
        "*   **Anaemia (Anemia)**: redução na quantidade de hemoglobina, um pigmento presente nas células vermelhas capaz de carregar o oxigênio pelo organismo, no sangue circulante. Sendo assim, a capacidade de circulação do sangue será comprometida.\n",
        "*   **Ejection Fraction (Fração de Ejeção)**: quando reduzida significa que os ventrículos do coração não se contraem adequadamente durante cada batimento cardíaco de modo que o sangue não é adequadamente bombeado para fora do coração.\n",
        "*   **Time (Tempo):** o período de acompanhamento não influencia diretamente, todavia é muito importante para o modelo.\n",
        "*   **Serum Creatinine (Creatinina Sérica)**: resíduo produzido pela quebra de uma proteína chamada creatina fosfato. Em níveis elevados, os rins trabalham de forma inadequada e a sua capacidade de filtrar o sangue fica afetada.\n"
      ]
    },
    {
      "cell_type": "code",
      "metadata": {
        "id": "FCuFIpfqb4_e",
        "colab_type": "code",
        "colab": {}
      },
      "source": [
        "# Excluindo as colunas que não serão necessárias por não influenciarem diretamente.\n",
        "data = data.drop(columns=['creatinine_phosphokinase','platelets','serum_sodium','sex','smoking'])"
      ],
      "execution_count": null,
      "outputs": []
    },
    {
      "cell_type": "markdown",
      "metadata": {
        "id": "xpF4LedpWzsK",
        "colab_type": "text"
      },
      "source": [
        "**4. Re-escala dos dados**"
      ]
    },
    {
      "cell_type": "code",
      "metadata": {
        "id": "JnFj36z95L1u",
        "colab_type": "code",
        "colab": {}
      },
      "source": [
        "data = (data - data.min())/(data.max() - data.min())"
      ],
      "execution_count": null,
      "outputs": []
    },
    {
      "cell_type": "markdown",
      "metadata": {
        "id": "vaw0E2-15UaG",
        "colab_type": "text"
      },
      "source": [
        "**5. Organizando dados para modelagem**"
      ]
    },
    {
      "cell_type": "code",
      "metadata": {
        "id": "mI6-RRO55azf",
        "colab_type": "code",
        "colab": {
          "base_uri": "https://localhost:8080/",
          "height": 198
        },
        "outputId": "120f9805-2b87-47e7-d60c-aadaf5064abb"
      },
      "source": [
        "# Colando as colunas em ordem diferente\n",
        "data = data[['DEATH_EVENT','age','anaemia','diabetes','ejection_fraction','high_blood_pressure','time','serum_creatinine',]]\n",
        "# usando a função axis para que ela remova a coluna DEATH_EVENT\n",
        "x = data.drop('DEATH_EVENT', axis = 1)\n",
        "x.head()"
      ],
      "execution_count": null,
      "outputs": [
        {
          "output_type": "execute_result",
          "data": {
            "text/html": [
              "<div>\n",
              "<style scoped>\n",
              "    .dataframe tbody tr th:only-of-type {\n",
              "        vertical-align: middle;\n",
              "    }\n",
              "\n",
              "    .dataframe tbody tr th {\n",
              "        vertical-align: top;\n",
              "    }\n",
              "\n",
              "    .dataframe thead th {\n",
              "        text-align: right;\n",
              "    }\n",
              "</style>\n",
              "<table border=\"1\" class=\"dataframe\">\n",
              "  <thead>\n",
              "    <tr style=\"text-align: right;\">\n",
              "      <th></th>\n",
              "      <th>age</th>\n",
              "      <th>anaemia</th>\n",
              "      <th>diabetes</th>\n",
              "      <th>ejection_fraction</th>\n",
              "      <th>high_blood_pressure</th>\n",
              "      <th>time</th>\n",
              "      <th>serum_creatinine</th>\n",
              "    </tr>\n",
              "  </thead>\n",
              "  <tbody>\n",
              "    <tr>\n",
              "      <th>0</th>\n",
              "      <td>0.636364</td>\n",
              "      <td>0.0</td>\n",
              "      <td>0.0</td>\n",
              "      <td>0.090909</td>\n",
              "      <td>1.0</td>\n",
              "      <td>0.000000</td>\n",
              "      <td>0.157303</td>\n",
              "    </tr>\n",
              "    <tr>\n",
              "      <th>1</th>\n",
              "      <td>0.272727</td>\n",
              "      <td>0.0</td>\n",
              "      <td>0.0</td>\n",
              "      <td>0.363636</td>\n",
              "      <td>0.0</td>\n",
              "      <td>0.007117</td>\n",
              "      <td>0.067416</td>\n",
              "    </tr>\n",
              "    <tr>\n",
              "      <th>2</th>\n",
              "      <td>0.454545</td>\n",
              "      <td>0.0</td>\n",
              "      <td>0.0</td>\n",
              "      <td>0.090909</td>\n",
              "      <td>0.0</td>\n",
              "      <td>0.010676</td>\n",
              "      <td>0.089888</td>\n",
              "    </tr>\n",
              "    <tr>\n",
              "      <th>3</th>\n",
              "      <td>0.181818</td>\n",
              "      <td>1.0</td>\n",
              "      <td>0.0</td>\n",
              "      <td>0.090909</td>\n",
              "      <td>0.0</td>\n",
              "      <td>0.010676</td>\n",
              "      <td>0.157303</td>\n",
              "    </tr>\n",
              "    <tr>\n",
              "      <th>4</th>\n",
              "      <td>0.454545</td>\n",
              "      <td>1.0</td>\n",
              "      <td>1.0</td>\n",
              "      <td>0.090909</td>\n",
              "      <td>0.0</td>\n",
              "      <td>0.014235</td>\n",
              "      <td>0.247191</td>\n",
              "    </tr>\n",
              "  </tbody>\n",
              "</table>\n",
              "</div>"
            ],
            "text/plain": [
              "        age  anaemia  diabetes  ...  high_blood_pressure      time  serum_creatinine\n",
              "0  0.636364      0.0       0.0  ...                  1.0  0.000000          0.157303\n",
              "1  0.272727      0.0       0.0  ...                  0.0  0.007117          0.067416\n",
              "2  0.454545      0.0       0.0  ...                  0.0  0.010676          0.089888\n",
              "3  0.181818      1.0       0.0  ...                  0.0  0.010676          0.157303\n",
              "4  0.454545      1.0       1.0  ...                  0.0  0.014235          0.247191\n",
              "\n",
              "[5 rows x 7 columns]"
            ]
          },
          "metadata": {
            "tags": []
          },
          "execution_count": 9
        }
      ]
    },
    {
      "cell_type": "code",
      "metadata": {
        "id": "W9LAC0iC5rH0",
        "colab_type": "code",
        "colab": {
          "base_uri": "https://localhost:8080/",
          "height": 126
        },
        "outputId": "fe785edf-62df-416a-9c4b-eabd49226fb5"
      },
      "source": [
        "y = data.DEATH_EVENT\n",
        "y.head()"
      ],
      "execution_count": null,
      "outputs": [
        {
          "output_type": "execute_result",
          "data": {
            "text/plain": [
              "0    1.0\n",
              "1    1.0\n",
              "2    1.0\n",
              "3    1.0\n",
              "4    1.0\n",
              "Name: DEATH_EVENT, dtype: float64"
            ]
          },
          "metadata": {
            "tags": []
          },
          "execution_count": 10
        }
      ]
    },
    {
      "cell_type": "markdown",
      "metadata": {
        "id": "YMLVK8QG537h",
        "colab_type": "text"
      },
      "source": [
        "**Dividindo os dados em treino e teste**"
      ]
    },
    {
      "cell_type": "code",
      "metadata": {
        "id": "tI-YCCou562t",
        "colab_type": "code",
        "colab": {}
      },
      "source": [
        "from sklearn.model_selection import train_test_split"
      ],
      "execution_count": null,
      "outputs": []
    },
    {
      "cell_type": "code",
      "metadata": {
        "id": "unj_qvC36IDQ",
        "colab_type": "code",
        "colab": {}
      },
      "source": [
        "x_train, x_test, y_train, y_test = train_test_split(x,y,test_size = 0.2)"
      ],
      "execution_count": null,
      "outputs": []
    },
    {
      "cell_type": "code",
      "metadata": {
        "id": "4vcA-_r_6UCL",
        "colab_type": "code",
        "colab": {
          "base_uri": "https://localhost:8080/",
          "height": 198
        },
        "outputId": "6e453301-3011-487d-b0ff-66b303467c3c"
      },
      "source": [
        "x_train.head()"
      ],
      "execution_count": null,
      "outputs": [
        {
          "output_type": "execute_result",
          "data": {
            "text/html": [
              "<div>\n",
              "<style scoped>\n",
              "    .dataframe tbody tr th:only-of-type {\n",
              "        vertical-align: middle;\n",
              "    }\n",
              "\n",
              "    .dataframe tbody tr th {\n",
              "        vertical-align: top;\n",
              "    }\n",
              "\n",
              "    .dataframe thead th {\n",
              "        text-align: right;\n",
              "    }\n",
              "</style>\n",
              "<table border=\"1\" class=\"dataframe\">\n",
              "  <thead>\n",
              "    <tr style=\"text-align: right;\">\n",
              "      <th></th>\n",
              "      <th>age</th>\n",
              "      <th>anaemia</th>\n",
              "      <th>diabetes</th>\n",
              "      <th>ejection_fraction</th>\n",
              "      <th>high_blood_pressure</th>\n",
              "      <th>time</th>\n",
              "      <th>serum_creatinine</th>\n",
              "    </tr>\n",
              "  </thead>\n",
              "  <tbody>\n",
              "    <tr>\n",
              "      <th>137</th>\n",
              "      <td>0.509091</td>\n",
              "      <td>1.0</td>\n",
              "      <td>0.0</td>\n",
              "      <td>0.166667</td>\n",
              "      <td>0.0</td>\n",
              "      <td>0.370107</td>\n",
              "      <td>0.179775</td>\n",
              "    </tr>\n",
              "    <tr>\n",
              "      <th>97</th>\n",
              "      <td>0.545455</td>\n",
              "      <td>1.0</td>\n",
              "      <td>0.0</td>\n",
              "      <td>0.696970</td>\n",
              "      <td>0.0</td>\n",
              "      <td>0.288256</td>\n",
              "      <td>0.067416</td>\n",
              "    </tr>\n",
              "    <tr>\n",
              "      <th>203</th>\n",
              "      <td>0.363636</td>\n",
              "      <td>0.0</td>\n",
              "      <td>0.0</td>\n",
              "      <td>0.166667</td>\n",
              "      <td>1.0</td>\n",
              "      <td>0.651246</td>\n",
              "      <td>0.337079</td>\n",
              "    </tr>\n",
              "    <tr>\n",
              "      <th>268</th>\n",
              "      <td>0.090909</td>\n",
              "      <td>0.0</td>\n",
              "      <td>1.0</td>\n",
              "      <td>0.363636</td>\n",
              "      <td>0.0</td>\n",
              "      <td>0.854093</td>\n",
              "      <td>0.044944</td>\n",
              "    </tr>\n",
              "    <tr>\n",
              "      <th>10</th>\n",
              "      <td>0.636364</td>\n",
              "      <td>1.0</td>\n",
              "      <td>0.0</td>\n",
              "      <td>0.363636</td>\n",
              "      <td>1.0</td>\n",
              "      <td>0.021352</td>\n",
              "      <td>0.393258</td>\n",
              "    </tr>\n",
              "  </tbody>\n",
              "</table>\n",
              "</div>"
            ],
            "text/plain": [
              "          age  anaemia  ...      time  serum_creatinine\n",
              "137  0.509091      1.0  ...  0.370107          0.179775\n",
              "97   0.545455      1.0  ...  0.288256          0.067416\n",
              "203  0.363636      0.0  ...  0.651246          0.337079\n",
              "268  0.090909      0.0  ...  0.854093          0.044944\n",
              "10   0.636364      1.0  ...  0.021352          0.393258\n",
              "\n",
              "[5 rows x 7 columns]"
            ]
          },
          "metadata": {
            "tags": []
          },
          "execution_count": 13
        }
      ]
    },
    {
      "cell_type": "code",
      "metadata": {
        "id": "rMFq3Vot6xIq",
        "colab_type": "code",
        "colab": {
          "base_uri": "https://localhost:8080/",
          "height": 126
        },
        "outputId": "76740b67-38de-464e-dde0-48e574a850ed"
      },
      "source": [
        "y_train.head()"
      ],
      "execution_count": null,
      "outputs": [
        {
          "output_type": "execute_result",
          "data": {
            "text/plain": [
              "137    0.0\n",
              "97     0.0\n",
              "203    0.0\n",
              "268    0.0\n",
              "10     1.0\n",
              "Name: DEATH_EVENT, dtype: float64"
            ]
          },
          "metadata": {
            "tags": []
          },
          "execution_count": 14
        }
      ]
    },
    {
      "cell_type": "markdown",
      "metadata": {
        "id": "HbY72-JR64ji",
        "colab_type": "text"
      },
      "source": [
        "**6. Definindo algoritmo de aprendizado**"
      ]
    },
    {
      "cell_type": "code",
      "metadata": {
        "id": "VjF7z28V68Ux",
        "colab_type": "code",
        "colab": {}
      },
      "source": [
        "from sklearn.neural_network import MLPClassifier"
      ],
      "execution_count": null,
      "outputs": []
    },
    {
      "cell_type": "code",
      "metadata": {
        "id": "wDs5bYJg08WF",
        "colab_type": "code",
        "colab": {}
      },
      "source": [
        "classifier = MLPClassifier(hidden_layer_sizes=(100),activation='logistic',max_iter=1000)"
      ],
      "execution_count": null,
      "outputs": []
    },
    {
      "cell_type": "code",
      "metadata": {
        "id": "sNRrcEkQ1K63",
        "colab_type": "code",
        "colab": {
          "base_uri": "https://localhost:8080/",
          "height": 163
        },
        "outputId": "b89b526a-e816-4df9-a1e6-6a51aaf205da"
      },
      "source": [
        "classifier.fit(x_train, y_train)"
      ],
      "execution_count": null,
      "outputs": [
        {
          "output_type": "execute_result",
          "data": {
            "text/plain": [
              "MLPClassifier(activation='logistic', alpha=0.0001, batch_size='auto',\n",
              "              beta_1=0.9, beta_2=0.999, early_stopping=False, epsilon=1e-08,\n",
              "              hidden_layer_sizes=100, learning_rate='constant',\n",
              "              learning_rate_init=0.001, max_fun=15000, max_iter=1000,\n",
              "              momentum=0.9, n_iter_no_change=10, nesterovs_momentum=True,\n",
              "              power_t=0.5, random_state=None, shuffle=True, solver='adam',\n",
              "              tol=0.0001, validation_fraction=0.1, verbose=False,\n",
              "              warm_start=False)"
            ]
          },
          "metadata": {
            "tags": []
          },
          "execution_count": 18
        }
      ]
    },
    {
      "cell_type": "code",
      "metadata": {
        "id": "ZvEr8yLD1dF-",
        "colab_type": "code",
        "colab": {
          "base_uri": "https://localhost:8080/",
          "height": 90
        },
        "outputId": "0b9def1d-bcc5-4a51-c660-0b7bdd7a5606"
      },
      "source": [
        "classifier = classifier.predict(x_test)\n",
        "classifier"
      ],
      "execution_count": null,
      "outputs": [
        {
          "output_type": "execute_result",
          "data": {
            "text/plain": [
              "array([1., 0., 0., 0., 0., 0., 0., 1., 0., 0., 0., 0., 1., 0., 1., 0., 1.,\n",
              "       0., 0., 0., 0., 1., 1., 0., 1., 1., 0., 0., 0., 0., 1., 1., 0., 0.,\n",
              "       0., 0., 0., 0., 0., 0., 0., 1., 1., 0., 0., 0., 1., 0., 0., 0., 1.,\n",
              "       0., 0., 0., 0., 1., 1., 0., 0., 0.])"
            ]
          },
          "metadata": {
            "tags": []
          },
          "execution_count": 19
        }
      ]
    },
    {
      "cell_type": "markdown",
      "metadata": {
        "id": "F4_c9Oyv1wCa",
        "colab_type": "text"
      },
      "source": [
        "**7. Avaliação do classificador**"
      ]
    },
    {
      "cell_type": "markdown",
      "metadata": {
        "id": "xxDo7YXI10us",
        "colab_type": "text"
      },
      "source": [
        "Acurácia"
      ]
    },
    {
      "cell_type": "code",
      "metadata": {
        "id": "VswjPszZ12K_",
        "colab_type": "code",
        "colab": {}
      },
      "source": [
        "from sklearn.metrics import accuracy_score"
      ],
      "execution_count": null,
      "outputs": []
    },
    {
      "cell_type": "code",
      "metadata": {
        "id": "58jawE7W2Fa6",
        "colab_type": "code",
        "colab": {
          "base_uri": "https://localhost:8080/",
          "height": 35
        },
        "outputId": "070d8d3d-47d0-47c1-abc6-7f6d37262270"
      },
      "source": [
        "accuracy = accuracy_score(y_test, classifier)\n",
        "round(accuracy,3)"
      ],
      "execution_count": null,
      "outputs": [
        {
          "output_type": "execute_result",
          "data": {
            "text/plain": [
              "0.833"
            ]
          },
          "metadata": {
            "tags": []
          },
          "execution_count": 21
        }
      ]
    },
    {
      "cell_type": "markdown",
      "metadata": {
        "id": "bLxLXMup2OZ-",
        "colab_type": "text"
      },
      "source": [
        "Precisão"
      ]
    },
    {
      "cell_type": "code",
      "metadata": {
        "id": "bRsuxBVW2Pf9",
        "colab_type": "code",
        "colab": {}
      },
      "source": [
        "from sklearn.metrics import precision_score"
      ],
      "execution_count": null,
      "outputs": []
    },
    {
      "cell_type": "code",
      "metadata": {
        "id": "_gA313ix2UXS",
        "colab_type": "code",
        "colab": {
          "base_uri": "https://localhost:8080/",
          "height": 35
        },
        "outputId": "cf7686af-3497-4581-982c-c3e3fc1a84f2"
      },
      "source": [
        "precision = precision_score(y_test, classifier)\n",
        "round(precision,3)"
      ],
      "execution_count": null,
      "outputs": [
        {
          "output_type": "execute_result",
          "data": {
            "text/plain": [
              "0.706"
            ]
          },
          "metadata": {
            "tags": []
          },
          "execution_count": 23
        }
      ]
    },
    {
      "cell_type": "markdown",
      "metadata": {
        "id": "zmSlszYa2b7F",
        "colab_type": "text"
      },
      "source": [
        "Recall"
      ]
    },
    {
      "cell_type": "code",
      "metadata": {
        "id": "QKNJ952q2dEQ",
        "colab_type": "code",
        "colab": {}
      },
      "source": [
        "from sklearn.metrics import recall_score"
      ],
      "execution_count": null,
      "outputs": []
    },
    {
      "cell_type": "code",
      "metadata": {
        "id": "HxE9baJ62hoK",
        "colab_type": "code",
        "colab": {
          "base_uri": "https://localhost:8080/",
          "height": 35
        },
        "outputId": "75a1a5de-486a-464b-c3d2-b1667188b3ac"
      },
      "source": [
        "recall = recall_score(y_test, classifier)\n",
        "round(recall, 3)"
      ],
      "execution_count": null,
      "outputs": [
        {
          "output_type": "execute_result",
          "data": {
            "text/plain": [
              "0.706"
            ]
          },
          "metadata": {
            "tags": []
          },
          "execution_count": 25
        }
      ]
    },
    {
      "cell_type": "markdown",
      "metadata": {
        "id": "1HtiJmxp2pU_",
        "colab_type": "text"
      },
      "source": [
        "F1-score"
      ]
    },
    {
      "cell_type": "code",
      "metadata": {
        "id": "St4y8bV72s_1",
        "colab_type": "code",
        "colab": {}
      },
      "source": [
        "from sklearn.metrics import f1_score"
      ],
      "execution_count": null,
      "outputs": []
    },
    {
      "cell_type": "code",
      "metadata": {
        "id": "h-a9q8w42oFx",
        "colab_type": "code",
        "colab": {
          "base_uri": "https://localhost:8080/",
          "height": 35
        },
        "outputId": "317ca9a4-e91f-48a0-b7b3-e7e669307f8b"
      },
      "source": [
        "f1 = f1_score(y_test, classifier)\n",
        "round(f1,3)"
      ],
      "execution_count": null,
      "outputs": [
        {
          "output_type": "execute_result",
          "data": {
            "text/plain": [
              "0.706"
            ]
          },
          "metadata": {
            "tags": []
          },
          "execution_count": 27
        }
      ]
    },
    {
      "cell_type": "markdown",
      "metadata": {
        "id": "y4EY1zr62_Zi",
        "colab_type": "text"
      },
      "source": [
        "**Curva ROC**"
      ]
    },
    {
      "cell_type": "code",
      "metadata": {
        "id": "WHi9Uo953G8R",
        "colab_type": "code",
        "colab": {}
      },
      "source": [
        "from sklearn.metrics import roc_curve"
      ],
      "execution_count": null,
      "outputs": []
    },
    {
      "cell_type": "code",
      "metadata": {
        "id": "LPlvgjEs2-iN",
        "colab_type": "code",
        "colab": {}
      },
      "source": [
        "fpr, tpr, _ = roc_curve(y_test,classifier)"
      ],
      "execution_count": null,
      "outputs": []
    },
    {
      "cell_type": "code",
      "metadata": {
        "id": "u3RmOZuy3MpJ",
        "colab_type": "code",
        "colab": {
          "base_uri": "https://localhost:8080/",
          "height": 295
        },
        "outputId": "ebce8a7d-ad2b-47e0-c0e5-a02faee3f1c4"
      },
      "source": [
        "plt.plot(fpr,tpr,marker='.')\n",
        "plt.title('Curva ROC')\n",
        "plt.ylabel('Taxa de verdadeiros eventos de morte')\n",
        "plt.xlabel('Taxa de falsos eventos de morte')\n",
        "plt.show()"
      ],
      "execution_count": null,
      "outputs": [
        {
          "output_type": "display_data",
          "data": {
            "image/png": "[encoded data removed]",
            "text/plain": [
              "<Figure size 432x288 with 1 Axes>"
            ]
          },
          "metadata": {
            "tags": [],
            "needs_background": "light"
          }
        }
      ]
    },
    {
      "cell_type": "markdown",
      "metadata": {
        "id": "khyOV3KD3aI3",
        "colab_type": "text"
      },
      "source": [
        "**Área sob a curva**"
      ]
    },
    {
      "cell_type": "code",
      "metadata": {
        "id": "Kio5oiLL3dsI",
        "colab_type": "code",
        "colab": {}
      },
      "source": [
        "from sklearn.metrics import roc_auc_score"
      ],
      "execution_count": null,
      "outputs": []
    },
    {
      "cell_type": "code",
      "metadata": {
        "id": "-tX5WPKp3j0Q",
        "colab_type": "code",
        "colab": {
          "base_uri": "https://localhost:8080/",
          "height": 35
        },
        "outputId": "1794d552-79b3-48a6-c984-8562928b98ab"
      },
      "source": [
        "auc = roc_auc_score(y_test,classifier)\n",
        "round(auc,3)"
      ],
      "execution_count": null,
      "outputs": [
        {
          "output_type": "execute_result",
          "data": {
            "text/plain": [
              "0.795"
            ]
          },
          "metadata": {
            "tags": []
          },
          "execution_count": 34
        }
      ]
    },
    {
      "cell_type": "markdown",
      "metadata": {
        "id": "wAJ1XP2i3mdR",
        "colab_type": "text"
      },
      "source": [
        "**Validação cruzada**"
      ]
    },
    {
      "cell_type": "code",
      "metadata": {
        "id": "mgJQYXu33p3_",
        "colab_type": "code",
        "colab": {}
      },
      "source": [
        "from sklearn.model_selection import cross_val_score"
      ],
      "execution_count": null,
      "outputs": []
    },
    {
      "cell_type": "code",
      "metadata": {
        "id": "zNIIyQ2T3t87",
        "colab_type": "code",
        "colab": {}
      },
      "source": [
        "classifier = MLPClassifier(hidden_layer_sizes=(100),activation='logistic',max_iter=1000)"
      ],
      "execution_count": null,
      "outputs": []
    },
    {
      "cell_type": "code",
      "metadata": {
        "id": "jUY-ijf_3wsO",
        "colab_type": "code",
        "colab": {
          "base_uri": "https://localhost:8080/",
          "height": 54
        },
        "outputId": "45efbfc5-470b-45e0-df7b-36d8f3c1f4a0"
      },
      "source": [
        "scores = cross_val_score(classifier,x,y,cv=10)\n",
        "scores"
      ],
      "execution_count": null,
      "outputs": [
        {
          "output_type": "execute_result",
          "data": {
            "text/plain": [
              "array([0.6       , 0.8       , 0.86666667, 0.83333333, 0.93333333,\n",
              "       0.86666667, 0.9       , 0.86666667, 0.73333333, 0.68965517])"
            ]
          },
          "metadata": {
            "tags": []
          },
          "execution_count": 37
        }
      ]
    },
    {
      "cell_type": "code",
      "metadata": {
        "id": "1XQkUz9Z3yd7",
        "colab_type": "code",
        "colab": {
          "base_uri": "https://localhost:8080/",
          "height": 35
        },
        "outputId": "bfa5a010-48bf-4161-82d3-5faf41b76da8"
      },
      "source": [
        "round(scores.mean(),3),round(scores.std(),3)"
      ],
      "execution_count": null,
      "outputs": [
        {
          "output_type": "execute_result",
          "data": {
            "text/plain": [
              "(0.809, 0.099)"
            ]
          },
          "metadata": {
            "tags": []
          },
          "execution_count": 38
        }
      ]
    },
    {
      "cell_type": "markdown",
      "metadata": {
        "id": "Ip5HJoWv373P",
        "colab_type": "text"
      },
      "source": [
        "**8. Comparando MLP com árvore de decisão e random forest**"
      ]
    },
    {
      "cell_type": "markdown",
      "metadata": {
        "id": "KQoJ4C344TRG",
        "colab_type": "text"
      },
      "source": [
        "Validação cruzada"
      ]
    },
    {
      "cell_type": "code",
      "metadata": {
        "id": "Xkxm3vda4Sv1",
        "colab_type": "code",
        "colab": {}
      },
      "source": [
        "from sklearn.tree import DecisionTreeClassifier\n",
        "from sklearn.ensemble import RandomForestClassifier"
      ],
      "execution_count": null,
      "outputs": []
    },
    {
      "cell_type": "code",
      "metadata": {
        "id": "6e-_GXgy4Xpq",
        "colab_type": "code",
        "colab": {}
      },
      "source": [
        "tree = DecisionTreeClassifier()\n",
        "tree_scores = cross_val_score(tree,x,y,cv=10)"
      ],
      "execution_count": null,
      "outputs": []
    },
    {
      "cell_type": "code",
      "metadata": {
        "id": "ECJpZTD74gDB",
        "colab_type": "code",
        "colab": {}
      },
      "source": [
        "forest = RandomForestClassifier()\n",
        "forest_scores = cross_val_score(forest,x,y,cv=10)"
      ],
      "execution_count": null,
      "outputs": []
    },
    {
      "cell_type": "code",
      "metadata": {
        "id": "eqP39-jj4mmX",
        "colab_type": "code",
        "colab": {}
      },
      "source": [
        "mlp = MLPClassifier(hidden_layer_sizes=(100),activation='logistic',max_iter=1000)"
      ],
      "execution_count": null,
      "outputs": []
    },
    {
      "cell_type": "code",
      "metadata": {
        "id": "_nCofo234ouz",
        "colab_type": "code",
        "colab": {}
      },
      "source": [
        "mlp_scores = cross_val_score(mlp,x,y,cv=10)"
      ],
      "execution_count": null,
      "outputs": []
    },
    {
      "cell_type": "code",
      "metadata": {
        "id": "QiEL8t1E4st8",
        "colab_type": "code",
        "colab": {
          "base_uri": "https://localhost:8080/",
          "height": 72
        },
        "outputId": "03c8e044-14ba-4a46-f41a-c3261df1a2fb"
      },
      "source": [
        "print('Árvore de Decisão: ', round(tree_scores.mean(),3),round(tree_scores.std(),3))\n",
        "print('Random Forest: ', round(forest_scores.mean(),3),round(forest_scores.std(),3))\n",
        "print('MLP:', round(mlp_scores.mean(),3),round(mlp_scores.std(),3))"
      ],
      "execution_count": null,
      "outputs": [
        {
          "output_type": "stream",
          "text": [
            "Árvore de Decisão:  0.679 0.148\n",
            "Random Forest:  0.736 0.144\n",
            "MLP: 0.816 0.095\n"
          ],
          "name": "stdout"
        }
      ]
    },
    {
      "cell_type": "markdown",
      "metadata": {
        "id": "o-pInWCW5RDa",
        "colab_type": "text"
      },
      "source": [
        "**9. Otimização de parâmetros**"
      ]
    },
    {
      "cell_type": "code",
      "metadata": {
        "id": "Xk_AqaRq5lDf",
        "colab_type": "code",
        "colab": {}
      },
      "source": [
        "from sklearn.model_selection import RandomizedSearchCV"
      ],
      "execution_count": null,
      "outputs": []
    },
    {
      "cell_type": "code",
      "metadata": {
        "id": "_zn4GSSa5nF1",
        "colab_type": "code",
        "colab": {}
      },
      "source": [
        "param_grid = [{'hidden_layer_sizes': [(10),(50),(100),(50,10),(100,50)],\n",
        "                'activation': ['identity', 'logistic', 'tanh', 'relu'],\n",
        "                'solver': ['lbfgs', 'sgd', 'adam'],\n",
        "                'max_iter': [2000, 3000, 4000]}]"
      ],
      "execution_count": null,
      "outputs": []
    },
    {
      "cell_type": "code",
      "metadata": {
        "id": "P2zz6dUR54V1",
        "colab_type": "code",
        "colab": {}
      },
      "source": [
        "mlp = RandomizedSearchCV(MLPClassifier(),param_grid,cv=5,scoring='accuracy')"
      ],
      "execution_count": null,
      "outputs": []
    },
    {
      "cell_type": "code",
      "metadata": {
        "id": "NFPNna-X564i",
        "colab_type": "code",
        "colab": {
          "base_uri": "https://localhost:8080/",
          "height": 435
        },
        "outputId": "cd9affb1-091f-4174-9a1f-0dc126182cf3"
      },
      "source": [
        "mlp.fit(x,y)"
      ],
      "execution_count": null,
      "outputs": [
        {
          "output_type": "execute_result",
          "data": {
            "text/plain": [
              "RandomizedSearchCV(cv=5, error_score=nan,\n",
              "                   estimator=MLPClassifier(activation='relu', alpha=0.0001,\n",
              "                                           batch_size='auto', beta_1=0.9,\n",
              "                                           beta_2=0.999, early_stopping=False,\n",
              "                                           epsilon=1e-08,\n",
              "                                           hidden_layer_sizes=(100,),\n",
              "                                           learning_rate='constant',\n",
              "                                           learning_rate_init=0.001,\n",
              "                                           max_fun=15000, max_iter=200,\n",
              "                                           momentum=0.9, n_iter_no_change=10,\n",
              "                                           nesterovs_momentum=True, power_t=0.5,\n",
              "                                           random...\n",
              "                                           verbose=False, warm_start=False),\n",
              "                   iid='deprecated', n_iter=10, n_jobs=None,\n",
              "                   param_distributions=[{'activation': ['identity', 'logistic',\n",
              "                                                        'tanh', 'relu'],\n",
              "                                         'hidden_layer_sizes': [10, 50, 100,\n",
              "                                                                (50, 10),\n",
              "                                                                (100, 50)],\n",
              "                                         'max_iter': [2000, 3000, 4000],\n",
              "                                         'solver': ['lbfgs', 'sgd', 'adam']}],\n",
              "                   pre_dispatch='2*n_jobs', random_state=None, refit=True,\n",
              "                   return_train_score=False, scoring='accuracy', verbose=0)"
            ]
          },
          "metadata": {
            "tags": []
          },
          "execution_count": 48
        }
      ]
    },
    {
      "cell_type": "code",
      "metadata": {
        "id": "OKc1TX-v6EQ3",
        "colab_type": "code",
        "colab": {
          "base_uri": "https://localhost:8080/",
          "height": 35
        },
        "outputId": "e2b69374-9933-4112-8a32-be3c99cf1c51"
      },
      "source": [
        "print(mlp.best_params_)"
      ],
      "execution_count": null,
      "outputs": [
        {
          "output_type": "stream",
          "text": [
            "{'solver': 'adam', 'max_iter': 2000, 'hidden_layer_sizes': 10, 'activation': 'tanh'}\n"
          ],
          "name": "stdout"
        }
      ]
    },
    {
      "cell_type": "code",
      "metadata": {
        "id": "FZoitM-06OgP",
        "colab_type": "code",
        "colab": {
          "base_uri": "https://localhost:8080/",
          "height": 35
        },
        "outputId": "555ed41f-c250-4a79-df16-3a60d7d55272"
      },
      "source": [
        "print(round(mlp.best_score_,3))"
      ],
      "execution_count": null,
      "outputs": [
        {
          "output_type": "stream",
          "text": [
            "0.792\n"
          ],
          "name": "stdout"
        }
      ]
    },
    {
      "cell_type": "code",
      "metadata": {
        "id": "A2--Ylcf65ee",
        "colab_type": "code",
        "colab": {}
      },
      "source": [
        "from sklearn.model_selection import GridSearchCV"
      ],
      "execution_count": null,
      "outputs": []
    },
    {
      "cell_type": "code",
      "metadata": {
        "id": "eGYRU2l8667A",
        "colab_type": "code",
        "colab": {}
      },
      "source": [
        "mlp = GridSearchCV(MLPClassifier(),param_grid,cv=5,scoring='accuracy')"
      ],
      "execution_count": null,
      "outputs": []
    },
    {
      "cell_type": "code",
      "metadata": {
        "id": "4dGF0hvi6-VH",
        "colab_type": "code",
        "colab": {
          "base_uri": "https://localhost:8080/",
          "height": 619
        },
        "outputId": "d4e2e085-425f-49e0-d23e-25322fbb6790"
      },
      "source": [
        "mlp.fit(x,y)"
      ],
      "execution_count": 53,
      "outputs": [
        {
          "output_type": "stream",
          "text": [
            "/usr/local/lib/python3.6/dist-packages/sklearn/neural_network/_multilayer_perceptron.py:470: ConvergenceWarning: lbfgs failed to converge (status=1):\n",
            "STOP: TOTAL NO. of ITERATIONS REACHED LIMIT.\n",
            "\n",
            "Increase the number of iterations (max_iter) or scale the data as shown in:\n",
            "    https://scikit-learn.org/stable/modules/preprocessing.html\n",
            "  self.n_iter_ = _check_optimize_result(\"lbfgs\", opt_res, self.max_iter)\n",
            "/usr/local/lib/python3.6/dist-packages/sklearn/neural_network/_multilayer_perceptron.py:573: UserWarning: Training interrupted by user.\n",
            "  warnings.warn(\"Training interrupted by user.\")\n",
            "/usr/local/lib/python3.6/dist-packages/sklearn/neural_network/_multilayer_perceptron.py:573: UserWarning: Training interrupted by user.\n",
            "  warnings.warn(\"Training interrupted by user.\")\n"
          ],
          "name": "stderr"
        },
        {
          "output_type": "execute_result",
          "data": {
            "text/plain": [
              "GridSearchCV(cv=5, error_score=nan,\n",
              "             estimator=MLPClassifier(activation='relu', alpha=0.0001,\n",
              "                                     batch_size='auto', beta_1=0.9,\n",
              "                                     beta_2=0.999, early_stopping=False,\n",
              "                                     epsilon=1e-08, hidden_layer_sizes=(100,),\n",
              "                                     learning_rate='constant',\n",
              "                                     learning_rate_init=0.001, max_fun=15000,\n",
              "                                     max_iter=200, momentum=0.9,\n",
              "                                     n_iter_no_change=10,\n",
              "                                     nesterovs_momentum=True, power_t=0.5,\n",
              "                                     random_state...\n",
              "                                     validation_fraction=0.1, verbose=False,\n",
              "                                     warm_start=False),\n",
              "             iid='deprecated', n_jobs=None,\n",
              "             param_grid=[{'activation': ['identity', 'logistic', 'tanh',\n",
              "                                         'relu'],\n",
              "                          'hidden_layer_sizes': [10, 50, 100, (50, 10),\n",
              "                                                 (100, 50)],\n",
              "                          'max_iter': [2000, 3000, 4000],\n",
              "                          'solver': ['lbfgs', 'sgd', 'adam']}],\n",
              "             pre_dispatch='2*n_jobs', refit=True, return_train_score=False,\n",
              "             scoring='accuracy', verbose=0)"
            ]
          },
          "metadata": {
            "tags": []
          },
          "execution_count": 53
        }
      ]
    },
    {
      "cell_type": "code",
      "metadata": {
        "id": "tmWKSxOj7XFn",
        "colab_type": "code",
        "colab": {
          "base_uri": "https://localhost:8080/",
          "height": 35
        },
        "outputId": "1d67d71b-3cbb-42d8-c79d-4321241f6b89"
      },
      "source": [
        "print(mlp.best_params_)"
      ],
      "execution_count": 55,
      "outputs": [
        {
          "output_type": "stream",
          "text": [
            "{'activation': 'identity', 'hidden_layer_sizes': 50, 'max_iter': 3000, 'solver': 'adam'}\n"
          ],
          "name": "stdout"
        }
      ]
    },
    {
      "cell_type": "code",
      "metadata": {
        "id": "tsZjJCgM7X8A",
        "colab_type": "code",
        "colab": {
          "base_uri": "https://localhost:8080/",
          "height": 35
        },
        "outputId": "8c3474e6-4151-4696-978f-6a2b35aa138b"
      },
      "source": [
        "print(mlp.best_score_)"
      ],
      "execution_count": 56,
      "outputs": [
        {
          "output_type": "stream",
          "text": [
            "0.805593220338983\n"
          ],
          "name": "stdout"
        }
      ]
    },
    {
      "cell_type": "code",
      "metadata": {
        "id": "1IWpFY8x7ZOC",
        "colab_type": "code",
        "colab": {
          "base_uri": "https://localhost:8080/",
          "height": 1000
        },
        "outputId": "a3a4af6f-8dfb-4f20-a486-34ea6840c464"
      },
      "source": [
        "mlp.cv_results_"
      ],
      "execution_count": 57,
      "outputs": [
        {
          "output_type": "execute_result",
          "data": {
            "text/plain": [
              "{'mean_fit_time': array([0.01187   , 0.55305033, 0.36491971, 0.00920348, 0.50079346,\n",
              "        0.3316442 , 0.00951767, 0.53492103, 0.34454098, 0.02256804,\n",
              "        0.86741843, 0.37091093, 0.01719828, 0.90943956, 0.36557279,\n",
              "        0.01721716, 0.91782784, 0.36926813, 0.02571559, 1.01897912,\n",
              "        0.3466619 , 0.02459116, 1.02156534, 0.34411879, 0.02172871,\n",
              "        1.04735456, 0.35181284, 0.0247551 , 0.56834593, 0.17289791,\n",
              "        0.01645842, 0.5965692 , 0.15616355, 0.01870384, 0.62578187,\n",
              "        0.17917542, 0.06966543, 1.24302416, 0.25294647, 0.05370345,\n",
              "        1.34175577, 0.22824411, 0.0562839 , 1.30433044, 0.23599501,\n",
              "        0.38353047, 0.0712904 , 0.78822975, 0.28631592, 0.05719762,\n",
              "        0.75094738, 0.52227407, 0.05567436, 0.81404839, 0.48044734,\n",
              "        0.06344848, 1.17606826, 0.4303339 , 0.05700164, 1.06788354,\n",
              "        0.42516904, 0.06970735, 1.14314418, 0.78970938, 0.06887598,\n",
              "        1.42477479, 0.74611206, 0.06638684, 1.37364197, 0.7838079 ,\n",
              "        0.06402044, 1.35708666, 0.32317791, 0.06157169, 0.06458225,\n",
              "        0.34666009, 0.10521727, 0.16817694, 0.31383114, 0.08693333,\n",
              "        0.25339551, 1.85508924, 0.13391013, 0.87973781, 1.34505734,\n",
              "        0.16253972, 0.64678235, 1.02084346, 0.16378727, 1.02924771,\n",
              "        0.2041625 , 0.72479005, 0.39937348, 0.18920803, 0.57877417,\n",
              "        0.41485858, 0.33194475, 0.770362  , 0.45354285, 0.40530739,\n",
              "        1.57114096, 0.6353549 , 0.45433588, 1.65295725, 0.60786529,\n",
              "        0.51906271, 1.61713181, 0.65842409, 0.75264902, 2.12347484,\n",
              "        0.66812906, 0.77270288, 2.15408139, 0.66968608, 0.80744128,\n",
              "        2.1484745 , 0.61744213, 0.3609529 , 1.15608039, 0.38720169,\n",
              "        0.33396921, 1.13683515, 0.34537587, 0.21520019, 1.0720902 ,\n",
              "        0.50435266, 1.01465511, 2.6334784 , 0.41706848, 1.04842267,\n",
              "        2.61813455, 0.43470149, 1.17618442, 2.66968498, 0.42678628,\n",
              "        0.13772206, 0.67704868, 0.51205668, 0.10309343, 0.85584006,\n",
              "        0.47758255, 0.15990357, 0.51759324, 0.5228384 , 0.56665883,\n",
              "        1.6366169 , 0.86210709, 0.69138489, 1.61433272, 0.82993927,\n",
              "        0.55907354, 1.59383826, 1.0492465 , 0.83016305, 2.04247303,\n",
              "        0.73014646, 0.67913418, 2.07491093, 0.96601958, 0.73914061,\n",
              "        2.00381222, 0.88785648, 0.31313529, 1.1113327 , 0.86802163,\n",
              "        0.38639035, 1.28090115, 0.81850214, 0.31531153, 1.08635011,\n",
              "        1.09223762, 1.04672914, 2.56709476, 1.63287134, 1.14692812,\n",
              "        3.07944846, 1.4657547 , 0.81567245, 3.0946733 , 1.97334151]),\n",
              " 'mean_score_time': array([0.00167222, 0.00136738, 0.00138173, 0.00131936, 0.00134282,\n",
              "        0.00136023, 0.00135088, 0.00135069, 0.00140033, 0.00217962,\n",
              "        0.00179529, 0.00177097, 0.00174522, 0.00175304, 0.00179939,\n",
              "        0.00180073, 0.00181031, 0.00189247, 0.0017827 , 0.00184979,\n",
              "        0.00188484, 0.00187812, 0.00188203, 0.00201569, 0.00181165,\n",
              "        0.00213804, 0.00190935, 0.00176473, 0.00172863, 0.00151148,\n",
              "        0.00142326, 0.00140095, 0.00137482, 0.00161591, 0.00137343,\n",
              "        0.00153413, 0.00188775, 0.00194016, 0.00192003, 0.0018826 ,\n",
              "        0.00200715, 0.00193238, 0.00187087, 0.00192719, 0.00187378,\n",
              "        0.00149608, 0.00137634, 0.00139003, 0.00136704, 0.00136666,\n",
              "        0.00135989, 0.00134578, 0.0013658 , 0.00139012, 0.00191255,\n",
              "        0.0018877 , 0.00191116, 0.00190887, 0.00186162, 0.00191898,\n",
              "        0.00189824, 0.00189724, 0.00209241, 0.00207133, 0.00208387,\n",
              "        0.00205364, 0.00205197, 0.00207338, 0.00208898, 0.00204439,\n",
              "        0.00202684, 0.00205584, 0.00147781, 0.00147343, 0.00148163,\n",
              "        0.00143695, 0.00149322, 0.00146198, 0.00152154, 0.00144663,\n",
              "        0.00148325, 0.00221224, 0.00225706, 0.00227213, 0.00223851,\n",
              "        0.00229359, 0.00221987, 0.00222225, 0.00342507, 0.00232496,\n",
              "        0.00135956, 0.00137339, 0.00137525, 0.00140576, 0.00140028,\n",
              "        0.00136375, 0.00138731, 0.00137434, 0.00140858, 0.00202112,\n",
              "        0.00195751, 0.00197368, 0.00202904, 0.00193744, 0.00195336,\n",
              "        0.00204701, 0.00195847, 0.00197306, 0.0021739 , 0.00251513,\n",
              "        0.00207067, 0.00215425, 0.00207071, 0.00209303, 0.00222869,\n",
              "        0.00205803, 0.00225649, 0.00162172, 0.00146465, 0.00149965,\n",
              "        0.00151072, 0.00149546, 0.00145822, 0.00150499, 0.00150137,\n",
              "        0.0014894 , 0.00240388, 0.00234036, 0.0023488 , 0.00236416,\n",
              "        0.00230713, 0.00236416, 0.00243859, 0.00232124, 0.00230455,\n",
              "        0.00147748, 0.00135641, 0.00140333, 0.00135579, 0.00152421,\n",
              "        0.00137968, 0.00141377, 0.00137196, 0.00137963, 0.00185795,\n",
              "        0.00186505, 0.00186958, 0.00187736, 0.00189233, 0.00185337,\n",
              "        0.00190959, 0.00184922, 0.0018434 , 0.00190296, 0.00191565,\n",
              "        0.00196462, 0.00196958, 0.00195045, 0.0019484 , 0.00191507,\n",
              "        0.00206575, 0.00193486, 0.00159388, 0.00144987, 0.00150003,\n",
              "        0.0015408 , 0.00152216, 0.00201802, 0.00149741, 0.00148544,\n",
              "        0.00145893, 0.00210552, 0.00236812, 0.00276146, 0.00207796,\n",
              "        0.00222325, 0.0021174 , 0.00203085, 0.00212517, 0.00205307]),\n",
              " 'mean_test_score': array([0.79559322, 0.76225989, 0.79892655, 0.79559322, 0.72559322,\n",
              "        0.78892655, 0.79559322, 0.76559322, 0.79225989, 0.79559322,\n",
              "        0.75559322, 0.78892655, 0.79559322, 0.75892655, 0.80559322,\n",
              "        0.79559322, 0.76559322, 0.78559322, 0.79559322, 0.75892655,\n",
              "        0.79559322, 0.79559322, 0.76225989, 0.79892655, 0.79559322,\n",
              "        0.76892655, 0.80225989, 0.79559322, 0.76559322, 0.78225989,\n",
              "        0.79559322, 0.79892655, 0.79225989, 0.79559322, 0.76559322,\n",
              "        0.79559322, 0.79559322, 0.77559322, 0.79225989, 0.79559322,\n",
              "        0.77559322, 0.77225989, 0.79559322, 0.75559322, 0.79892655,\n",
              "        0.67898305, 0.67892655, 0.78892655, 0.67559322, 0.67892655,\n",
              "        0.77892655, 0.65225989, 0.67892655, 0.78892655, 0.67242938,\n",
              "        0.67892655, 0.79225989, 0.64892655, 0.67892655, 0.78892655,\n",
              "        0.62237288, 0.67892655, 0.78225989, 0.63898305, 0.67892655,\n",
              "        0.79225989, 0.64898305, 0.67892655, 0.79559322, 0.67237288,\n",
              "        0.67892655, 0.78559322, 0.66225989, 0.67892655, 0.67892655,\n",
              "        0.69559322, 0.67892655, 0.71892655, 0.67564972, 0.67892655,\n",
              "        0.67892655, 0.70225989, 0.67892655, 0.71225989, 0.62225989,\n",
              "        0.67892655, 0.71559322, 0.65225989, 0.67892655, 0.78559322,\n",
              "        0.68898305, 0.74225989, 0.80225989, 0.69564972, 0.75225989,\n",
              "        0.80225989, 0.68898305, 0.75225989, 0.79559322, 0.67564972,\n",
              "        0.76225989, 0.78892655, 0.65892655, 0.75559322, 0.79225989,\n",
              "        0.64559322, 0.73225989, 0.79559322, 0.67570621, 0.76559322,\n",
              "        0.79559322, 0.65903955, 0.75559322, 0.79225989, 0.67231638,\n",
              "        0.76225989, 0.79892655, 0.70564972, 0.76225989, 0.80225989,\n",
              "        0.67242938, 0.76225989, 0.78225989, 0.70225989, 0.76559322,\n",
              "        0.76892655, 0.67225989, 0.76225989, 0.77559322, 0.69564972,\n",
              "        0.77892655, 0.78892655, 0.68237288, 0.78559322, 0.79559322,\n",
              "        0.70898305, 0.73559322, 0.77559322, 0.68559322, 0.77559322,\n",
              "        0.78225989, 0.70564972, 0.71559322, 0.79892655, 0.63570621,\n",
              "        0.75892655, 0.75892655, 0.65898305, 0.75225989, 0.78225989,\n",
              "        0.66570621, 0.77225989, 0.76559322, 0.67225989, 0.75225989,\n",
              "        0.79225989, 0.63887006, 0.74892655, 0.76225989, 0.59559322,\n",
              "        0.76225989, 0.77892655, 0.68564972, 0.73559322, 0.74892655,\n",
              "        0.67559322, 0.77559322, 0.74559322, 0.68892655, 0.73559322,\n",
              "        0.74892655, 0.68225989, 0.77225989, 0.73225989, 0.64898305,\n",
              "        0.77225989, 0.71225989, 0.64903955, 0.78559322, 0.71225989]),\n",
              " 'param_activation': masked_array(data=['identity', 'identity', 'identity', 'identity',\n",
              "                    'identity', 'identity', 'identity', 'identity',\n",
              "                    'identity', 'identity', 'identity', 'identity',\n",
              "                    'identity', 'identity', 'identity', 'identity',\n",
              "                    'identity', 'identity', 'identity', 'identity',\n",
              "                    'identity', 'identity', 'identity', 'identity',\n",
              "                    'identity', 'identity', 'identity', 'identity',\n",
              "                    'identity', 'identity', 'identity', 'identity',\n",
              "                    'identity', 'identity', 'identity', 'identity',\n",
              "                    'identity', 'identity', 'identity', 'identity',\n",
              "                    'identity', 'identity', 'identity', 'identity',\n",
              "                    'identity', 'logistic', 'logistic', 'logistic',\n",
              "                    'logistic', 'logistic', 'logistic', 'logistic',\n",
              "                    'logistic', 'logistic', 'logistic', 'logistic',\n",
              "                    'logistic', 'logistic', 'logistic', 'logistic',\n",
              "                    'logistic', 'logistic', 'logistic', 'logistic',\n",
              "                    'logistic', 'logistic', 'logistic', 'logistic',\n",
              "                    'logistic', 'logistic', 'logistic', 'logistic',\n",
              "                    'logistic', 'logistic', 'logistic', 'logistic',\n",
              "                    'logistic', 'logistic', 'logistic', 'logistic',\n",
              "                    'logistic', 'logistic', 'logistic', 'logistic',\n",
              "                    'logistic', 'logistic', 'logistic', 'logistic',\n",
              "                    'logistic', 'logistic', 'tanh', 'tanh', 'tanh', 'tanh',\n",
              "                    'tanh', 'tanh', 'tanh', 'tanh', 'tanh', 'tanh', 'tanh',\n",
              "                    'tanh', 'tanh', 'tanh', 'tanh', 'tanh', 'tanh', 'tanh',\n",
              "                    'tanh', 'tanh', 'tanh', 'tanh', 'tanh', 'tanh', 'tanh',\n",
              "                    'tanh', 'tanh', 'tanh', 'tanh', 'tanh', 'tanh', 'tanh',\n",
              "                    'tanh', 'tanh', 'tanh', 'tanh', 'tanh', 'tanh', 'tanh',\n",
              "                    'tanh', 'tanh', 'tanh', 'tanh', 'tanh', 'tanh', 'relu',\n",
              "                    'relu', 'relu', 'relu', 'relu', 'relu', 'relu', 'relu',\n",
              "                    'relu', 'relu', 'relu', 'relu', 'relu', 'relu', 'relu',\n",
              "                    'relu', 'relu', 'relu', 'relu', 'relu', 'relu', 'relu',\n",
              "                    'relu', 'relu', 'relu', 'relu', 'relu', 'relu', 'relu',\n",
              "                    'relu', 'relu', 'relu', 'relu', 'relu', 'relu', 'relu',\n",
              "                    'relu', 'relu', 'relu', 'relu', 'relu', 'relu', 'relu',\n",
              "                    'relu', 'relu'],\n",
              "              mask=[False, False, False, False, False, False, False, False,\n",
              "                    False, False, False, False, False, False, False, False,\n",
              "                    False, False, False, False, False, False, False, False,\n",
              "                    False, False, False, False, False, False, False, False,\n",
              "                    False, False, False, False, False, False, False, False,\n",
              "                    False, False, False, False, False, False, False, False,\n",
              "                    False, False, False, False, False, False, False, False,\n",
              "                    False, False, False, False, False, False, False, False,\n",
              "                    False, False, False, False, False, False, False, False,\n",
              "                    False, False, False, False, False, False, False, False,\n",
              "                    False, False, False, False, False, False, False, False,\n",
              "                    False, False, False, False, False, False, False, False,\n",
              "                    False, False, False, False, False, False, False, False,\n",
              "                    False, False, False, False, False, False, False, False,\n",
              "                    False, False, False, False, False, False, False, False,\n",
              "                    False, False, False, False, False, False, False, False,\n",
              "                    False, False, False, False, False, False, False, False,\n",
              "                    False, False, False, False, False, False, False, False,\n",
              "                    False, False, False, False, False, False, False, False,\n",
              "                    False, False, False, False, False, False, False, False,\n",
              "                    False, False, False, False, False, False, False, False,\n",
              "                    False, False, False, False, False, False, False, False,\n",
              "                    False, False, False, False],\n",
              "        fill_value='?',\n",
              "             dtype=object),\n",
              " 'param_hidden_layer_sizes': masked_array(data=[10, 10, 10, 10, 10, 10, 10, 10, 10, 50, 50, 50, 50, 50,\n",
              "                    50, 50, 50, 50, 100, 100, 100, 100, 100, 100, 100, 100,\n",
              "                    100, (50, 10), (50, 10), (50, 10), (50, 10), (50, 10),\n",
              "                    (50, 10), (50, 10), (50, 10), (50, 10), (100, 50),\n",
              "                    (100, 50), (100, 50), (100, 50), (100, 50), (100, 50),\n",
              "                    (100, 50), (100, 50), (100, 50), 10, 10, 10, 10, 10,\n",
              "                    10, 10, 10, 10, 50, 50, 50, 50, 50, 50, 50, 50, 50,\n",
              "                    100, 100, 100, 100, 100, 100, 100, 100, 100, (50, 10),\n",
              "                    (50, 10), (50, 10), (50, 10), (50, 10), (50, 10),\n",
              "                    (50, 10), (50, 10), (50, 10), (100, 50), (100, 50),\n",
              "                    (100, 50), (100, 50), (100, 50), (100, 50), (100, 50),\n",
              "                    (100, 50), (100, 50), 10, 10, 10, 10, 10, 10, 10, 10,\n",
              "                    10, 50, 50, 50, 50, 50, 50, 50, 50, 50, 100, 100, 100,\n",
              "                    100, 100, 100, 100, 100, 100, (50, 10), (50, 10),\n",
              "                    (50, 10), (50, 10), (50, 10), (50, 10), (50, 10),\n",
              "                    (50, 10), (50, 10), (100, 50), (100, 50), (100, 50),\n",
              "                    (100, 50), (100, 50), (100, 50), (100, 50), (100, 50),\n",
              "                    (100, 50), 10, 10, 10, 10, 10, 10, 10, 10, 10, 50, 50,\n",
              "                    50, 50, 50, 50, 50, 50, 50, 100, 100, 100, 100, 100,\n",
              "                    100, 100, 100, 100, (50, 10), (50, 10), (50, 10),\n",
              "                    (50, 10), (50, 10), (50, 10), (50, 10), (50, 10),\n",
              "                    (50, 10), (100, 50), (100, 50), (100, 50), (100, 50),\n",
              "                    (100, 50), (100, 50), (100, 50), (100, 50), (100, 50)],\n",
              "              mask=[False, False, False, False, False, False, False, False,\n",
              "                    False, False, False, False, False, False, False, False,\n",
              "                    False, False, False, False, False, False, False, False,\n",
              "                    False, False, False, False, False, False, False, False,\n",
              "                    False, False, False, False, False, False, False, False,\n",
              "                    False, False, False, False, False, False, False, False,\n",
              "                    False, False, False, False, False, False, False, False,\n",
              "                    False, False, False, False, False, False, False, False,\n",
              "                    False, False, False, False, False, False, False, False,\n",
              "                    False, False, False, False, False, False, False, False,\n",
              "                    False, False, False, False, False, False, False, False,\n",
              "                    False, False, False, False, False, False, False, False,\n",
              "                    False, False, False, False, False, False, False, False,\n",
              "                    False, False, False, False, False, False, False, False,\n",
              "                    False, False, False, False, False, False, False, False,\n",
              "                    False, False, False, False, False, False, False, False,\n",
              "                    False, False, False, False, False, False, False, False,\n",
              "                    False, False, False, False, False, False, False, False,\n",
              "                    False, False, False, False, False, False, False, False,\n",
              "                    False, False, False, False, False, False, False, False,\n",
              "                    False, False, False, False, False, False, False, False,\n",
              "                    False, False, False, False, False, False, False, False,\n",
              "                    False, False, False, False],\n",
              "        fill_value='?',\n",
              "             dtype=object),\n",
              " 'param_max_iter': masked_array(data=[2000, 2000, 2000, 3000, 3000, 3000, 4000, 4000, 4000,\n",
              "                    2000, 2000, 2000, 3000, 3000, 3000, 4000, 4000, 4000,\n",
              "                    2000, 2000, 2000, 3000, 3000, 3000, 4000, 4000, 4000,\n",
              "                    2000, 2000, 2000, 3000, 3000, 3000, 4000, 4000, 4000,\n",
              "                    2000, 2000, 2000, 3000, 3000, 3000, 4000, 4000, 4000,\n",
              "                    2000, 2000, 2000, 3000, 3000, 3000, 4000, 4000, 4000,\n",
              "                    2000, 2000, 2000, 3000, 3000, 3000, 4000, 4000, 4000,\n",
              "                    2000, 2000, 2000, 3000, 3000, 3000, 4000, 4000, 4000,\n",
              "                    2000, 2000, 2000, 3000, 3000, 3000, 4000, 4000, 4000,\n",
              "                    2000, 2000, 2000, 3000, 3000, 3000, 4000, 4000, 4000,\n",
              "                    2000, 2000, 2000, 3000, 3000, 3000, 4000, 4000, 4000,\n",
              "                    2000, 2000, 2000, 3000, 3000, 3000, 4000, 4000, 4000,\n",
              "                    2000, 2000, 2000, 3000, 3000, 3000, 4000, 4000, 4000,\n",
              "                    2000, 2000, 2000, 3000, 3000, 3000, 4000, 4000, 4000,\n",
              "                    2000, 2000, 2000, 3000, 3000, 3000, 4000, 4000, 4000,\n",
              "                    2000, 2000, 2000, 3000, 3000, 3000, 4000, 4000, 4000,\n",
              "                    2000, 2000, 2000, 3000, 3000, 3000, 4000, 4000, 4000,\n",
              "                    2000, 2000, 2000, 3000, 3000, 3000, 4000, 4000, 4000,\n",
              "                    2000, 2000, 2000, 3000, 3000, 3000, 4000, 4000, 4000,\n",
              "                    2000, 2000, 2000, 3000, 3000, 3000, 4000, 4000, 4000],\n",
              "              mask=[False, False, False, False, False, False, False, False,\n",
              "                    False, False, False, False, False, False, False, False,\n",
              "                    False, False, False, False, False, False, False, False,\n",
              "                    False, False, False, False, False, False, False, False,\n",
              "                    False, False, False, False, False, False, False, False,\n",
              "                    False, False, False, False, False, False, False, False,\n",
              "                    False, False, False, False, False, False, False, False,\n",
              "                    False, False, False, False, False, False, False, False,\n",
              "                    False, False, False, False, False, False, False, False,\n",
              "                    False, False, False, False, False, False, False, False,\n",
              "                    False, False, False, False, False, False, False, False,\n",
              "                    False, False, False, False, False, False, False, False,\n",
              "                    False, False, False, False, False, False, False, False,\n",
              "                    False, False, False, False, False, False, False, False,\n",
              "                    False, False, False, False, False, False, False, False,\n",
              "                    False, False, False, False, False, False, False, False,\n",
              "                    False, False, False, False, False, False, False, False,\n",
              "                    False, False, False, False, False, False, False, False,\n",
              "                    False, False, False, False, False, False, False, False,\n",
              "                    False, False, False, False, False, False, False, False,\n",
              "                    False, False, False, False, False, False, False, False,\n",
              "                    False, False, False, False, False, False, False, False,\n",
              "                    False, False, False, False],\n",
              "        fill_value='?',\n",
              "             dtype=object),\n",
              " 'param_solver': masked_array(data=['lbfgs', 'sgd', 'adam', 'lbfgs', 'sgd', 'adam',\n",
              "                    'lbfgs', 'sgd', 'adam', 'lbfgs', 'sgd', 'adam',\n",
              "                    'lbfgs', 'sgd', 'adam', 'lbfgs', 'sgd', 'adam',\n",
              "                    'lbfgs', 'sgd', 'adam', 'lbfgs', 'sgd', 'adam',\n",
              "                    'lbfgs', 'sgd', 'adam', 'lbfgs', 'sgd', 'adam',\n",
              "                    'lbfgs', 'sgd', 'adam', 'lbfgs', 'sgd', 'adam',\n",
              "                    'lbfgs', 'sgd', 'adam', 'lbfgs', 'sgd', 'adam',\n",
              "                    'lbfgs', 'sgd', 'adam', 'lbfgs', 'sgd', 'adam',\n",
              "                    'lbfgs', 'sgd', 'adam', 'lbfgs', 'sgd', 'adam',\n",
              "                    'lbfgs', 'sgd', 'adam', 'lbfgs', 'sgd', 'adam',\n",
              "                    'lbfgs', 'sgd', 'adam', 'lbfgs', 'sgd', 'adam',\n",
              "                    'lbfgs', 'sgd', 'adam', 'lbfgs', 'sgd', 'adam',\n",
              "                    'lbfgs', 'sgd', 'adam', 'lbfgs', 'sgd', 'adam',\n",
              "                    'lbfgs', 'sgd', 'adam', 'lbfgs', 'sgd', 'adam',\n",
              "                    'lbfgs', 'sgd', 'adam', 'lbfgs', 'sgd', 'adam',\n",
              "                    'lbfgs', 'sgd', 'adam', 'lbfgs', 'sgd', 'adam',\n",
              "                    'lbfgs', 'sgd', 'adam', 'lbfgs', 'sgd', 'adam',\n",
              "                    'lbfgs', 'sgd', 'adam', 'lbfgs', 'sgd', 'adam',\n",
              "                    'lbfgs', 'sgd', 'adam', 'lbfgs', 'sgd', 'adam',\n",
              "                    'lbfgs', 'sgd', 'adam', 'lbfgs', 'sgd', 'adam',\n",
              "                    'lbfgs', 'sgd', 'adam', 'lbfgs', 'sgd', 'adam',\n",
              "                    'lbfgs', 'sgd', 'adam', 'lbfgs', 'sgd', 'adam',\n",
              "                    'lbfgs', 'sgd', 'adam', 'lbfgs', 'sgd', 'adam',\n",
              "                    'lbfgs', 'sgd', 'adam', 'lbfgs', 'sgd', 'adam',\n",
              "                    'lbfgs', 'sgd', 'adam', 'lbfgs', 'sgd', 'adam',\n",
              "                    'lbfgs', 'sgd', 'adam', 'lbfgs', 'sgd', 'adam',\n",
              "                    'lbfgs', 'sgd', 'adam', 'lbfgs', 'sgd', 'adam',\n",
              "                    'lbfgs', 'sgd', 'adam', 'lbfgs', 'sgd', 'adam',\n",
              "                    'lbfgs', 'sgd', 'adam', 'lbfgs', 'sgd', 'adam',\n",
              "                    'lbfgs', 'sgd', 'adam', 'lbfgs', 'sgd', 'adam'],\n",
              "              mask=[False, False, False, False, False, False, False, False,\n",
              "                    False, False, False, False, False, False, False, False,\n",
              "                    False, False, False, False, False, False, False, False,\n",
              "                    False, False, False, False, False, False, False, False,\n",
              "                    False, False, False, False, False, False, False, False,\n",
              "                    False, False, False, False, False, False, False, False,\n",
              "                    False, False, False, False, False, False, False, False,\n",
              "                    False, False, False, False, False, False, False, False,\n",
              "                    False, False, False, False, False, False, False, False,\n",
              "                    False, False, False, False, False, False, False, False,\n",
              "                    False, False, False, False, False, False, False, False,\n",
              "                    False, False, False, False, False, False, False, False,\n",
              "                    False, False, False, False, False, False, False, False,\n",
              "                    False, False, False, False, False, False, False, False,\n",
              "                    False, False, False, False, False, False, False, False,\n",
              "                    False, False, False, False, False, False, False, False,\n",
              "                    False, False, False, False, False, False, False, False,\n",
              "                    False, False, False, False, False, False, False, False,\n",
              "                    False, False, False, False, False, False, False, False,\n",
              "                    False, False, False, False, False, False, False, False,\n",
              "                    False, False, False, False, False, False, False, False,\n",
              "                    False, False, False, False, False, False, False, False,\n",
              "                    False, False, False, False],\n",
              "        fill_value='?',\n",
              "             dtype=object),\n",
              " 'params': [{'activation': 'identity',\n",
              "   'hidden_layer_sizes': 10,\n",
              "   'max_iter': 2000,\n",
              "   'solver': 'lbfgs'},\n",
              "  {'activation': 'identity',\n",
              "   'hidden_layer_sizes': 10,\n",
              "   'max_iter': 2000,\n",
              "   'solver': 'sgd'},\n",
              "  {'activation': 'identity',\n",
              "   'hidden_layer_sizes': 10,\n",
              "   'max_iter': 2000,\n",
              "   'solver': 'adam'},\n",
              "  {'activation': 'identity',\n",
              "   'hidden_layer_sizes': 10,\n",
              "   'max_iter': 3000,\n",
              "   'solver': 'lbfgs'},\n",
              "  {'activation': 'identity',\n",
              "   'hidden_layer_sizes': 10,\n",
              "   'max_iter': 3000,\n",
              "   'solver': 'sgd'},\n",
              "  {'activation': 'identity',\n",
              "   'hidden_layer_sizes': 10,\n",
              "   'max_iter': 3000,\n",
              "   'solver': 'adam'},\n",
              "  {'activation': 'identity',\n",
              "   'hidden_layer_sizes': 10,\n",
              "   'max_iter': 4000,\n",
              "   'solver': 'lbfgs'},\n",
              "  {'activation': 'identity',\n",
              "   'hidden_layer_sizes': 10,\n",
              "   'max_iter': 4000,\n",
              "   'solver': 'sgd'},\n",
              "  {'activation': 'identity',\n",
              "   'hidden_layer_sizes': 10,\n",
              "   'max_iter': 4000,\n",
              "   'solver': 'adam'},\n",
              "  {'activation': 'identity',\n",
              "   'hidden_layer_sizes': 50,\n",
              "   'max_iter': 2000,\n",
              "   'solver': 'lbfgs'},\n",
              "  {'activation': 'identity',\n",
              "   'hidden_layer_sizes': 50,\n",
              "   'max_iter': 2000,\n",
              "   'solver': 'sgd'},\n",
              "  {'activation': 'identity',\n",
              "   'hidden_layer_sizes': 50,\n",
              "   'max_iter': 2000,\n",
              "   'solver': 'adam'},\n",
              "  {'activation': 'identity',\n",
              "   'hidden_layer_sizes': 50,\n",
              "   'max_iter': 3000,\n",
              "   'solver': 'lbfgs'},\n",
              "  {'activation': 'identity',\n",
              "   'hidden_layer_sizes': 50,\n",
              "   'max_iter': 3000,\n",
              "   'solver': 'sgd'},\n",
              "  {'activation': 'identity',\n",
              "   'hidden_layer_sizes': 50,\n",
              "   'max_iter': 3000,\n",
              "   'solver': 'adam'},\n",
              "  {'activation': 'identity',\n",
              "   'hidden_layer_sizes': 50,\n",
              "   'max_iter': 4000,\n",
              "   'solver': 'lbfgs'},\n",
              "  {'activation': 'identity',\n",
              "   'hidden_layer_sizes': 50,\n",
              "   'max_iter': 4000,\n",
              "   'solver': 'sgd'},\n",
              "  {'activation': 'identity',\n",
              "   'hidden_layer_sizes': 50,\n",
              "   'max_iter': 4000,\n",
              "   'solver': 'adam'},\n",
              "  {'activation': 'identity',\n",
              "   'hidden_layer_sizes': 100,\n",
              "   'max_iter': 2000,\n",
              "   'solver': 'lbfgs'},\n",
              "  {'activation': 'identity',\n",
              "   'hidden_layer_sizes': 100,\n",
              "   'max_iter': 2000,\n",
              "   'solver': 'sgd'},\n",
              "  {'activation': 'identity',\n",
              "   'hidden_layer_sizes': 100,\n",
              "   'max_iter': 2000,\n",
              "   'solver': 'adam'},\n",
              "  {'activation': 'identity',\n",
              "   'hidden_layer_sizes': 100,\n",
              "   'max_iter': 3000,\n",
              "   'solver': 'lbfgs'},\n",
              "  {'activation': 'identity',\n",
              "   'hidden_layer_sizes': 100,\n",
              "   'max_iter': 3000,\n",
              "   'solver': 'sgd'},\n",
              "  {'activation': 'identity',\n",
              "   'hidden_layer_sizes': 100,\n",
              "   'max_iter': 3000,\n",
              "   'solver': 'adam'},\n",
              "  {'activation': 'identity',\n",
              "   'hidden_layer_sizes': 100,\n",
              "   'max_iter': 4000,\n",
              "   'solver': 'lbfgs'},\n",
              "  {'activation': 'identity',\n",
              "   'hidden_layer_sizes': 100,\n",
              "   'max_iter': 4000,\n",
              "   'solver': 'sgd'},\n",
              "  {'activation': 'identity',\n",
              "   'hidden_layer_sizes': 100,\n",
              "   'max_iter': 4000,\n",
              "   'solver': 'adam'},\n",
              "  {'activation': 'identity',\n",
              "   'hidden_layer_sizes': (50, 10),\n",
              "   'max_iter': 2000,\n",
              "   'solver': 'lbfgs'},\n",
              "  {'activation': 'identity',\n",
              "   'hidden_layer_sizes': (50, 10),\n",
              "   'max_iter': 2000,\n",
              "   'solver': 'sgd'},\n",
              "  {'activation': 'identity',\n",
              "   'hidden_layer_sizes': (50, 10),\n",
              "   'max_iter': 2000,\n",
              "   'solver': 'adam'},\n",
              "  {'activation': 'identity',\n",
              "   'hidden_layer_sizes': (50, 10),\n",
              "   'max_iter': 3000,\n",
              "   'solver': 'lbfgs'},\n",
              "  {'activation': 'identity',\n",
              "   'hidden_layer_sizes': (50, 10),\n",
              "   'max_iter': 3000,\n",
              "   'solver': 'sgd'},\n",
              "  {'activation': 'identity',\n",
              "   'hidden_layer_sizes': (50, 10),\n",
              "   'max_iter': 3000,\n",
              "   'solver': 'adam'},\n",
              "  {'activation': 'identity',\n",
              "   'hidden_layer_sizes': (50, 10),\n",
              "   'max_iter': 4000,\n",
              "   'solver': 'lbfgs'},\n",
              "  {'activation': 'identity',\n",
              "   'hidden_layer_sizes': (50, 10),\n",
              "   'max_iter': 4000,\n",
              "   'solver': 'sgd'},\n",
              "  {'activation': 'identity',\n",
              "   'hidden_layer_sizes': (50, 10),\n",
              "   'max_iter': 4000,\n",
              "   'solver': 'adam'},\n",
              "  {'activation': 'identity',\n",
              "   'hidden_layer_sizes': (100, 50),\n",
              "   'max_iter': 2000,\n",
              "   'solver': 'lbfgs'},\n",
              "  {'activation': 'identity',\n",
              "   'hidden_layer_sizes': (100, 50),\n",
              "   'max_iter': 2000,\n",
              "   'solver': 'sgd'},\n",
              "  {'activation': 'identity',\n",
              "   'hidden_layer_sizes': (100, 50),\n",
              "   'max_iter': 2000,\n",
              "   'solver': 'adam'},\n",
              "  {'activation': 'identity',\n",
              "   'hidden_layer_sizes': (100, 50),\n",
              "   'max_iter': 3000,\n",
              "   'solver': 'lbfgs'},\n",
              "  {'activation': 'identity',\n",
              "   'hidden_layer_sizes': (100, 50),\n",
              "   'max_iter': 3000,\n",
              "   'solver': 'sgd'},\n",
              "  {'activation': 'identity',\n",
              "   'hidden_layer_sizes': (100, 50),\n",
              "   'max_iter': 3000,\n",
              "   'solver': 'adam'},\n",
              "  {'activation': 'identity',\n",
              "   'hidden_layer_sizes': (100, 50),\n",
              "   'max_iter': 4000,\n",
              "   'solver': 'lbfgs'},\n",
              "  {'activation': 'identity',\n",
              "   'hidden_layer_sizes': (100, 50),\n",
              "   'max_iter': 4000,\n",
              "   'solver': 'sgd'},\n",
              "  {'activation': 'identity',\n",
              "   'hidden_layer_sizes': (100, 50),\n",
              "   'max_iter': 4000,\n",
              "   'solver': 'adam'},\n",
              "  {'activation': 'logistic',\n",
              "   'hidden_layer_sizes': 10,\n",
              "   'max_iter': 2000,\n",
              "   'solver': 'lbfgs'},\n",
              "  {'activation': 'logistic',\n",
              "   'hidden_layer_sizes': 10,\n",
              "   'max_iter': 2000,\n",
              "   'solver': 'sgd'},\n",
              "  {'activation': 'logistic',\n",
              "   'hidden_layer_sizes': 10,\n",
              "   'max_iter': 2000,\n",
              "   'solver': 'adam'},\n",
              "  {'activation': 'logistic',\n",
              "   'hidden_layer_sizes': 10,\n",
              "   'max_iter': 3000,\n",
              "   'solver': 'lbfgs'},\n",
              "  {'activation': 'logistic',\n",
              "   'hidden_layer_sizes': 10,\n",
              "   'max_iter': 3000,\n",
              "   'solver': 'sgd'},\n",
              "  {'activation': 'logistic',\n",
              "   'hidden_layer_sizes': 10,\n",
              "   'max_iter': 3000,\n",
              "   'solver': 'adam'},\n",
              "  {'activation': 'logistic',\n",
              "   'hidden_layer_sizes': 10,\n",
              "   'max_iter': 4000,\n",
              "   'solver': 'lbfgs'},\n",
              "  {'activation': 'logistic',\n",
              "   'hidden_layer_sizes': 10,\n",
              "   'max_iter': 4000,\n",
              "   'solver': 'sgd'},\n",
              "  {'activation': 'logistic',\n",
              "   'hidden_layer_sizes': 10,\n",
              "   'max_iter': 4000,\n",
              "   'solver': 'adam'},\n",
              "  {'activation': 'logistic',\n",
              "   'hidden_layer_sizes': 50,\n",
              "   'max_iter': 2000,\n",
              "   'solver': 'lbfgs'},\n",
              "  {'activation': 'logistic',\n",
              "   'hidden_layer_sizes': 50,\n",
              "   'max_iter': 2000,\n",
              "   'solver': 'sgd'},\n",
              "  {'activation': 'logistic',\n",
              "   'hidden_layer_sizes': 50,\n",
              "   'max_iter': 2000,\n",
              "   'solver': 'adam'},\n",
              "  {'activation': 'logistic',\n",
              "   'hidden_layer_sizes': 50,\n",
              "   'max_iter': 3000,\n",
              "   'solver': 'lbfgs'},\n",
              "  {'activation': 'logistic',\n",
              "   'hidden_layer_sizes': 50,\n",
              "   'max_iter': 3000,\n",
              "   'solver': 'sgd'},\n",
              "  {'activation': 'logistic',\n",
              "   'hidden_layer_sizes': 50,\n",
              "   'max_iter': 3000,\n",
              "   'solver': 'adam'},\n",
              "  {'activation': 'logistic',\n",
              "   'hidden_layer_sizes': 50,\n",
              "   'max_iter': 4000,\n",
              "   'solver': 'lbfgs'},\n",
              "  {'activation': 'logistic',\n",
              "   'hidden_layer_sizes': 50,\n",
              "   'max_iter': 4000,\n",
              "   'solver': 'sgd'},\n",
              "  {'activation': 'logistic',\n",
              "   'hidden_layer_sizes': 50,\n",
              "   'max_iter': 4000,\n",
              "   'solver': 'adam'},\n",
              "  {'activation': 'logistic',\n",
              "   'hidden_layer_sizes': 100,\n",
              "   'max_iter': 2000,\n",
              "   'solver': 'lbfgs'},\n",
              "  {'activation': 'logistic',\n",
              "   'hidden_layer_sizes': 100,\n",
              "   'max_iter': 2000,\n",
              "   'solver': 'sgd'},\n",
              "  {'activation': 'logistic',\n",
              "   'hidden_layer_sizes': 100,\n",
              "   'max_iter': 2000,\n",
              "   'solver': 'adam'},\n",
              "  {'activation': 'logistic',\n",
              "   'hidden_layer_sizes': 100,\n",
              "   'max_iter': 3000,\n",
              "   'solver': 'lbfgs'},\n",
              "  {'activation': 'logistic',\n",
              "   'hidden_layer_sizes': 100,\n",
              "   'max_iter': 3000,\n",
              "   'solver': 'sgd'},\n",
              "  {'activation': 'logistic',\n",
              "   'hidden_layer_sizes': 100,\n",
              "   'max_iter': 3000,\n",
              "   'solver': 'adam'},\n",
              "  {'activation': 'logistic',\n",
              "   'hidden_layer_sizes': 100,\n",
              "   'max_iter': 4000,\n",
              "   'solver': 'lbfgs'},\n",
              "  {'activation': 'logistic',\n",
              "   'hidden_layer_sizes': 100,\n",
              "   'max_iter': 4000,\n",
              "   'solver': 'sgd'},\n",
              "  {'activation': 'logistic',\n",
              "   'hidden_layer_sizes': 100,\n",
              "   'max_iter': 4000,\n",
              "   'solver': 'adam'},\n",
              "  {'activation': 'logistic',\n",
              "   'hidden_layer_sizes': (50, 10),\n",
              "   'max_iter': 2000,\n",
              "   'solver': 'lbfgs'},\n",
              "  {'activation': 'logistic',\n",
              "   'hidden_layer_sizes': (50, 10),\n",
              "   'max_iter': 2000,\n",
              "   'solver': 'sgd'},\n",
              "  {'activation': 'logistic',\n",
              "   'hidden_layer_sizes': (50, 10),\n",
              "   'max_iter': 2000,\n",
              "   'solver': 'adam'},\n",
              "  {'activation': 'logistic',\n",
              "   'hidden_layer_sizes': (50, 10),\n",
              "   'max_iter': 3000,\n",
              "   'solver': 'lbfgs'},\n",
              "  {'activation': 'logistic',\n",
              "   'hidden_layer_sizes': (50, 10),\n",
              "   'max_iter': 3000,\n",
              "   'solver': 'sgd'},\n",
              "  {'activation': 'logistic',\n",
              "   'hidden_layer_sizes': (50, 10),\n",
              "   'max_iter': 3000,\n",
              "   'solver': 'adam'},\n",
              "  {'activation': 'logistic',\n",
              "   'hidden_layer_sizes': (50, 10),\n",
              "   'max_iter': 4000,\n",
              "   'solver': 'lbfgs'},\n",
              "  {'activation': 'logistic',\n",
              "   'hidden_layer_sizes': (50, 10),\n",
              "   'max_iter': 4000,\n",
              "   'solver': 'sgd'},\n",
              "  {'activation': 'logistic',\n",
              "   'hidden_layer_sizes': (50, 10),\n",
              "   'max_iter': 4000,\n",
              "   'solver': 'adam'},\n",
              "  {'activation': 'logistic',\n",
              "   'hidden_layer_sizes': (100, 50),\n",
              "   'max_iter': 2000,\n",
              "   'solver': 'lbfgs'},\n",
              "  {'activation': 'logistic',\n",
              "   'hidden_layer_sizes': (100, 50),\n",
              "   'max_iter': 2000,\n",
              "   'solver': 'sgd'},\n",
              "  {'activation': 'logistic',\n",
              "   'hidden_layer_sizes': (100, 50),\n",
              "   'max_iter': 2000,\n",
              "   'solver': 'adam'},\n",
              "  {'activation': 'logistic',\n",
              "   'hidden_layer_sizes': (100, 50),\n",
              "   'max_iter': 3000,\n",
              "   'solver': 'lbfgs'},\n",
              "  {'activation': 'logistic',\n",
              "   'hidden_layer_sizes': (100, 50),\n",
              "   'max_iter': 3000,\n",
              "   'solver': 'sgd'},\n",
              "  {'activation': 'logistic',\n",
              "   'hidden_layer_sizes': (100, 50),\n",
              "   'max_iter': 3000,\n",
              "   'solver': 'adam'},\n",
              "  {'activation': 'logistic',\n",
              "   'hidden_layer_sizes': (100, 50),\n",
              "   'max_iter': 4000,\n",
              "   'solver': 'lbfgs'},\n",
              "  {'activation': 'logistic',\n",
              "   'hidden_layer_sizes': (100, 50),\n",
              "   'max_iter': 4000,\n",
              "   'solver': 'sgd'},\n",
              "  {'activation': 'logistic',\n",
              "   'hidden_layer_sizes': (100, 50),\n",
              "   'max_iter': 4000,\n",
              "   'solver': 'adam'},\n",
              "  {'activation': 'tanh',\n",
              "   'hidden_layer_sizes': 10,\n",
              "   'max_iter': 2000,\n",
              "   'solver': 'lbfgs'},\n",
              "  {'activation': 'tanh',\n",
              "   'hidden_layer_sizes': 10,\n",
              "   'max_iter': 2000,\n",
              "   'solver': 'sgd'},\n",
              "  {'activation': 'tanh',\n",
              "   'hidden_layer_sizes': 10,\n",
              "   'max_iter': 2000,\n",
              "   'solver': 'adam'},\n",
              "  {'activation': 'tanh',\n",
              "   'hidden_layer_sizes': 10,\n",
              "   'max_iter': 3000,\n",
              "   'solver': 'lbfgs'},\n",
              "  {'activation': 'tanh',\n",
              "   'hidden_layer_sizes': 10,\n",
              "   'max_iter': 3000,\n",
              "   'solver': 'sgd'},\n",
              "  {'activation': 'tanh',\n",
              "   'hidden_layer_sizes': 10,\n",
              "   'max_iter': 3000,\n",
              "   'solver': 'adam'},\n",
              "  {'activation': 'tanh',\n",
              "   'hidden_layer_sizes': 10,\n",
              "   'max_iter': 4000,\n",
              "   'solver': 'lbfgs'},\n",
              "  {'activation': 'tanh',\n",
              "   'hidden_layer_sizes': 10,\n",
              "   'max_iter': 4000,\n",
              "   'solver': 'sgd'},\n",
              "  {'activation': 'tanh',\n",
              "   'hidden_layer_sizes': 10,\n",
              "   'max_iter': 4000,\n",
              "   'solver': 'adam'},\n",
              "  {'activation': 'tanh',\n",
              "   'hidden_layer_sizes': 50,\n",
              "   'max_iter': 2000,\n",
              "   'solver': 'lbfgs'},\n",
              "  {'activation': 'tanh',\n",
              "   'hidden_layer_sizes': 50,\n",
              "   'max_iter': 2000,\n",
              "   'solver': 'sgd'},\n",
              "  {'activation': 'tanh',\n",
              "   'hidden_layer_sizes': 50,\n",
              "   'max_iter': 2000,\n",
              "   'solver': 'adam'},\n",
              "  {'activation': 'tanh',\n",
              "   'hidden_layer_sizes': 50,\n",
              "   'max_iter': 3000,\n",
              "   'solver': 'lbfgs'},\n",
              "  {'activation': 'tanh',\n",
              "   'hidden_layer_sizes': 50,\n",
              "   'max_iter': 3000,\n",
              "   'solver': 'sgd'},\n",
              "  {'activation': 'tanh',\n",
              "   'hidden_layer_sizes': 50,\n",
              "   'max_iter': 3000,\n",
              "   'solver': 'adam'},\n",
              "  {'activation': 'tanh',\n",
              "   'hidden_layer_sizes': 50,\n",
              "   'max_iter': 4000,\n",
              "   'solver': 'lbfgs'},\n",
              "  {'activation': 'tanh',\n",
              "   'hidden_layer_sizes': 50,\n",
              "   'max_iter': 4000,\n",
              "   'solver': 'sgd'},\n",
              "  {'activation': 'tanh',\n",
              "   'hidden_layer_sizes': 50,\n",
              "   'max_iter': 4000,\n",
              "   'solver': 'adam'},\n",
              "  {'activation': 'tanh',\n",
              "   'hidden_layer_sizes': 100,\n",
              "   'max_iter': 2000,\n",
              "   'solver': 'lbfgs'},\n",
              "  {'activation': 'tanh',\n",
              "   'hidden_layer_sizes': 100,\n",
              "   'max_iter': 2000,\n",
              "   'solver': 'sgd'},\n",
              "  {'activation': 'tanh',\n",
              "   'hidden_layer_sizes': 100,\n",
              "   'max_iter': 2000,\n",
              "   'solver': 'adam'},\n",
              "  {'activation': 'tanh',\n",
              "   'hidden_layer_sizes': 100,\n",
              "   'max_iter': 3000,\n",
              "   'solver': 'lbfgs'},\n",
              "  {'activation': 'tanh',\n",
              "   'hidden_layer_sizes': 100,\n",
              "   'max_iter': 3000,\n",
              "   'solver': 'sgd'},\n",
              "  {'activation': 'tanh',\n",
              "   'hidden_layer_sizes': 100,\n",
              "   'max_iter': 3000,\n",
              "   'solver': 'adam'},\n",
              "  {'activation': 'tanh',\n",
              "   'hidden_layer_sizes': 100,\n",
              "   'max_iter': 4000,\n",
              "   'solver': 'lbfgs'},\n",
              "  {'activation': 'tanh',\n",
              "   'hidden_layer_sizes': 100,\n",
              "   'max_iter': 4000,\n",
              "   'solver': 'sgd'},\n",
              "  {'activation': 'tanh',\n",
              "   'hidden_layer_sizes': 100,\n",
              "   'max_iter': 4000,\n",
              "   'solver': 'adam'},\n",
              "  {'activation': 'tanh',\n",
              "   'hidden_layer_sizes': (50, 10),\n",
              "   'max_iter': 2000,\n",
              "   'solver': 'lbfgs'},\n",
              "  {'activation': 'tanh',\n",
              "   'hidden_layer_sizes': (50, 10),\n",
              "   'max_iter': 2000,\n",
              "   'solver': 'sgd'},\n",
              "  {'activation': 'tanh',\n",
              "   'hidden_layer_sizes': (50, 10),\n",
              "   'max_iter': 2000,\n",
              "   'solver': 'adam'},\n",
              "  {'activation': 'tanh',\n",
              "   'hidden_layer_sizes': (50, 10),\n",
              "   'max_iter': 3000,\n",
              "   'solver': 'lbfgs'},\n",
              "  {'activation': 'tanh',\n",
              "   'hidden_layer_sizes': (50, 10),\n",
              "   'max_iter': 3000,\n",
              "   'solver': 'sgd'},\n",
              "  {'activation': 'tanh',\n",
              "   'hidden_layer_sizes': (50, 10),\n",
              "   'max_iter': 3000,\n",
              "   'solver': 'adam'},\n",
              "  {'activation': 'tanh',\n",
              "   'hidden_layer_sizes': (50, 10),\n",
              "   'max_iter': 4000,\n",
              "   'solver': 'lbfgs'},\n",
              "  {'activation': 'tanh',\n",
              "   'hidden_layer_sizes': (50, 10),\n",
              "   'max_iter': 4000,\n",
              "   'solver': 'sgd'},\n",
              "  {'activation': 'tanh',\n",
              "   'hidden_layer_sizes': (50, 10),\n",
              "   'max_iter': 4000,\n",
              "   'solver': 'adam'},\n",
              "  {'activation': 'tanh',\n",
              "   'hidden_layer_sizes': (100, 50),\n",
              "   'max_iter': 2000,\n",
              "   'solver': 'lbfgs'},\n",
              "  {'activation': 'tanh',\n",
              "   'hidden_layer_sizes': (100, 50),\n",
              "   'max_iter': 2000,\n",
              "   'solver': 'sgd'},\n",
              "  {'activation': 'tanh',\n",
              "   'hidden_layer_sizes': (100, 50),\n",
              "   'max_iter': 2000,\n",
              "   'solver': 'adam'},\n",
              "  {'activation': 'tanh',\n",
              "   'hidden_layer_sizes': (100, 50),\n",
              "   'max_iter': 3000,\n",
              "   'solver': 'lbfgs'},\n",
              "  {'activation': 'tanh',\n",
              "   'hidden_layer_sizes': (100, 50),\n",
              "   'max_iter': 3000,\n",
              "   'solver': 'sgd'},\n",
              "  {'activation': 'tanh',\n",
              "   'hidden_layer_sizes': (100, 50),\n",
              "   'max_iter': 3000,\n",
              "   'solver': 'adam'},\n",
              "  {'activation': 'tanh',\n",
              "   'hidden_layer_sizes': (100, 50),\n",
              "   'max_iter': 4000,\n",
              "   'solver': 'lbfgs'},\n",
              "  {'activation': 'tanh',\n",
              "   'hidden_layer_sizes': (100, 50),\n",
              "   'max_iter': 4000,\n",
              "   'solver': 'sgd'},\n",
              "  {'activation': 'tanh',\n",
              "   'hidden_layer_sizes': (100, 50),\n",
              "   'max_iter': 4000,\n",
              "   'solver': 'adam'},\n",
              "  {'activation': 'relu',\n",
              "   'hidden_layer_sizes': 10,\n",
              "   'max_iter': 2000,\n",
              "   'solver': 'lbfgs'},\n",
              "  {'activation': 'relu',\n",
              "   'hidden_layer_sizes': 10,\n",
              "   'max_iter': 2000,\n",
              "   'solver': 'sgd'},\n",
              "  {'activation': 'relu',\n",
              "   'hidden_layer_sizes': 10,\n",
              "   'max_iter': 2000,\n",
              "   'solver': 'adam'},\n",
              "  {'activation': 'relu',\n",
              "   'hidden_layer_sizes': 10,\n",
              "   'max_iter': 3000,\n",
              "   'solver': 'lbfgs'},\n",
              "  {'activation': 'relu',\n",
              "   'hidden_layer_sizes': 10,\n",
              "   'max_iter': 3000,\n",
              "   'solver': 'sgd'},\n",
              "  {'activation': 'relu',\n",
              "   'hidden_layer_sizes': 10,\n",
              "   'max_iter': 3000,\n",
              "   'solver': 'adam'},\n",
              "  {'activation': 'relu',\n",
              "   'hidden_layer_sizes': 10,\n",
              "   'max_iter': 4000,\n",
              "   'solver': 'lbfgs'},\n",
              "  {'activation': 'relu',\n",
              "   'hidden_layer_sizes': 10,\n",
              "   'max_iter': 4000,\n",
              "   'solver': 'sgd'},\n",
              "  {'activation': 'relu',\n",
              "   'hidden_layer_sizes': 10,\n",
              "   'max_iter': 4000,\n",
              "   'solver': 'adam'},\n",
              "  {'activation': 'relu',\n",
              "   'hidden_layer_sizes': 50,\n",
              "   'max_iter': 2000,\n",
              "   'solver': 'lbfgs'},\n",
              "  {'activation': 'relu',\n",
              "   'hidden_layer_sizes': 50,\n",
              "   'max_iter': 2000,\n",
              "   'solver': 'sgd'},\n",
              "  {'activation': 'relu',\n",
              "   'hidden_layer_sizes': 50,\n",
              "   'max_iter': 2000,\n",
              "   'solver': 'adam'},\n",
              "  {'activation': 'relu',\n",
              "   'hidden_layer_sizes': 50,\n",
              "   'max_iter': 3000,\n",
              "   'solver': 'lbfgs'},\n",
              "  {'activation': 'relu',\n",
              "   'hidden_layer_sizes': 50,\n",
              "   'max_iter': 3000,\n",
              "   'solver': 'sgd'},\n",
              "  {'activation': 'relu',\n",
              "   'hidden_layer_sizes': 50,\n",
              "   'max_iter': 3000,\n",
              "   'solver': 'adam'},\n",
              "  {'activation': 'relu',\n",
              "   'hidden_layer_sizes': 50,\n",
              "   'max_iter': 4000,\n",
              "   'solver': 'lbfgs'},\n",
              "  {'activation': 'relu',\n",
              "   'hidden_layer_sizes': 50,\n",
              "   'max_iter': 4000,\n",
              "   'solver': 'sgd'},\n",
              "  {'activation': 'relu',\n",
              "   'hidden_layer_sizes': 50,\n",
              "   'max_iter': 4000,\n",
              "   'solver': 'adam'},\n",
              "  {'activation': 'relu',\n",
              "   'hidden_layer_sizes': 100,\n",
              "   'max_iter': 2000,\n",
              "   'solver': 'lbfgs'},\n",
              "  {'activation': 'relu',\n",
              "   'hidden_layer_sizes': 100,\n",
              "   'max_iter': 2000,\n",
              "   'solver': 'sgd'},\n",
              "  {'activation': 'relu',\n",
              "   'hidden_layer_sizes': 100,\n",
              "   'max_iter': 2000,\n",
              "   'solver': 'adam'},\n",
              "  {'activation': 'relu',\n",
              "   'hidden_layer_sizes': 100,\n",
              "   'max_iter': 3000,\n",
              "   'solver': 'lbfgs'},\n",
              "  {'activation': 'relu',\n",
              "   'hidden_layer_sizes': 100,\n",
              "   'max_iter': 3000,\n",
              "   'solver': 'sgd'},\n",
              "  {'activation': 'relu',\n",
              "   'hidden_layer_sizes': 100,\n",
              "   'max_iter': 3000,\n",
              "   'solver': 'adam'},\n",
              "  {'activation': 'relu',\n",
              "   'hidden_layer_sizes': 100,\n",
              "   'max_iter': 4000,\n",
              "   'solver': 'lbfgs'},\n",
              "  {'activation': 'relu',\n",
              "   'hidden_layer_sizes': 100,\n",
              "   'max_iter': 4000,\n",
              "   'solver': 'sgd'},\n",
              "  {'activation': 'relu',\n",
              "   'hidden_layer_sizes': 100,\n",
              "   'max_iter': 4000,\n",
              "   'solver': 'adam'},\n",
              "  {'activation': 'relu',\n",
              "   'hidden_layer_sizes': (50, 10),\n",
              "   'max_iter': 2000,\n",
              "   'solver': 'lbfgs'},\n",
              "  {'activation': 'relu',\n",
              "   'hidden_layer_sizes': (50, 10),\n",
              "   'max_iter': 2000,\n",
              "   'solver': 'sgd'},\n",
              "  {'activation': 'relu',\n",
              "   'hidden_layer_sizes': (50, 10),\n",
              "   'max_iter': 2000,\n",
              "   'solver': 'adam'},\n",
              "  {'activation': 'relu',\n",
              "   'hidden_layer_sizes': (50, 10),\n",
              "   'max_iter': 3000,\n",
              "   'solver': 'lbfgs'},\n",
              "  {'activation': 'relu',\n",
              "   'hidden_layer_sizes': (50, 10),\n",
              "   'max_iter': 3000,\n",
              "   'solver': 'sgd'},\n",
              "  {'activation': 'relu',\n",
              "   'hidden_layer_sizes': (50, 10),\n",
              "   'max_iter': 3000,\n",
              "   'solver': 'adam'},\n",
              "  {'activation': 'relu',\n",
              "   'hidden_layer_sizes': (50, 10),\n",
              "   'max_iter': 4000,\n",
              "   'solver': 'lbfgs'},\n",
              "  {'activation': 'relu',\n",
              "   'hidden_layer_sizes': (50, 10),\n",
              "   'max_iter': 4000,\n",
              "   'solver': 'sgd'},\n",
              "  {'activation': 'relu',\n",
              "   'hidden_layer_sizes': (50, 10),\n",
              "   'max_iter': 4000,\n",
              "   'solver': 'adam'},\n",
              "  {'activation': 'relu',\n",
              "   'hidden_layer_sizes': (100, 50),\n",
              "   'max_iter': 2000,\n",
              "   'solver': 'lbfgs'},\n",
              "  {'activation': 'relu',\n",
              "   'hidden_layer_sizes': (100, 50),\n",
              "   'max_iter': 2000,\n",
              "   'solver': 'sgd'},\n",
              "  {'activation': 'relu',\n",
              "   'hidden_layer_sizes': (100, 50),\n",
              "   'max_iter': 2000,\n",
              "   'solver': 'adam'},\n",
              "  {'activation': 'relu',\n",
              "   'hidden_layer_sizes': (100, 50),\n",
              "   'max_iter': 3000,\n",
              "   'solver': 'lbfgs'},\n",
              "  {'activation': 'relu',\n",
              "   'hidden_layer_sizes': (100, 50),\n",
              "   'max_iter': 3000,\n",
              "   'solver': 'sgd'},\n",
              "  {'activation': 'relu',\n",
              "   'hidden_layer_sizes': (100, 50),\n",
              "   'max_iter': 3000,\n",
              "   'solver': 'adam'},\n",
              "  {'activation': 'relu',\n",
              "   'hidden_layer_sizes': (100, 50),\n",
              "   'max_iter': 4000,\n",
              "   'solver': 'lbfgs'},\n",
              "  {'activation': 'relu',\n",
              "   'hidden_layer_sizes': (100, 50),\n",
              "   'max_iter': 4000,\n",
              "   'solver': 'sgd'},\n",
              "  {'activation': 'relu',\n",
              "   'hidden_layer_sizes': (100, 50),\n",
              "   'max_iter': 4000,\n",
              "   'solver': 'adam'}],\n",
              " 'rank_test_score': array([ 12,  81,   7,  12, 112,  43,  12,  77,  34,  12,  95,  43,  12,\n",
              "         90,   1,  12,  74,  49,  12,  90,  12,  12,  81,   7,  12,  72,\n",
              "          4,  12,  77,  54,  12,   6,  34,  12,  74,  12,  12,  62,  34,\n",
              "         12,  62,  68,  12,  95,   7, 134, 135,  42, 156, 135,  59, 168,\n",
              "        135,  43, 157, 135,  34, 173, 135,  43, 178, 135,  54, 175, 135,\n",
              "         34, 171, 135,  12, 159, 135,  49, 164, 135, 135, 126, 135, 113,\n",
              "        153, 135, 135, 122, 135, 116, 179, 135, 114, 169, 135,  49, 127,\n",
              "        106,   2, 124,  98,   2, 127,  98,  12, 153,  81,  43, 167,  95,\n",
              "         34, 174, 110,  12, 152,  74,  12, 165,  94,  34, 160,  81,   7,\n",
              "        121,  85,   4, 157,  85,  54, 123,  80,  73, 162,  85,  62, 124,\n",
              "         59,  43, 132,  49,  12, 119, 107,  62, 131,  62,  54, 120, 114,\n",
              "          7, 177,  93,  90, 166,  98,  58, 163,  68,  77, 161,  98,  34,\n",
              "        176, 104,  85, 180,  85,  61, 130, 107, 102, 155,  62, 105, 129,\n",
              "        107, 102, 133,  68, 110, 171,  71, 117, 170,  49, 117], dtype=int32),\n",
              " 'split0_test_score': array([0.65      , 0.7       , 0.7       , 0.65      , 0.66666667,\n",
              "        0.68333333, 0.65      , 0.65      , 0.66666667, 0.65      ,\n",
              "        0.66666667, 0.68333333, 0.65      , 0.71666667, 0.71666667,\n",
              "        0.65      , 0.7       , 0.65      , 0.65      , 0.66666667,\n",
              "        0.68333333, 0.65      , 0.7       , 0.7       , 0.65      ,\n",
              "        0.68333333, 0.66666667, 0.65      , 0.58333333, 0.61666667,\n",
              "        0.65      , 0.66666667, 0.66666667, 0.65      , 0.58333333,\n",
              "        0.68333333, 0.65      , 0.6       , 0.63333333, 0.65      ,\n",
              "        0.61666667, 0.63333333, 0.65      , 0.55      , 0.7       ,\n",
              "        0.6       , 0.66666667, 0.68333333, 0.53333333, 0.66666667,\n",
              "        0.68333333, 0.6       , 0.66666667, 0.68333333, 0.53333333,\n",
              "        0.66666667, 0.68333333, 0.6       , 0.66666667, 0.7       ,\n",
              "        0.56666667, 0.66666667, 0.66666667, 0.6       , 0.66666667,\n",
              "        0.66666667, 0.58333333, 0.66666667, 0.68333333, 0.63333333,\n",
              "        0.66666667, 0.66666667, 0.55      , 0.66666667, 0.66666667,\n",
              "        0.55      , 0.66666667, 0.66666667, 0.55      , 0.66666667,\n",
              "        0.66666667, 0.71666667, 0.66666667, 0.66666667, 0.55      ,\n",
              "        0.66666667, 0.68333333, 0.6       , 0.66666667, 0.66666667,\n",
              "        0.53333333, 0.66666667, 0.68333333, 0.61666667, 0.66666667,\n",
              "        0.71666667, 0.61666667, 0.66666667, 0.68333333, 0.6       ,\n",
              "        0.68333333, 0.68333333, 0.63333333, 0.66666667, 0.66666667,\n",
              "        0.56666667, 0.56666667, 0.68333333, 0.55      , 0.68333333,\n",
              "        0.68333333, 0.51666667, 0.68333333, 0.66666667, 0.63333333,\n",
              "        0.66666667, 0.7       , 0.66666667, 0.6       , 0.68333333,\n",
              "        0.6       , 0.58333333, 0.6       , 0.63333333, 0.56666667,\n",
              "        0.66666667, 0.58333333, 0.61666667, 0.63333333, 0.66666667,\n",
              "        0.6       , 0.66666667, 0.66666667, 0.61666667, 0.63333333,\n",
              "        0.61666667, 0.75      , 0.7       , 0.51666667, 0.75      ,\n",
              "        0.68333333, 0.66666667, 0.66666667, 0.68333333, 0.53333333,\n",
              "        0.68333333, 0.66666667, 0.51666667, 0.66666667, 0.68333333,\n",
              "        0.58333333, 0.71666667, 0.65      , 0.63333333, 0.68333333,\n",
              "        0.66666667, 0.53333333, 0.66666667, 0.66666667, 0.53333333,\n",
              "        0.71666667, 0.68333333, 0.65      , 0.61666667, 0.61666667,\n",
              "        0.55      , 0.58333333, 0.58333333, 0.61666667, 0.63333333,\n",
              "        0.63333333, 0.66666667, 0.61666667, 0.6       , 0.56666667,\n",
              "        0.61666667, 0.65      , 0.51666667, 0.6       , 0.53333333]),\n",
              " 'split1_test_score': array([0.85      , 0.95      , 0.85      , 0.85      , 0.78333333,\n",
              "        0.85      , 0.85      , 0.91666667, 0.85      , 0.85      ,\n",
              "        0.91666667, 0.85      , 0.85      , 0.9       , 0.85      ,\n",
              "        0.85      , 0.9       , 0.85      , 0.85      , 0.95      ,\n",
              "        0.85      , 0.85      , 0.9       , 0.85      , 0.85      ,\n",
              "        0.91666667, 0.85      , 0.85      , 0.85      , 0.85      ,\n",
              "        0.85      , 0.91666667, 0.85      , 0.85      , 0.88333333,\n",
              "        0.85      , 0.85      , 0.91666667, 0.86666667, 0.85      ,\n",
              "        0.86666667, 0.83333333, 0.85      , 0.85      , 0.85      ,\n",
              "        0.68333333, 0.68333333, 0.86666667, 0.76666667, 0.68333333,\n",
              "        0.85      , 0.78333333, 0.68333333, 0.88333333, 0.76666667,\n",
              "        0.68333333, 0.85      , 0.68333333, 0.68333333, 0.83333333,\n",
              "        0.63333333, 0.68333333, 0.85      , 0.68333333, 0.68333333,\n",
              "        0.85      , 0.73333333, 0.68333333, 0.85      , 0.7       ,\n",
              "        0.68333333, 0.85      , 0.71666667, 0.68333333, 0.68333333,\n",
              "        0.81666667, 0.68333333, 0.68333333, 0.75      , 0.68333333,\n",
              "        0.68333333, 0.7       , 0.68333333, 0.85      , 0.6       ,\n",
              "        0.68333333, 0.85      , 0.66666667, 0.68333333, 0.85      ,\n",
              "        0.73333333, 0.86666667, 0.86666667, 0.63333333, 0.88333333,\n",
              "        0.85      , 0.68333333, 0.86666667, 0.85      , 0.8       ,\n",
              "        0.91666667, 0.85      , 0.66666667, 0.9       , 0.85      ,\n",
              "        0.7       , 0.88333333, 0.85      , 0.75      , 0.93333333,\n",
              "        0.85      , 0.66666667, 0.9       , 0.83333333, 0.66666667,\n",
              "        0.93333333, 0.85      , 0.78333333, 0.88333333, 0.85      ,\n",
              "        0.61666667, 0.88333333, 0.86666667, 0.75      , 0.88333333,\n",
              "        0.85      , 0.76666667, 0.86666667, 0.78333333, 0.71666667,\n",
              "        0.91666667, 0.81666667, 0.73333333, 0.91666667, 0.85      ,\n",
              "        0.7       , 0.88333333, 0.86666667, 0.8       , 0.96666667,\n",
              "        0.85      , 0.71666667, 0.68333333, 0.85      , 0.66666667,\n",
              "        0.88333333, 0.83333333, 0.75      , 0.88333333, 0.85      ,\n",
              "        0.7       , 0.95      , 0.83333333, 0.71666667, 0.88333333,\n",
              "        0.83333333, 0.71666667, 0.86666667, 0.85      , 0.6       ,\n",
              "        0.91666667, 0.85      , 0.86666667, 0.88333333, 0.83333333,\n",
              "        0.75      , 0.9       , 0.86666667, 0.73333333, 0.91666667,\n",
              "        0.85      , 0.73333333, 0.86666667, 0.86666667, 0.81666667,\n",
              "        0.91666667, 0.8       , 0.71666667, 0.93333333, 0.88333333]),\n",
              " 'split2_test_score': array([0.9       , 0.8       , 0.86666667, 0.9       , 0.81666667,\n",
              "        0.88333333, 0.9       , 0.83333333, 0.86666667, 0.9       ,\n",
              "        0.83333333, 0.86666667, 0.9       , 0.81666667, 0.88333333,\n",
              "        0.9       , 0.85      , 0.85      , 0.9       , 0.81666667,\n",
              "        0.86666667, 0.9       , 0.83333333, 0.86666667, 0.9       ,\n",
              "        0.85      , 0.91666667, 0.9       , 0.86666667, 0.86666667,\n",
              "        0.9       , 0.88333333, 0.88333333, 0.9       , 0.86666667,\n",
              "        0.86666667, 0.9       , 0.86666667, 0.9       , 0.9       ,\n",
              "        0.86666667, 0.88333333, 0.9       , 0.86666667, 0.88333333,\n",
              "        0.75      , 0.68333333, 0.86666667, 0.73333333, 0.68333333,\n",
              "        0.83333333, 0.58333333, 0.68333333, 0.85      , 0.68333333,\n",
              "        0.68333333, 0.86666667, 0.61666667, 0.68333333, 0.85      ,\n",
              "        0.58333333, 0.68333333, 0.83333333, 0.55      , 0.68333333,\n",
              "        0.86666667, 0.56666667, 0.68333333, 0.86666667, 0.66666667,\n",
              "        0.68333333, 0.86666667, 0.78333333, 0.68333333, 0.68333333,\n",
              "        0.78333333, 0.68333333, 0.88333333, 0.81666667, 0.68333333,\n",
              "        0.68333333, 0.8       , 0.68333333, 0.68333333, 0.7       ,\n",
              "        0.68333333, 0.68333333, 0.8       , 0.68333333, 0.86666667,\n",
              "        0.8       , 0.78333333, 0.91666667, 0.83333333, 0.85      ,\n",
              "        0.9       , 0.81666667, 0.81666667, 0.88333333, 0.61666667,\n",
              "        0.83333333, 0.86666667, 0.68333333, 0.83333333, 0.86666667,\n",
              "        0.7       , 0.83333333, 0.88333333, 0.71666667, 0.83333333,\n",
              "        0.88333333, 0.71666667, 0.81666667, 0.88333333, 0.73333333,\n",
              "        0.83333333, 0.86666667, 0.71666667, 0.86666667, 0.9       ,\n",
              "        0.75      , 0.88333333, 0.91666667, 0.75      , 0.88333333,\n",
              "        0.91666667, 0.7       , 0.86666667, 0.88333333, 0.75      ,\n",
              "        0.88333333, 0.88333333, 0.66666667, 0.9       , 0.91666667,\n",
              "        0.83333333, 0.68333333, 0.86666667, 0.75      , 0.8       ,\n",
              "        0.9       , 0.83333333, 0.86666667, 0.9       , 0.65      ,\n",
              "        0.85      , 0.88333333, 0.76666667, 0.83333333, 0.91666667,\n",
              "        0.66666667, 0.81666667, 0.91666667, 0.6       , 0.83333333,\n",
              "        0.88333333, 0.65      , 0.85      , 0.88333333, 0.53333333,\n",
              "        0.78333333, 0.9       , 0.56666667, 0.68333333, 0.88333333,\n",
              "        0.76666667, 0.88333333, 0.88333333, 0.75      , 0.68333333,\n",
              "        0.83333333, 0.66666667, 0.86666667, 0.85      , 0.68333333,\n",
              "        0.86666667, 0.78333333, 0.71666667, 0.86666667, 0.8       ]),\n",
              " 'split3_test_score': array([0.9       , 0.68333333, 0.9       , 0.9       , 0.68333333,\n",
              "        0.85      , 0.9       , 0.75      , 0.9       , 0.9       ,\n",
              "        0.68333333, 0.86666667, 0.9       , 0.68333333, 0.9       ,\n",
              "        0.9       , 0.7       , 0.9       , 0.9       , 0.68333333,\n",
              "        0.9       , 0.9       , 0.7       , 0.9       , 0.9       ,\n",
              "        0.71666667, 0.9       , 0.9       , 0.85      , 0.9       ,\n",
              "        0.9       , 0.85      , 0.88333333, 0.9       , 0.81666667,\n",
              "        0.9       , 0.9       , 0.81666667, 0.88333333, 0.9       ,\n",
              "        0.85      , 0.83333333, 0.9       , 0.83333333, 0.88333333,\n",
              "        0.66666667, 0.68333333, 0.85      , 0.66666667, 0.68333333,\n",
              "        0.85      , 0.61666667, 0.68333333, 0.85      , 0.65      ,\n",
              "        0.68333333, 0.88333333, 0.66666667, 0.68333333, 0.88333333,\n",
              "        0.61666667, 0.68333333, 0.88333333, 0.66666667, 0.68333333,\n",
              "        0.9       , 0.66666667, 0.68333333, 0.9       , 0.65      ,\n",
              "        0.68333333, 0.86666667, 0.58333333, 0.68333333, 0.68333333,\n",
              "        0.65      , 0.68333333, 0.68333333, 0.56666667, 0.68333333,\n",
              "        0.68333333, 0.61666667, 0.68333333, 0.68333333, 0.58333333,\n",
              "        0.68333333, 0.68333333, 0.51666667, 0.68333333, 0.86666667,\n",
              "        0.68333333, 0.71666667, 0.86666667, 0.7       , 0.68333333,\n",
              "        0.86666667, 0.63333333, 0.73333333, 0.88333333, 0.66666667,\n",
              "        0.7       , 0.86666667, 0.63333333, 0.7       , 0.9       ,\n",
              "        0.58333333, 0.7       , 0.88333333, 0.65      , 0.7       ,\n",
              "        0.88333333, 0.68333333, 0.7       , 0.9       , 0.63333333,\n",
              "        0.7       , 0.9       , 0.66666667, 0.78333333, 0.9       ,\n",
              "        0.66666667, 0.78333333, 0.85      , 0.7       , 0.81666667,\n",
              "        0.73333333, 0.63333333, 0.78333333, 0.9       , 0.65      ,\n",
              "        0.81666667, 0.9       , 0.63333333, 0.81666667, 0.9       ,\n",
              "        0.7       , 0.68333333, 0.76666667, 0.68333333, 0.68333333,\n",
              "        0.8       , 0.61666667, 0.68333333, 0.88333333, 0.61666667,\n",
              "        0.7       , 0.73333333, 0.56666667, 0.7       , 0.78333333,\n",
              "        0.66666667, 0.7       , 0.75      , 0.73333333, 0.68333333,\n",
              "        0.9       , 0.63333333, 0.68333333, 0.73333333, 0.63333333,\n",
              "        0.71666667, 0.78333333, 0.65      , 0.81666667, 0.73333333,\n",
              "        0.63333333, 0.83333333, 0.71666667, 0.66666667, 0.76666667,\n",
              "        0.75      , 0.66666667, 0.83333333, 0.66666667, 0.48333333,\n",
              "        0.78333333, 0.65      , 0.58333333, 0.85      , 0.66666667]),\n",
              " 'split4_test_score': array([0.6779661 , 0.6779661 , 0.6779661 , 0.6779661 , 0.6779661 ,\n",
              "        0.6779661 , 0.6779661 , 0.6779661 , 0.6779661 , 0.6779661 ,\n",
              "        0.6779661 , 0.6779661 , 0.6779661 , 0.6779661 , 0.6779661 ,\n",
              "        0.6779661 , 0.6779661 , 0.6779661 , 0.6779661 , 0.6779661 ,\n",
              "        0.6779661 , 0.6779661 , 0.6779661 , 0.6779661 , 0.6779661 ,\n",
              "        0.6779661 , 0.6779661 , 0.6779661 , 0.6779661 , 0.6779661 ,\n",
              "        0.6779661 , 0.6779661 , 0.6779661 , 0.6779661 , 0.6779661 ,\n",
              "        0.6779661 , 0.6779661 , 0.6779661 , 0.6779661 , 0.6779661 ,\n",
              "        0.6779661 , 0.6779661 , 0.6779661 , 0.6779661 , 0.6779661 ,\n",
              "        0.69491525, 0.6779661 , 0.6779661 , 0.6779661 , 0.6779661 ,\n",
              "        0.6779661 , 0.6779661 , 0.6779661 , 0.6779661 , 0.72881356,\n",
              "        0.6779661 , 0.6779661 , 0.6779661 , 0.6779661 , 0.6779661 ,\n",
              "        0.71186441, 0.6779661 , 0.6779661 , 0.69491525, 0.6779661 ,\n",
              "        0.6779661 , 0.69491525, 0.6779661 , 0.6779661 , 0.71186441,\n",
              "        0.6779661 , 0.6779661 , 0.6779661 , 0.6779661 , 0.6779661 ,\n",
              "        0.6779661 , 0.6779661 , 0.6779661 , 0.69491525, 0.6779661 ,\n",
              "        0.6779661 , 0.6779661 , 0.6779661 , 0.6779661 , 0.6779661 ,\n",
              "        0.6779661 , 0.6779661 , 0.6779661 , 0.6779661 , 0.6779661 ,\n",
              "        0.69491525, 0.6779661 , 0.6779661 , 0.69491525, 0.6779661 ,\n",
              "        0.6779661 , 0.69491525, 0.6779661 , 0.6779661 , 0.69491525,\n",
              "        0.6779661 , 0.6779661 , 0.6779661 , 0.6779661 , 0.6779661 ,\n",
              "        0.6779661 , 0.6779661 , 0.6779661 , 0.71186441, 0.6779661 ,\n",
              "        0.6779661 , 0.71186441, 0.6779661 , 0.6779661 , 0.69491525,\n",
              "        0.6779661 , 0.6779661 , 0.69491525, 0.6779661 , 0.6779661 ,\n",
              "        0.72881356, 0.6779661 , 0.6779661 , 0.6779661 , 0.6779661 ,\n",
              "        0.6779661 , 0.6779661 , 0.6779661 , 0.6779661 , 0.69491525,\n",
              "        0.6779661 , 0.6779661 , 0.71186441, 0.6779661 , 0.6779661 ,\n",
              "        0.69491525, 0.6779661 , 0.6779661 , 0.6779661 , 0.6779661 ,\n",
              "        0.6779661 , 0.69491525, 0.6779661 , 0.6779661 , 0.71186441,\n",
              "        0.6779661 , 0.6779661 , 0.69491525, 0.6779661 , 0.6779661 ,\n",
              "        0.71186441, 0.6779661 , 0.6779661 , 0.6779661 , 0.6779661 ,\n",
              "        0.6779661 , 0.66101695, 0.6779661 , 0.6779661 , 0.6779661 ,\n",
              "        0.6779661 , 0.6779661 , 0.69491525, 0.6779661 , 0.6779661 ,\n",
              "        0.6779661 , 0.6779661 , 0.6779661 , 0.6779661 , 0.6779661 ,\n",
              "        0.6779661 , 0.6779661 , 0.6779661 , 0.6779661 , 0.69491525,\n",
              "        0.6779661 , 0.6779661 , 0.71186441, 0.6779661 , 0.6779661 ]),\n",
              " 'std_fit_time': array([1.91635783e-03, 1.47071708e-01, 7.25794984e-02, 1.21688715e-03,\n",
              "        1.33352068e-01, 4.58103700e-02, 4.81469423e-04, 8.98963845e-02,\n",
              "        4.60832226e-02, 1.61940463e-03, 1.30733471e-01, 9.09932607e-02,\n",
              "        2.42277593e-03, 1.39262856e-01, 5.47783188e-02, 1.80418630e-03,\n",
              "        2.00115809e-01, 2.76830536e-02, 7.68274879e-03, 2.10598787e-01,\n",
              "        3.91529745e-02, 2.58330549e-03, 2.37546550e-01, 6.87068724e-02,\n",
              "        1.83892958e-03, 2.26525948e-01, 5.23140472e-02, 3.28619490e-03,\n",
              "        9.46784522e-02, 1.30057679e-02, 1.55210345e-03, 4.82703179e-02,\n",
              "        3.28036637e-02, 4.52185469e-03, 7.60520647e-02, 2.46610548e-02,\n",
              "        3.24150594e-02, 1.78969477e-01, 2.18908709e-02, 2.85706971e-03,\n",
              "        8.68184782e-02, 1.82938935e-02, 4.32300100e-03, 1.61010371e-01,\n",
              "        3.09064008e-02, 2.38404143e-01, 7.52488849e-03, 1.57513795e-01,\n",
              "        1.00040859e-01, 2.44972979e-02, 1.35320253e-01, 3.74033399e-01,\n",
              "        2.72943555e-02, 1.19447515e-01, 1.57397472e-01, 1.24631905e-02,\n",
              "        1.80123163e-01, 7.14158500e-02, 2.00503095e-02, 1.39638758e-01,\n",
              "        7.57643756e-02, 2.52611709e-02, 1.28160550e-01, 1.46474692e-01,\n",
              "        2.79316099e-03, 1.77371470e-01, 1.25591206e-01, 1.93290515e-03,\n",
              "        2.75935570e-01, 1.81844023e-01, 7.30685731e-03, 2.81759893e-01,\n",
              "        2.21236699e-01, 3.83795262e-02, 2.05404935e-02, 9.12351993e-02,\n",
              "        2.52577643e-02, 2.39590214e-01, 1.73120390e-01, 1.29895143e-02,\n",
              "        3.04868103e-01, 1.09063753e+00, 1.67300197e-02, 6.61668396e-01,\n",
              "        2.86801726e-01, 1.21038719e-02, 7.03239776e-01, 5.20160379e-01,\n",
              "        1.71021805e-02, 4.80356563e-01, 1.02211072e-01, 1.52525060e-01,\n",
              "        6.55866155e-02, 1.09011118e-01, 2.65642454e-01, 8.06151267e-02,\n",
              "        5.18816135e-02, 1.45975917e-01, 8.93113147e-02, 8.40751944e-02,\n",
              "        2.80206569e-01, 8.97707177e-02, 9.84943340e-02, 3.67387207e-01,\n",
              "        1.45685494e-01, 1.89794395e-01, 2.46253301e-01, 1.45164355e-01,\n",
              "        8.90507394e-02, 3.92144291e-01, 1.77548220e-01, 1.22145823e-01,\n",
              "        4.12259965e-01, 1.13256578e-01, 1.09934380e-01, 4.12769077e-01,\n",
              "        6.85602150e-02, 1.22526497e-01, 1.62870401e-01, 9.12498506e-02,\n",
              "        1.59309040e-01, 1.12635780e-01, 1.23766598e-01, 9.37852881e-02,\n",
              "        1.95603606e-01, 3.94039400e-01, 2.62060324e-01, 2.84940210e-01,\n",
              "        5.55544064e-02, 1.73286144e-01, 2.28663257e-01, 7.59004528e-02,\n",
              "        3.66741843e-01, 2.95865005e-01, 3.91744846e-02, 4.59667996e-02,\n",
              "        5.23710703e-01, 8.02414437e-02, 5.70988913e-02, 1.73211256e-01,\n",
              "        8.65033709e-02, 9.45444808e-02, 2.96175765e-01, 4.33759751e-02,\n",
              "        1.47680750e-01, 2.73467447e-01, 3.47718705e-01, 2.93858058e-01,\n",
              "        3.18627688e-01, 3.32079569e-01, 3.15791574e-01, 4.15689402e-01,\n",
              "        5.14356056e-01, 3.82020776e-01, 3.54515457e-01, 1.86271266e-01,\n",
              "        3.78435808e-01, 3.58730780e-01, 3.75083325e-01, 2.68532289e-01,\n",
              "        3.25621200e-01, 3.68055951e-01, 1.39118823e-01, 4.57222289e-01,\n",
              "        2.85238761e-01, 3.32274698e-01, 1.51106316e-01, 2.34314768e-01,\n",
              "        1.69365861e-01, 3.97372289e-01, 3.02942840e-01, 1.82997688e-01,\n",
              "        8.22402716e-01, 6.13712579e-01, 4.39236705e-01, 2.75390912e-01,\n",
              "        4.44850268e-01, 2.83557969e-01, 2.05769911e-01, 8.89171363e-01]),\n",
              " 'std_score_time': array([3.01578841e-04, 2.70234181e-05, 6.69263672e-05, 2.21477386e-05,\n",
              "        1.82189239e-05, 3.18237990e-05, 3.40466406e-05, 3.18673523e-05,\n",
              "        8.08464148e-05, 3.62858979e-04, 3.72165216e-05, 1.20130792e-05,\n",
              "        1.89244888e-05, 1.53356346e-05, 4.95484976e-05, 9.09742817e-05,\n",
              "        4.57395962e-05, 1.06434775e-04, 2.06065386e-05, 5.64208588e-05,\n",
              "        6.75098700e-05, 1.00058412e-04, 5.76044944e-05, 1.66092082e-04,\n",
              "        5.57910886e-05, 5.17092966e-04, 3.74824338e-05, 2.80308649e-04,\n",
              "        6.48756933e-04, 9.63355752e-05, 6.45100231e-05, 3.13318663e-05,\n",
              "        1.78445436e-05, 3.34904792e-04, 2.73438567e-05, 2.19764133e-04,\n",
              "        3.81688413e-05, 4.42875202e-05, 7.97184741e-05, 5.61995428e-05,\n",
              "        1.00656202e-04, 7.55519850e-05, 1.40136592e-05, 5.03431204e-05,\n",
              "        3.24737658e-05, 2.41954805e-04, 4.74253809e-05, 2.52270742e-05,\n",
              "        3.21564357e-05, 6.66156016e-05, 2.50747439e-05, 1.29692695e-05,\n",
              "        2.48466478e-05, 4.64838217e-05, 5.41684493e-05, 3.16375615e-05,\n",
              "        2.02580045e-05, 3.34665638e-05, 1.65472800e-05, 2.98758173e-05,\n",
              "        2.81072754e-05, 3.15100979e-05, 2.36901962e-04, 4.91254294e-05,\n",
              "        1.25514247e-04, 3.55292003e-05, 4.29324540e-05, 8.89066174e-05,\n",
              "        3.55240163e-05, 3.28081291e-05, 2.31761500e-05, 5.55598985e-05,\n",
              "        1.39531711e-05, 3.89187934e-05, 3.73319950e-05, 1.62068526e-05,\n",
              "        3.48466514e-05, 2.64496375e-05, 7.46221054e-05, 1.69009010e-05,\n",
              "        5.94643659e-05, 2.99043435e-05, 5.24014315e-05, 6.37147948e-05,\n",
              "        5.89683906e-05, 3.66771165e-05, 2.16330671e-05, 6.48206407e-05,\n",
              "        2.32417036e-03, 1.70336258e-04, 1.33024748e-05, 3.01252418e-05,\n",
              "        2.13559175e-05, 8.49793385e-05, 1.03219154e-04, 1.69502028e-05,\n",
              "        5.71103626e-05, 2.37786409e-05, 8.25370549e-05, 5.65220812e-05,\n",
              "        7.52258942e-05, 6.25824746e-05, 8.32116501e-05, 4.47278338e-05,\n",
              "        5.59185860e-05, 2.16894108e-04, 5.81547048e-05, 4.60716006e-05,\n",
              "        6.29593003e-05, 7.53829953e-04, 2.10306270e-05, 3.22405397e-05,\n",
              "        4.27208307e-05, 5.37542486e-05, 6.88408866e-05, 1.52855876e-05,\n",
              "        3.18656562e-04, 2.57524736e-04, 1.37022458e-05, 4.37556232e-05,\n",
              "        3.98350572e-05, 1.93824774e-05, 1.14970175e-05, 1.95855312e-05,\n",
              "        5.55860838e-05, 3.28374317e-05, 1.14624314e-04, 8.57089292e-05,\n",
              "        1.38065694e-04, 2.72669980e-05, 3.34049530e-05, 1.17217301e-04,\n",
              "        7.21502681e-05, 6.99398372e-05, 5.81704201e-05, 1.95480148e-04,\n",
              "        2.38325101e-05, 3.26722196e-05, 4.83900682e-05, 1.96608524e-04,\n",
              "        4.79697707e-05, 7.48716945e-05, 3.06916488e-05, 1.52748738e-05,\n",
              "        3.10242583e-05, 5.92984153e-05, 2.58451018e-05, 6.40607962e-05,\n",
              "        2.67296895e-05, 6.96561984e-05, 5.36253366e-05, 2.60683870e-05,\n",
              "        1.70541128e-05, 5.34271725e-05, 3.11631962e-05, 8.87482729e-05,\n",
              "        5.76103359e-05, 1.06207960e-04, 5.23921017e-05, 3.48856490e-05,\n",
              "        1.82337479e-04, 7.19595459e-05, 1.75320865e-04, 3.02963884e-05,\n",
              "        7.33259586e-05, 7.64625296e-05, 6.32985118e-05, 9.33688986e-04,\n",
              "        4.16242515e-05, 3.79385619e-05, 3.06404145e-05, 9.61142623e-05,\n",
              "        3.82568167e-04, 1.36117181e-03, 4.46192202e-05, 1.92719210e-04,\n",
              "        7.47724150e-05, 2.15733905e-05, 7.07806258e-05, 2.84450052e-05]),\n",
              " 'std_test_score': array([0.10935737, 0.10380925, 0.09146689, 0.10935737, 0.06189487,\n",
              "        0.08925774, 0.10935737, 0.09868674, 0.09931259, 0.10935737,\n",
              "        0.10113711, 0.08863314, 0.10935737, 0.08636025, 0.0906915 ,\n",
              "        0.10935737, 0.09107485, 0.10134544, 0.10935737, 0.11011249,\n",
              "        0.09523731, 0.10935737, 0.08818368, 0.09146689, 0.10935737,\n",
              "        0.0966759 , 0.10840261, 0.10935737, 0.11433462, 0.1130259 ,\n",
              "        0.10935737, 0.105565  , 0.0987516 , 0.10935737, 0.11626199,\n",
              "        0.09523731, 0.10935737, 0.11853029, 0.11292422, 0.10935737,\n",
              "        0.10669004, 0.09796851, 0.10935737, 0.12295366, 0.09085747,\n",
              "        0.04838633, 0.00647281, 0.08863314, 0.07993933, 0.00647281,\n",
              "        0.08049105, 0.07292448, 0.00647281, 0.08925774, 0.0800369 ,\n",
              "        0.00647281, 0.09175263, 0.03398924, 0.00647281, 0.08346822,\n",
              "        0.05057409, 0.00647281, 0.09127108, 0.05531619, 0.00647281,\n",
              "        0.09931259, 0.06422355, 0.00647281, 0.09523731, 0.0295974 ,\n",
              "        0.00647281, 0.092759  , 0.08567058, 0.00647281, 0.00647281,\n",
              "        0.09585818, 0.00647281, 0.08242839, 0.10339252, 0.00647281,\n",
              "        0.00647281, 0.05946794, 0.00647281, 0.06913846, 0.05723457,\n",
              "        0.00647281, 0.06723553, 0.09360782, 0.00647281, 0.092759  ,\n",
              "        0.0878472 , 0.07438698, 0.10097311, 0.07628617, 0.09415945,\n",
              "        0.08804047, 0.07028053, 0.07802708, 0.09465218, 0.07087557,\n",
              "        0.09602502, 0.08863314, 0.02157837, 0.09372444, 0.09931259,\n",
              "        0.05843611, 0.11353295, 0.09465218, 0.07066485, 0.10146245,\n",
              "        0.09465218, 0.07352516, 0.08822851, 0.10042516, 0.03822317,\n",
              "        0.10434305, 0.09146689, 0.04315253, 0.10902968, 0.10097311,\n",
              "        0.05930444, 0.11737274, 0.12155186, 0.04450708, 0.12456665,\n",
              "        0.09838477, 0.06186748, 0.10054697, 0.10669004, 0.03555311,\n",
              "        0.12124781, 0.09927655, 0.03567903, 0.11946087, 0.11720415,\n",
              "        0.06977765, 0.07850831, 0.0798922 , 0.09574613, 0.10564346,\n",
              "        0.08880296, 0.07207964, 0.07578152, 0.09792044, 0.05967519,\n",
              "        0.08889622, 0.08571454, 0.09994722, 0.08869049, 0.09307923,\n",
              "        0.04493057, 0.10076401, 0.09868674, 0.04994248, 0.08806186,\n",
              "        0.10042516, 0.05972492, 0.08964722, 0.08881144, 0.05653603,\n",
              "        0.084319  , 0.08838632, 0.09955075, 0.09858555, 0.09793967,\n",
              "        0.07924131, 0.12402727, 0.11434121, 0.04803968, 0.10026187,\n",
              "        0.08454428, 0.02590899, 0.1045522 , 0.10646209, 0.11456293,\n",
              "        0.11224005, 0.0658459 , 0.08358673, 0.12536085, 0.12019482])}"
            ]
          },
          "metadata": {
            "tags": []
          },
          "execution_count": 57
        }
      ]
    },
    {
      "cell_type": "markdown",
      "metadata": {
        "id": "reIMcsZb7mpO",
        "colab_type": "text"
      },
      "source": [
        "**10. Ánalise e interpretação dos resultados**"
      ]
    },
    {
      "cell_type": "markdown",
      "metadata": {
        "id": "NSg5OaK37u8l",
        "colab_type": "text"
      },
      "source": [
        "Realizando a organização dos dados e os modelando com os algoritmos de aprendizado a comparação feita mostra que o método MLP alcançou resultados melhores tendo como base a média e o desvio padrão da árvore de decisão, random forest e MLP. \n",
        "\n",
        "A otimização de parâmetros utilizando o método **Randomized Search** que teve como atributos três camadas escondidas de 10, 50 e 100 neurônios e duas camadas com (50,10), (100,50) com os números máximos de interações de 2000,3000,4000, obteve como resultado:\n",
        "\n",
        "*   **Solucionador:** adam\n",
        "*   **Número máximo de interações:** 2000\n",
        "*   **Tamanho de camadas escondidas:** 10\n",
        "*  **Função de ativação:** Tangente hiperbólica\n",
        "\n",
        "Usando o método Grid Search que possui os mesmos atributos do método acima, mostrou que os atributos para otimização são:\n",
        "\n",
        "*   **Solucionador:** adam\n",
        "*   **Número máximo de interações:** 3000\n",
        "*   **Tamanho de camadas escondidas:** 50\n",
        "*   **Função de ativação:** Identidade\n",
        "\n",
        "E obtiveram os valores de score 0.792, 0.805 respectivamente. Com isso a melhor sujestão de otimização foi a obtida através do Grid Search. \n"
      ]
    }
  ]
}