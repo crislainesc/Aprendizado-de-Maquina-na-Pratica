{
  "nbformat": 4,
  "nbformat_minor": 0,
  "metadata": {
    "colab": {
      "name": "Analisando_Dados_Do_Comercio_.ipynb",
      "provenance": [],
      "authorship_tag": "ABX9TyMvojSI3Mu67ETJ7YzH7weL",
      "include_colab_link": true
    },
    "kernelspec": {
      "name": "python3",
      "display_name": "Python 3"
    }
  },
  "cells": [
    {
      "cell_type": "markdown",
      "metadata": {
        "id": "view-in-github",
        "colab_type": "text"
      },
      "source": [
        "<a href=\"https://colab.research.google.com/github/crislainesc/Aprendizado-de-Maquina-na-Pratica/blob/master/Analisando_Dados_Do_Comercio_.ipynb\" target=\"_parent\"><img src=\"https://colab.research.google.com/assets/colab-badge.svg\" alt=\"Open In Colab\"/></a>"
      ]
    },
    {
      "cell_type": "markdown",
      "metadata": {
        "id": "-lUj5H5LXGTU",
        "colab_type": "text"
      },
      "source": [
        "# **Dados do comércio**\n",
        "\n",
        "*   Data set com dados referentes as exportações, importações e reimportações comércio no período 1 de fevereiro a 12 de agosto de 2020 para analisar os possíveis impactos do COVID-19 .\n",
        "*   [Effects of COVID-19 on trade: 1 February–12 August 2020 (provisional) ](https://www.stats.govt.nz/assets/Uploads/Effects-of-COVID-19-on-trade/Effects-of-COVID-19-on-trade-1-February-12-August-2020-provisional/Download-data/Effects-of-COVID-19-on-trade-1-February-12-August-2020-provisional.csv)\n",
        "*   45400 intâncias."
      ]
    },
    {
      "cell_type": "code",
      "metadata": {
        "id": "WLMcasWLW4t4",
        "colab_type": "code",
        "colab": {
          "base_uri": "https://localhost:8080/",
          "height": 35
        },
        "outputId": "3bc9889b-c9fa-4f6e-f68b-1707fcf47ac4"
      },
      "source": [
        "from google.colab import drive\n",
        "drive.mount('/content/drive/')"
      ],
      "execution_count": 11,
      "outputs": [
        {
          "output_type": "stream",
          "text": [
            "Drive already mounted at /content/drive/; to attempt to forcibly remount, call drive.mount(\"/content/drive/\", force_remount=True).\n"
          ],
          "name": "stdout"
        }
      ]
    },
    {
      "cell_type": "markdown",
      "metadata": {
        "id": "ORyVIzrhXRp_",
        "colab_type": "text"
      },
      "source": [
        "**1. Importando bibliotecas necessárias**"
      ]
    },
    {
      "cell_type": "code",
      "metadata": {
        "id": "ud_8bffsXSTR",
        "colab_type": "code",
        "colab": {}
      },
      "source": [
        "import numpy as np\n",
        "import pandas as pd\n",
        "import matplotlib.pyplot as plt\n",
        "import seaborn as sns"
      ],
      "execution_count": 12,
      "outputs": []
    },
    {
      "cell_type": "markdown",
      "metadata": {
        "id": "IVB9I6GNXViX",
        "colab_type": "text"
      },
      "source": [
        "**2. Carregamento dos dados na memória utilizando a bilioteca Pandas**"
      ]
    },
    {
      "cell_type": "code",
      "metadata": {
        "id": "MUoEb-ntXXn7",
        "colab_type": "code",
        "colab": {}
      },
      "source": [
        "data = pd.read_csv('/content/drive/My Drive/Colab Notebooks/Semana 1/EFEITOSCOVID-19.csv')"
      ],
      "execution_count": 13,
      "outputs": []
    },
    {
      "cell_type": "code",
      "metadata": {
        "id": "gAo_i-ZFXZcJ",
        "colab_type": "code",
        "colab": {
          "base_uri": "https://localhost:8080/",
          "height": 198
        },
        "outputId": "2527131f-b868-4940-beab-9586679a04ab"
      },
      "source": [
        "data.head()"
      ],
      "execution_count": 14,
      "outputs": [
        {
          "output_type": "execute_result",
          "data": {
            "text/html": [
              "<div>\n",
              "<style scoped>\n",
              "    .dataframe tbody tr th:only-of-type {\n",
              "        vertical-align: middle;\n",
              "    }\n",
              "\n",
              "    .dataframe tbody tr th {\n",
              "        vertical-align: top;\n",
              "    }\n",
              "\n",
              "    .dataframe thead th {\n",
              "        text-align: right;\n",
              "    }\n",
              "</style>\n",
              "<table border=\"1\" class=\"dataframe\">\n",
              "  <thead>\n",
              "    <tr style=\"text-align: right;\">\n",
              "      <th></th>\n",
              "      <th>Direction</th>\n",
              "      <th>Year</th>\n",
              "      <th>Date</th>\n",
              "      <th>Weekday</th>\n",
              "      <th>Current_Match</th>\n",
              "      <th>Country</th>\n",
              "      <th>Commodity</th>\n",
              "      <th>Transport_Mode</th>\n",
              "      <th>Measure</th>\n",
              "      <th>Value</th>\n",
              "      <th>Cumulative</th>\n",
              "    </tr>\n",
              "  </thead>\n",
              "  <tbody>\n",
              "    <tr>\n",
              "      <th>0</th>\n",
              "      <td>Exports</td>\n",
              "      <td>2015</td>\n",
              "      <td>31/01/2015</td>\n",
              "      <td>Saturday</td>\n",
              "      <td>1/02/2020</td>\n",
              "      <td>All</td>\n",
              "      <td>All</td>\n",
              "      <td>All</td>\n",
              "      <td>$</td>\n",
              "      <td>257000000</td>\n",
              "      <td>257000000</td>\n",
              "    </tr>\n",
              "    <tr>\n",
              "      <th>1</th>\n",
              "      <td>Exports</td>\n",
              "      <td>2015</td>\n",
              "      <td>1/02/2015</td>\n",
              "      <td>Sunday</td>\n",
              "      <td>2/02/2020</td>\n",
              "      <td>All</td>\n",
              "      <td>All</td>\n",
              "      <td>All</td>\n",
              "      <td>$</td>\n",
              "      <td>123000000</td>\n",
              "      <td>380000000</td>\n",
              "    </tr>\n",
              "    <tr>\n",
              "      <th>2</th>\n",
              "      <td>Exports</td>\n",
              "      <td>2015</td>\n",
              "      <td>2/02/2015</td>\n",
              "      <td>Monday</td>\n",
              "      <td>3/02/2020</td>\n",
              "      <td>All</td>\n",
              "      <td>All</td>\n",
              "      <td>All</td>\n",
              "      <td>$</td>\n",
              "      <td>176000000</td>\n",
              "      <td>556000000</td>\n",
              "    </tr>\n",
              "    <tr>\n",
              "      <th>3</th>\n",
              "      <td>Exports</td>\n",
              "      <td>2015</td>\n",
              "      <td>3/02/2015</td>\n",
              "      <td>Tuesday</td>\n",
              "      <td>4/02/2020</td>\n",
              "      <td>All</td>\n",
              "      <td>All</td>\n",
              "      <td>All</td>\n",
              "      <td>$</td>\n",
              "      <td>115000000</td>\n",
              "      <td>671000000</td>\n",
              "    </tr>\n",
              "    <tr>\n",
              "      <th>4</th>\n",
              "      <td>Exports</td>\n",
              "      <td>2015</td>\n",
              "      <td>4/02/2015</td>\n",
              "      <td>Wednesday</td>\n",
              "      <td>5/02/2020</td>\n",
              "      <td>All</td>\n",
              "      <td>All</td>\n",
              "      <td>All</td>\n",
              "      <td>$</td>\n",
              "      <td>74000000</td>\n",
              "      <td>746000000</td>\n",
              "    </tr>\n",
              "  </tbody>\n",
              "</table>\n",
              "</div>"
            ],
            "text/plain": [
              "  Direction  Year        Date  ... Measure      Value Cumulative\n",
              "0   Exports  2015  31/01/2015  ...       $  257000000  257000000\n",
              "1   Exports  2015   1/02/2015  ...       $  123000000  380000000\n",
              "2   Exports  2015   2/02/2015  ...       $  176000000  556000000\n",
              "3   Exports  2015   3/02/2015  ...       $  115000000  671000000\n",
              "4   Exports  2015   4/02/2015  ...       $   74000000  746000000\n",
              "\n",
              "[5 rows x 11 columns]"
            ]
          },
          "metadata": {
            "tags": []
          },
          "execution_count": 14
        }
      ]
    },
    {
      "cell_type": "code",
      "metadata": {
        "id": "YnlgYXIhXbjs",
        "colab_type": "code",
        "colab": {
          "base_uri": "https://localhost:8080/",
          "height": 72
        },
        "outputId": "84af3252-c06e-492b-f16c-015ac985dbb3"
      },
      "source": [
        "data.columns"
      ],
      "execution_count": 15,
      "outputs": [
        {
          "output_type": "execute_result",
          "data": {
            "text/plain": [
              "Index(['Direction', 'Year', 'Date', 'Weekday', 'Current_Match', 'Country',\n",
              "       'Commodity', 'Transport_Mode', 'Measure', 'Value', 'Cumulative'],\n",
              "      dtype='object')"
            ]
          },
          "metadata": {
            "tags": []
          },
          "execution_count": 15
        }
      ]
    },
    {
      "cell_type": "markdown",
      "metadata": {
        "id": "jx7uZueXXeNT",
        "colab_type": "text"
      },
      "source": [
        "**3. Limpeza e organização dos dados**\n",
        "\n",
        "Analisando a leitura dos dados acima podemos perceber que a coluna Weekday (dia da semana) é redundante e irrelevante para a ánalise dos dados, por existir outra coluna com a informação da data. Além disso, as colunas Country, Commodity, Transport_Mode e Measure não são relevantes, para a comparação dos dados que será feita com a relação das direções e dos valores.\n",
        "\n",
        "Por este motivo tais colunas serão retiradas do dataframe."
      ]
    },
    {
      "cell_type": "code",
      "metadata": {
        "id": "0MnNpTmwXgJ_",
        "colab_type": "code",
        "colab": {}
      },
      "source": [
        "data = data.dropna()"
      ],
      "execution_count": 16,
      "outputs": []
    },
    {
      "cell_type": "code",
      "metadata": {
        "id": "kS0-rkL4Xgkj",
        "colab_type": "code",
        "colab": {
          "base_uri": "https://localhost:8080/",
          "height": 198
        },
        "outputId": "50be4474-6b96-44d5-b5d9-c546ac6cd19d"
      },
      "source": [
        "data = data.drop(columns=['Weekday'])\n",
        "data.head()"
      ],
      "execution_count": 17,
      "outputs": [
        {
          "output_type": "execute_result",
          "data": {
            "text/html": [
              "<div>\n",
              "<style scoped>\n",
              "    .dataframe tbody tr th:only-of-type {\n",
              "        vertical-align: middle;\n",
              "    }\n",
              "\n",
              "    .dataframe tbody tr th {\n",
              "        vertical-align: top;\n",
              "    }\n",
              "\n",
              "    .dataframe thead th {\n",
              "        text-align: right;\n",
              "    }\n",
              "</style>\n",
              "<table border=\"1\" class=\"dataframe\">\n",
              "  <thead>\n",
              "    <tr style=\"text-align: right;\">\n",
              "      <th></th>\n",
              "      <th>Direction</th>\n",
              "      <th>Year</th>\n",
              "      <th>Date</th>\n",
              "      <th>Current_Match</th>\n",
              "      <th>Country</th>\n",
              "      <th>Commodity</th>\n",
              "      <th>Transport_Mode</th>\n",
              "      <th>Measure</th>\n",
              "      <th>Value</th>\n",
              "      <th>Cumulative</th>\n",
              "    </tr>\n",
              "  </thead>\n",
              "  <tbody>\n",
              "    <tr>\n",
              "      <th>0</th>\n",
              "      <td>Exports</td>\n",
              "      <td>2015</td>\n",
              "      <td>31/01/2015</td>\n",
              "      <td>1/02/2020</td>\n",
              "      <td>All</td>\n",
              "      <td>All</td>\n",
              "      <td>All</td>\n",
              "      <td>$</td>\n",
              "      <td>257000000</td>\n",
              "      <td>257000000</td>\n",
              "    </tr>\n",
              "    <tr>\n",
              "      <th>1</th>\n",
              "      <td>Exports</td>\n",
              "      <td>2015</td>\n",
              "      <td>1/02/2015</td>\n",
              "      <td>2/02/2020</td>\n",
              "      <td>All</td>\n",
              "      <td>All</td>\n",
              "      <td>All</td>\n",
              "      <td>$</td>\n",
              "      <td>123000000</td>\n",
              "      <td>380000000</td>\n",
              "    </tr>\n",
              "    <tr>\n",
              "      <th>2</th>\n",
              "      <td>Exports</td>\n",
              "      <td>2015</td>\n",
              "      <td>2/02/2015</td>\n",
              "      <td>3/02/2020</td>\n",
              "      <td>All</td>\n",
              "      <td>All</td>\n",
              "      <td>All</td>\n",
              "      <td>$</td>\n",
              "      <td>176000000</td>\n",
              "      <td>556000000</td>\n",
              "    </tr>\n",
              "    <tr>\n",
              "      <th>3</th>\n",
              "      <td>Exports</td>\n",
              "      <td>2015</td>\n",
              "      <td>3/02/2015</td>\n",
              "      <td>4/02/2020</td>\n",
              "      <td>All</td>\n",
              "      <td>All</td>\n",
              "      <td>All</td>\n",
              "      <td>$</td>\n",
              "      <td>115000000</td>\n",
              "      <td>671000000</td>\n",
              "    </tr>\n",
              "    <tr>\n",
              "      <th>4</th>\n",
              "      <td>Exports</td>\n",
              "      <td>2015</td>\n",
              "      <td>4/02/2015</td>\n",
              "      <td>5/02/2020</td>\n",
              "      <td>All</td>\n",
              "      <td>All</td>\n",
              "      <td>All</td>\n",
              "      <td>$</td>\n",
              "      <td>74000000</td>\n",
              "      <td>746000000</td>\n",
              "    </tr>\n",
              "  </tbody>\n",
              "</table>\n",
              "</div>"
            ],
            "text/plain": [
              "  Direction  Year        Date  ... Measure      Value Cumulative\n",
              "0   Exports  2015  31/01/2015  ...       $  257000000  257000000\n",
              "1   Exports  2015   1/02/2015  ...       $  123000000  380000000\n",
              "2   Exports  2015   2/02/2015  ...       $  176000000  556000000\n",
              "3   Exports  2015   3/02/2015  ...       $  115000000  671000000\n",
              "4   Exports  2015   4/02/2015  ...       $   74000000  746000000\n",
              "\n",
              "[5 rows x 10 columns]"
            ]
          },
          "metadata": {
            "tags": []
          },
          "execution_count": 17
        }
      ]
    },
    {
      "cell_type": "markdown",
      "metadata": {
        "id": "RTNKwtxpXkmd",
        "colab_type": "text"
      },
      "source": [
        "Para facilitar a análise de dados os atributos Exports e Imports e Reimports serão trocados por 0, 1 e 2 respectivamente."
      ]
    },
    {
      "cell_type": "code",
      "metadata": {
        "id": "bB6IKzyPXlUa",
        "colab_type": "code",
        "colab": {
          "base_uri": "https://localhost:8080/",
          "height": 407
        },
        "outputId": "a18ae77f-7d6a-4d51-a58c-c07b18418aa1"
      },
      "source": [
        "data['Direction'] = data['Direction'].replace(['Exports','Imports','Reimports'],[0,1,2])\n",
        "data.head(45400)"
      ],
      "execution_count": 18,
      "outputs": [
        {
          "output_type": "execute_result",
          "data": {
            "text/html": [
              "<div>\n",
              "<style scoped>\n",
              "    .dataframe tbody tr th:only-of-type {\n",
              "        vertical-align: middle;\n",
              "    }\n",
              "\n",
              "    .dataframe tbody tr th {\n",
              "        vertical-align: top;\n",
              "    }\n",
              "\n",
              "    .dataframe thead th {\n",
              "        text-align: right;\n",
              "    }\n",
              "</style>\n",
              "<table border=\"1\" class=\"dataframe\">\n",
              "  <thead>\n",
              "    <tr style=\"text-align: right;\">\n",
              "      <th></th>\n",
              "      <th>Direction</th>\n",
              "      <th>Year</th>\n",
              "      <th>Date</th>\n",
              "      <th>Current_Match</th>\n",
              "      <th>Country</th>\n",
              "      <th>Commodity</th>\n",
              "      <th>Transport_Mode</th>\n",
              "      <th>Measure</th>\n",
              "      <th>Value</th>\n",
              "      <th>Cumulative</th>\n",
              "    </tr>\n",
              "  </thead>\n",
              "  <tbody>\n",
              "    <tr>\n",
              "      <th>0</th>\n",
              "      <td>0</td>\n",
              "      <td>2015</td>\n",
              "      <td>31/01/2015</td>\n",
              "      <td>1/02/2020</td>\n",
              "      <td>All</td>\n",
              "      <td>All</td>\n",
              "      <td>All</td>\n",
              "      <td>$</td>\n",
              "      <td>257000000</td>\n",
              "      <td>257000000</td>\n",
              "    </tr>\n",
              "    <tr>\n",
              "      <th>1</th>\n",
              "      <td>0</td>\n",
              "      <td>2015</td>\n",
              "      <td>1/02/2015</td>\n",
              "      <td>2/02/2020</td>\n",
              "      <td>All</td>\n",
              "      <td>All</td>\n",
              "      <td>All</td>\n",
              "      <td>$</td>\n",
              "      <td>123000000</td>\n",
              "      <td>380000000</td>\n",
              "    </tr>\n",
              "    <tr>\n",
              "      <th>2</th>\n",
              "      <td>0</td>\n",
              "      <td>2015</td>\n",
              "      <td>2/02/2015</td>\n",
              "      <td>3/02/2020</td>\n",
              "      <td>All</td>\n",
              "      <td>All</td>\n",
              "      <td>All</td>\n",
              "      <td>$</td>\n",
              "      <td>176000000</td>\n",
              "      <td>556000000</td>\n",
              "    </tr>\n",
              "    <tr>\n",
              "      <th>3</th>\n",
              "      <td>0</td>\n",
              "      <td>2015</td>\n",
              "      <td>3/02/2015</td>\n",
              "      <td>4/02/2020</td>\n",
              "      <td>All</td>\n",
              "      <td>All</td>\n",
              "      <td>All</td>\n",
              "      <td>$</td>\n",
              "      <td>115000000</td>\n",
              "      <td>671000000</td>\n",
              "    </tr>\n",
              "    <tr>\n",
              "      <th>4</th>\n",
              "      <td>0</td>\n",
              "      <td>2015</td>\n",
              "      <td>4/02/2015</td>\n",
              "      <td>5/02/2020</td>\n",
              "      <td>All</td>\n",
              "      <td>All</td>\n",
              "      <td>All</td>\n",
              "      <td>$</td>\n",
              "      <td>74000000</td>\n",
              "      <td>746000000</td>\n",
              "    </tr>\n",
              "    <tr>\n",
              "      <th>...</th>\n",
              "      <td>...</td>\n",
              "      <td>...</td>\n",
              "      <td>...</td>\n",
              "      <td>...</td>\n",
              "      <td>...</td>\n",
              "      <td>...</td>\n",
              "      <td>...</td>\n",
              "      <td>...</td>\n",
              "      <td>...</td>\n",
              "      <td>...</td>\n",
              "    </tr>\n",
              "    <tr>\n",
              "      <th>45395</th>\n",
              "      <td>2</td>\n",
              "      <td>2015</td>\n",
              "      <td>23/02/2015</td>\n",
              "      <td>24/02/2020</td>\n",
              "      <td>All</td>\n",
              "      <td>All</td>\n",
              "      <td>All</td>\n",
              "      <td>$</td>\n",
              "      <td>1000000</td>\n",
              "      <td>17000000</td>\n",
              "    </tr>\n",
              "    <tr>\n",
              "      <th>45396</th>\n",
              "      <td>2</td>\n",
              "      <td>2015</td>\n",
              "      <td>24/02/2015</td>\n",
              "      <td>25/02/2020</td>\n",
              "      <td>All</td>\n",
              "      <td>All</td>\n",
              "      <td>All</td>\n",
              "      <td>$</td>\n",
              "      <td>0</td>\n",
              "      <td>18000000</td>\n",
              "    </tr>\n",
              "    <tr>\n",
              "      <th>45397</th>\n",
              "      <td>2</td>\n",
              "      <td>2015</td>\n",
              "      <td>25/02/2015</td>\n",
              "      <td>26/02/2020</td>\n",
              "      <td>All</td>\n",
              "      <td>All</td>\n",
              "      <td>All</td>\n",
              "      <td>$</td>\n",
              "      <td>1000000</td>\n",
              "      <td>19000000</td>\n",
              "    </tr>\n",
              "    <tr>\n",
              "      <th>45398</th>\n",
              "      <td>2</td>\n",
              "      <td>2015</td>\n",
              "      <td>26/02/2015</td>\n",
              "      <td>27/02/2020</td>\n",
              "      <td>All</td>\n",
              "      <td>All</td>\n",
              "      <td>All</td>\n",
              "      <td>$</td>\n",
              "      <td>1000000</td>\n",
              "      <td>19000000</td>\n",
              "    </tr>\n",
              "    <tr>\n",
              "      <th>45399</th>\n",
              "      <td>2</td>\n",
              "      <td>2015</td>\n",
              "      <td>27/02/2015</td>\n",
              "      <td>28/02/2020</td>\n",
              "      <td>All</td>\n",
              "      <td>All</td>\n",
              "      <td>All</td>\n",
              "      <td>$</td>\n",
              "      <td>2000000</td>\n",
              "      <td>21000000</td>\n",
              "    </tr>\n",
              "  </tbody>\n",
              "</table>\n",
              "<p>45400 rows × 10 columns</p>\n",
              "</div>"
            ],
            "text/plain": [
              "       Direction  Year        Date  ... Measure      Value Cumulative\n",
              "0              0  2015  31/01/2015  ...       $  257000000  257000000\n",
              "1              0  2015   1/02/2015  ...       $  123000000  380000000\n",
              "2              0  2015   2/02/2015  ...       $  176000000  556000000\n",
              "3              0  2015   3/02/2015  ...       $  115000000  671000000\n",
              "4              0  2015   4/02/2015  ...       $   74000000  746000000\n",
              "...          ...   ...         ...  ...     ...        ...        ...\n",
              "45395          2  2015  23/02/2015  ...       $    1000000   17000000\n",
              "45396          2  2015  24/02/2015  ...       $          0   18000000\n",
              "45397          2  2015  25/02/2015  ...       $    1000000   19000000\n",
              "45398          2  2015  26/02/2015  ...       $    1000000   19000000\n",
              "45399          2  2015  27/02/2015  ...       $    2000000   21000000\n",
              "\n",
              "[45400 rows x 10 columns]"
            ]
          },
          "metadata": {
            "tags": []
          },
          "execution_count": 18
        }
      ]
    },
    {
      "cell_type": "markdown",
      "metadata": {
        "id": "iOYjQ6MlXpm7",
        "colab_type": "text"
      },
      "source": [
        "**4. Análise preliminar dos dados**"
      ]
    },
    {
      "cell_type": "markdown",
      "metadata": {
        "id": "Jw9uS5INXrmY",
        "colab_type": "text"
      },
      "source": [
        "**Histograma**"
      ]
    },
    {
      "cell_type": "code",
      "metadata": {
        "id": "PQIGxKHIXtpv",
        "colab_type": "code",
        "colab": {
          "base_uri": "https://localhost:8080/",
          "height": 295
        },
        "outputId": "a8c2b6ae-13a3-418b-de5b-38c23f5c5b8c"
      },
      "source": [
        "plt.hist(data['Direction'])\n",
        "plt.xlabel('Direção')\n",
        "plt.ylabel('Dados')\n",
        "plt.title('Exportação, Importação e Reimportaçao')\n",
        "plt.grid(True)\n",
        "plt.show()"
      ],
      "execution_count": 19,
      "outputs": [
        {
          "output_type": "display_data",
          "data": {
            "image/png": "[encoded data removed]",
            "text/plain": [
              "<Figure size 432x288 with 1 Axes>"
            ]
          },
          "metadata": {
            "tags": [],
            "needs_background": "light"
          }
        }
      ]
    },
    {
      "cell_type": "markdown",
      "metadata": {
        "id": "HXyeygZtXz5H",
        "colab_type": "text"
      },
      "source": [
        "**Contando ocorrências das direções**"
      ]
    },
    {
      "cell_type": "code",
      "metadata": {
        "id": "EekJcrfQX0h0",
        "colab_type": "code",
        "colab": {
          "base_uri": "https://localhost:8080/",
          "height": 72
        },
        "outputId": "c3ff0b07-e84a-438b-9799-74c61b91a260"
      },
      "source": [
        "print('Exportações:',data[data['Direction'] == 0].shape[0])\n",
        "print('Importações:',data[data['Direction'] == 1].shape[0])\n",
        "print('Reimportações:',data[data['Direction'] == 2].shape[0])"
      ],
      "execution_count": 20,
      "outputs": [
        {
          "output_type": "stream",
          "text": [
            "Exportações: 34896\n",
            "Importações: 10476\n",
            "Reimportações: 1164\n"
          ],
          "name": "stdout"
        }
      ]
    },
    {
      "cell_type": "code",
      "metadata": {
        "id": "REi5LEvXX3SM",
        "colab_type": "code",
        "colab": {
          "base_uri": "https://localhost:8080/",
          "height": 281
        },
        "outputId": "02e0bafb-9b55-4c2b-b0f4-54f290325549"
      },
      "source": [
        "plt.hist(data['Commodity'])\n",
        "plt.title('Mercadoria')\n",
        "plt.grid(True)\n",
        "plt.show()"
      ],
      "execution_count": 21,
      "outputs": [
        {
          "output_type": "display_data",
          "data": {
            "image/png": "[encoded data removed]",
            "text/plain": [
              "<Figure size 432x288 with 1 Axes>"
            ]
          },
          "metadata": {
            "tags": [],
            "needs_background": "light"
          }
        }
      ]
    },
    {
      "cell_type": "code",
      "metadata": {
        "id": "zX2ed3HgX4m8",
        "colab_type": "code",
        "colab": {
          "base_uri": "https://localhost:8080/",
          "height": 281
        },
        "outputId": "e2ab5fd6-302a-4441-b2cc-4d29ea1a1182"
      },
      "source": [
        "plt.hist(data['Transport_Mode'])\n",
        "plt.title('Modo de Transporte')\n",
        "plt.grid(True)\n",
        "plt.show()"
      ],
      "execution_count": 22,
      "outputs": [
        {
          "output_type": "display_data",
          "data": {
            "image/png": "[encoded data removed]",
            "text/plain": [
              "<Figure size 432x288 with 1 Axes>"
            ]
          },
          "metadata": {
            "tags": [],
            "needs_background": "light"
          }
        }
      ]
    },
    {
      "cell_type": "markdown",
      "metadata": {
        "id": "bSvlWGOVX6cH",
        "colab_type": "text"
      },
      "source": [
        "**BoxPlot**"
      ]
    },
    {
      "cell_type": "code",
      "metadata": {
        "id": "pi6lk59UX7b2",
        "colab_type": "code",
        "colab": {
          "base_uri": "https://localhost:8080/",
          "height": 281
        },
        "outputId": "d7e05b12-7a11-4959-ece4-6efcb0b12fc2"
      },
      "source": [
        "plt.boxplot(data.Value)\n",
        "plt.title('Valores')\n",
        "plt.grid()\n",
        "plt.show()"
      ],
      "execution_count": 23,
      "outputs": [
        {
          "output_type": "display_data",
          "data": {
            "image/png": "[encoded data removed]",
            "text/plain": [
              "<Figure size 432x288 with 1 Axes>"
            ]
          },
          "metadata": {
            "tags": [],
            "needs_background": "light"
          }
        }
      ]
    },
    {
      "cell_type": "code",
      "metadata": {
        "id": "pk_A8Wx8X9rD",
        "colab_type": "code",
        "colab": {
          "base_uri": "https://localhost:8080/",
          "height": 281
        },
        "outputId": "ec4ecf80-1f27-468f-94cf-976e795091ef"
      },
      "source": [
        "plt.boxplot(data.Cumulative)\n",
        "plt.title('Cumulativo')\n",
        "plt.grid()\n",
        "plt.show()"
      ],
      "execution_count": 24,
      "outputs": [
        {
          "output_type": "display_data",
          "data": {
            "image/png": "[encoded data removed]",
            "text/plain": [
              "<Figure size 432x288 with 1 Axes>"
            ]
          },
          "metadata": {
            "tags": [],
            "needs_background": "light"
          }
        }
      ]
    },
    {
      "cell_type": "markdown",
      "metadata": {
        "id": "YXz5YRFVYAwW",
        "colab_type": "text"
      },
      "source": [
        "**Análise comparativa dos valores entre os anos (2015-2020)**"
      ]
    },
    {
      "cell_type": "markdown",
      "metadata": {
        "id": "K-OjipuPYBIt",
        "colab_type": "text"
      },
      "source": [
        "Separando os dados em variáveis."
      ]
    },
    {
      "cell_type": "code",
      "metadata": {
        "id": "-4vQFss7YFFA",
        "colab_type": "code",
        "colab": {}
      },
      "source": [
        "expor = data[data['Direction']==0].drop(columns=['Direction']).reset_index(drop=True)"
      ],
      "execution_count": 25,
      "outputs": []
    },
    {
      "cell_type": "code",
      "metadata": {
        "id": "aA0KfhDjYdDT",
        "colab_type": "code",
        "colab": {}
      },
      "source": [
        "impor = data[data['Direction']==1].drop(columns=['Direction']).reset_index(drop=True)"
      ],
      "execution_count": 26,
      "outputs": []
    },
    {
      "cell_type": "code",
      "metadata": {
        "id": "-kvkTNaDYekj",
        "colab_type": "code",
        "colab": {}
      },
      "source": [
        "reimpor = data[data['Direction']==2].drop(columns=['Direction']).reset_index(drop=True)"
      ],
      "execution_count": 27,
      "outputs": []
    },
    {
      "cell_type": "code",
      "metadata": {
        "id": "8pfa5FgiYfzS",
        "colab_type": "code",
        "colab": {}
      },
      "source": [
        "doismildesessete = data[data['Year']==2017].drop(columns=['Year']).reset_index(drop=True)"
      ],
      "execution_count": 28,
      "outputs": []
    },
    {
      "cell_type": "code",
      "metadata": {
        "id": "ovaI1dH1Yg_t",
        "colab_type": "code",
        "colab": {}
      },
      "source": [
        "doismilvinte = data[data['Year']==2020].drop(columns=['Year']).reset_index(drop=True)"
      ],
      "execution_count": 29,
      "outputs": []
    },
    {
      "cell_type": "code",
      "metadata": {
        "id": "qWAXhDRDYib5",
        "colab_type": "code",
        "colab": {}
      },
      "source": [
        "sea = data[data['Transport_Mode']=='Sea'].drop(columns=['Transport_Mode']).reset_index(drop=True)"
      ],
      "execution_count": 30,
      "outputs": []
    },
    {
      "cell_type": "code",
      "metadata": {
        "id": "uxPls_N3YjrJ",
        "colab_type": "code",
        "colab": {}
      },
      "source": [
        "air = data[data['Transport_Mode']=='Air'].drop(columns=['Transport_Mode']).reset_index(drop=True)"
      ],
      "execution_count": 31,
      "outputs": []
    },
    {
      "cell_type": "code",
      "metadata": {
        "id": "AUPzkxm5YlZl",
        "colab_type": "code",
        "colab": {}
      },
      "source": [
        "reino_unido = data[data['Country']=='United Kingdom'].drop(columns=['Country']).reset_index(drop=True)"
      ],
      "execution_count": 32,
      "outputs": []
    },
    {
      "cell_type": "code",
      "metadata": {
        "id": "8OQAhO7XYm5_",
        "colab_type": "code",
        "colab": {}
      },
      "source": [
        "japao = data[data['Country']=='Japan'].drop(columns=['Country']).reset_index(drop=True)"
      ],
      "execution_count": 33,
      "outputs": []
    },
    {
      "cell_type": "code",
      "metadata": {
        "id": "4wbEW2jHYoHM",
        "colab_type": "code",
        "colab": {}
      },
      "source": [
        "eua = data[data['Country']=='United States'].drop(columns=['Country']).reset_index(drop=True)"
      ],
      "execution_count": 34,
      "outputs": []
    },
    {
      "cell_type": "code",
      "metadata": {
        "id": "_IjFp2lDYpjw",
        "colab_type": "code",
        "colab": {}
      },
      "source": [
        "australia = data[data['Country']=='Australia'].drop(columns=['Country']).reset_index(drop=True)"
      ],
      "execution_count": 35,
      "outputs": []
    },
    {
      "cell_type": "code",
      "metadata": {
        "id": "GU2D0wMXYq2i",
        "colab_type": "code",
        "colab": {}
      },
      "source": [
        "china = data[data['Country']=='China'].drop(columns=['Country']).reset_index(drop=True)"
      ],
      "execution_count": 36,
      "outputs": []
    },
    {
      "cell_type": "markdown",
      "metadata": {
        "id": "4TkCtImYYsdg",
        "colab_type": "text"
      },
      "source": [
        "**Comparação dos dados através dos gráficos.**"
      ]
    },
    {
      "cell_type": "code",
      "metadata": {
        "id": "JkPsp-3LYuG0",
        "colab_type": "code",
        "colab": {
          "base_uri": "https://localhost:8080/",
          "height": 299
        },
        "outputId": "fd9d6b80-d346-4c39-893d-cc7082ffc67c"
      },
      "source": [
        "plt.boxplot([doismildesessete.Value, doismilvinte.Value], labels=['2017','2020'])\n",
        "plt.title('Valores (2017 e 2020)')"
      ],
      "execution_count": 37,
      "outputs": [
        {
          "output_type": "execute_result",
          "data": {
            "text/plain": [
              "Text(0.5, 1.0, 'Valores (2017 e 2020)')"
            ]
          },
          "metadata": {
            "tags": []
          },
          "execution_count": 37
        },
        {
          "output_type": "display_data",
          "data": {
            "image/png": "[encoded data removed]",
            "text/plain": [
              "<Figure size 432x288 with 1 Axes>"
            ]
          },
          "metadata": {
            "tags": [],
            "needs_background": "light"
          }
        }
      ]
    },
    {
      "cell_type": "code",
      "metadata": {
        "id": "UFMY4INKYvcY",
        "colab_type": "code",
        "colab": {
          "base_uri": "https://localhost:8080/",
          "height": 299
        },
        "outputId": "2ce118b6-140f-42fb-f858-c539c9730b07"
      },
      "source": [
        "plt.boxplot([sea.Value, air.Value], labels=['Marítmo','Áereo'])\n",
        "plt.title('Meios de Transporte')"
      ],
      "execution_count": 38,
      "outputs": [
        {
          "output_type": "execute_result",
          "data": {
            "text/plain": [
              "Text(0.5, 1.0, 'Meios de Transporte')"
            ]
          },
          "metadata": {
            "tags": []
          },
          "execution_count": 38
        },
        {
          "output_type": "display_data",
          "data": {
            "image/png": "[encoded data removed]",
            "text/plain": [
              "<Figure size 432x288 with 1 Axes>"
            ]
          },
          "metadata": {
            "tags": [],
            "needs_background": "light"
          }
        }
      ]
    },
    {
      "cell_type": "code",
      "metadata": {
        "id": "lznRJ_EWYxYE",
        "colab_type": "code",
        "colab": {
          "base_uri": "https://localhost:8080/",
          "height": 300
        },
        "outputId": "3b372ae6-21e1-41c7-f70e-c066447260aa"
      },
      "source": [
        "plt.boxplot([reino_unido.Value, japao.Value, eua.Value, australia.Value, china.Value], labels=['Reino Unido','Japáo', 'Estados Unidos', 'Austrália','China'])\n",
        "plt.title('Países')"
      ],
      "execution_count": 39,
      "outputs": [
        {
          "output_type": "execute_result",
          "data": {
            "text/plain": [
              "Text(0.5, 1.0, 'Países')"
            ]
          },
          "metadata": {
            "tags": []
          },
          "execution_count": 39
        },
        {
          "output_type": "display_data",
          "data": {
            "image/png": "[encoded data removed]",
            "text/plain": [
              "<Figure size 432x288 with 1 Axes>"
            ]
          },
          "metadata": {
            "tags": [],
            "needs_background": "light"
          }
        }
      ]
    },
    {
      "cell_type": "code",
      "metadata": {
        "id": "nM0VP6VkYy2Y",
        "colab_type": "code",
        "colab": {
          "base_uri": "https://localhost:8080/",
          "height": 281
        },
        "outputId": "637f151e-7d12-4804-ea2d-06bbc1b912a2"
      },
      "source": [
        "expor.boxplot()\n",
        "plt.title('Exportações')\n",
        "plt.show()"
      ],
      "execution_count": 40,
      "outputs": [
        {
          "output_type": "display_data",
          "data": {
            "image/png": "[encoded data removed]",
            "text/plain": [
              "<Figure size 432x288 with 1 Axes>"
            ]
          },
          "metadata": {
            "tags": [],
            "needs_background": "light"
          }
        }
      ]
    },
    {
      "cell_type": "code",
      "metadata": {
        "id": "u1QbcWTyYzY5",
        "colab_type": "code",
        "colab": {
          "base_uri": "https://localhost:8080/",
          "height": 281
        },
        "outputId": "595f3a62-6020-4464-dbb1-d2245f9a7ef8"
      },
      "source": [
        "impor.boxplot()\n",
        "plt.title('Importações')\n",
        "plt.show()"
      ],
      "execution_count": 41,
      "outputs": [
        {
          "output_type": "display_data",
          "data": {
            "image/png": "[encoded data removed]",
            "text/plain": [
              "<Figure size 432x288 with 1 Axes>"
            ]
          },
          "metadata": {
            "tags": [],
            "needs_background": "light"
          }
        }
      ]
    },
    {
      "cell_type": "code",
      "metadata": {
        "id": "bGJ1TXQJY2Ui",
        "colab_type": "code",
        "colab": {
          "base_uri": "https://localhost:8080/",
          "height": 281
        },
        "outputId": "1d827549-3ed8-43b4-bb05-5508a8560722"
      },
      "source": [
        "reimpor.boxplot()\n",
        "plt.title('Reimportações')\n",
        "plt.show()"
      ],
      "execution_count": 42,
      "outputs": [
        {
          "output_type": "display_data",
          "data": {
            "image/png": "[encoded data removed]",
            "text/plain": [
              "<Figure size 432x288 with 1 Axes>"
            ]
          },
          "metadata": {
            "tags": [],
            "needs_background": "light"
          }
        }
      ]
    },
    {
      "cell_type": "code",
      "metadata": {
        "id": "eTOwZSM4Y36K",
        "colab_type": "code",
        "colab": {
          "base_uri": "https://localhost:8080/",
          "height": 281
        },
        "outputId": "88e66751-375c-41cc-ff41-746c063b2b63"
      },
      "source": [
        "plt.boxplot([expor.Value,impor.Value,reimpor.Value],labels=['Exportações','Importações','Reimportações'])\n",
        "plt.title('Valores')\n",
        "plt.show()"
      ],
      "execution_count": 43,
      "outputs": [
        {
          "output_type": "display_data",
          "data": {
            "image/png": "[encoded data removed]",
            "text/plain": [
              "<Figure size 432x288 with 1 Axes>"
            ]
          },
          "metadata": {
            "tags": [],
            "needs_background": "light"
          }
        }
      ]
    },
    {
      "cell_type": "code",
      "metadata": {
        "id": "udCsRrowY5lo",
        "colab_type": "code",
        "colab": {
          "base_uri": "https://localhost:8080/",
          "height": 281
        },
        "outputId": "c3da9a5a-5f65-4d02-a27e-56531515f7ac"
      },
      "source": [
        "plt.boxplot([expor.Cumulative,impor.Cumulative,reimpor.Cumulative],labels=['Exportações','Importações','Reimportações'])\n",
        "plt.title('Cumulativo')\n",
        "plt.show()"
      ],
      "execution_count": 44,
      "outputs": [
        {
          "output_type": "display_data",
          "data": {
            "image/png": "[encoded data removed]",
            "text/plain": [
              "<Figure size 432x288 with 1 Axes>"
            ]
          },
          "metadata": {
            "tags": [],
            "needs_background": "light"
          }
        }
      ]
    },
    {
      "cell_type": "code",
      "metadata": {
        "id": "a00tf5_mY7Ja",
        "colab_type": "code",
        "colab": {
          "base_uri": "https://localhost:8080/",
          "height": 295
        },
        "outputId": "aa697c6e-a770-4c3d-bf93-798ec09fc409"
      },
      "source": [
        "sns.distplot(reino_unido.Cumulative,hist=False,rug=False,label='Reino Unido')\n",
        "sns.distplot(japao.Cumulative,hist=False,rug=False,label='Japão')\n",
        "sns.distplot(eua.Cumulative,hist=False,rug=False,label='Estados Unidos')\n",
        "sns.distplot(australia.Cumulative,hist=False,rug=False,label='Austrália')\n",
        "sns.distplot(china.Cumulative,hist=False,rug=False,label='China')\n",
        "plt.title('Cumulativo')\n",
        "plt.show()"
      ],
      "execution_count": 45,
      "outputs": [
        {
          "output_type": "display_data",
          "data": {
            "image/png": "[encoded data removed]",
            "text/plain": [
              "<Figure size 432x288 with 1 Axes>"
            ]
          },
          "metadata": {
            "tags": [],
            "needs_background": "light"
          }
        }
      ]
    },
    {
      "cell_type": "markdown",
      "metadata": {
        "id": "Sz1TflEdY8_O",
        "colab_type": "text"
      },
      "source": [
        "**Análise estátistica dos dados**\n",
        "\n",
        "Média"
      ]
    },
    {
      "cell_type": "code",
      "metadata": {
        "id": "SySZ27fwY9mS",
        "colab_type": "code",
        "colab": {
          "base_uri": "https://localhost:8080/",
          "height": 181
        },
        "outputId": "c46e9749-089a-460e-ddaf-8c29d4f8dfed"
      },
      "source": [
        "print('Exportações')\n",
        "print('Valores: ', expor.Value.mean())\n",
        "print('Cumulativo: ', expor.Cumulative.mean())\n",
        "print('Importações')\n",
        "print('Valores: ', impor.Value.mean())\n",
        "print('Cumulativo: ', impor.Cumulative.mean())\n",
        "print('Reimportações')\n",
        "print('Valores: ', reimpor.Value.mean())\n",
        "print('Cumulativo: ', reimpor.Cumulative.mean())"
      ],
      "execution_count": 46,
      "outputs": [
        {
          "output_type": "stream",
          "text": [
            "Exportações\n",
            "Valores:  24243978.736817975\n",
            "Cumulativo:  2407479712.3452544\n",
            "Importações\n",
            "Valores:  56521764.03207331\n",
            "Cumulativo:  5374413230.24055\n",
            "Reimportações\n",
            "Valores:  509450.1718213058\n",
            "Cumulativo:  53231958.7628866\n"
          ],
          "name": "stdout"
        }
      ]
    },
    {
      "cell_type": "markdown",
      "metadata": {
        "id": "GlBl64dyY_KO",
        "colab_type": "text"
      },
      "source": [
        "Desvio Padrão"
      ]
    },
    {
      "cell_type": "code",
      "metadata": {
        "id": "GTsD_zGWZAU9",
        "colab_type": "code",
        "colab": {
          "base_uri": "https://localhost:8080/",
          "height": 181
        },
        "outputId": "e4f1f37e-33df-4927-920a-c4b2def30239"
      },
      "source": [
        "print('Exportações')\n",
        "print('Valores: ', expor.Value.std())\n",
        "print('Cumulativo: ', expor.Cumulative.std())\n",
        "print('Importações')\n",
        "print('Valores: ', impor.Value.std())\n",
        "print('Cumulativo: ', impor.Cumulative.std())\n",
        "print('Reimportações')\n",
        "print('Valores: ', reimpor.Value.std())\n",
        "print('Cumulativo: ', reimpor.Cumulative.std())"
      ],
      "execution_count": 47,
      "outputs": [
        {
          "output_type": "stream",
          "text": [
            "Exportações\n",
            "Valores:  44413241.3450283\n",
            "Cumulativo:  4838034262.190421\n",
            "Importações\n",
            "Valores:  69030111.4040695\n",
            "Cumulativo:  6522587453.393911\n",
            "Reimportações\n",
            "Valores:  787311.2642086025\n",
            "Cumulativo:  32060741.082730416\n"
          ],
          "name": "stdout"
        }
      ]
    },
    {
      "cell_type": "markdown",
      "metadata": {
        "id": "To4dADIBZDPR",
        "colab_type": "text"
      },
      "source": [
        "Mediana"
      ]
    },
    {
      "cell_type": "code",
      "metadata": {
        "id": "_ITRlOglZEqb",
        "colab_type": "code",
        "colab": {
          "base_uri": "https://localhost:8080/",
          "height": 181
        },
        "outputId": "679e5500-08dd-4a40-9191-d6f18695a6c0"
      },
      "source": [
        "print('Exportações')\n",
        "print('Valores: ', expor.Value.median())\n",
        "print('Cumulativo: ', expor.Cumulative.median())\n",
        "print('Importações')\n",
        "print('Valores: ', impor.Value.median())\n",
        "print('Cumulativo: ', impor.Cumulative.median())\n",
        "print('Reimportações')\n",
        "print('Valores: ', reimpor.Value.median())\n",
        "print('Cumulativo: ', reimpor.Cumulative.median())"
      ],
      "execution_count": 48,
      "outputs": [
        {
          "output_type": "stream",
          "text": [
            "Exportações\n",
            "Valores:  7000000.0\n",
            "Cumulativo:  661000000.0\n",
            "Importações\n",
            "Valores:  28000000.0\n",
            "Cumulativo:  2702000000.0\n",
            "Reimportações\n",
            "Valores:  0.0\n",
            "Cumulativo:  54000000.0\n"
          ],
          "name": "stdout"
        }
      ]
    },
    {
      "cell_type": "code",
      "metadata": {
        "id": "wCjY_IjvZHDf",
        "colab_type": "code",
        "colab": {
          "base_uri": "https://localhost:8080/",
          "height": 295
        },
        "outputId": "f2d72645-6a45-4304-fb46-69c843cb57de"
      },
      "source": [
        "plt.bar(['Exportações','Importações','Reimportações'],[expor.Value.mean(),impor.Value.mean(), reimpor.Value.mean()],yerr=[expor.Value.std(),impor.Value.std(), reimpor.Value.std()])\n",
        "plt.xlabel('Direções')\n",
        "plt.title('Valores')\n",
        "plt.show()"
      ],
      "execution_count": 49,
      "outputs": [
        {
          "output_type": "display_data",
          "data": {
            "image/png": "[encoded data removed]",
            "text/plain": [
              "<Figure size 432x288 with 1 Axes>"
            ]
          },
          "metadata": {
            "tags": [],
            "needs_background": "light"
          }
        }
      ]
    },
    {
      "cell_type": "code",
      "metadata": {
        "id": "h2NTnsEuZIi2",
        "colab_type": "code",
        "colab": {
          "base_uri": "https://localhost:8080/",
          "height": 295
        },
        "outputId": "b7642909-b427-4da5-f93d-f62fc9282610"
      },
      "source": [
        "plt.bar(['Exportações','Importações','Reimportações'],[expor.Cumulative.mean(),impor.Cumulative.mean(), reimpor.Cumulative.mean()],yerr=[expor.Cumulative.std(),impor.Cumulative.std(), reimpor.Cumulative.std()])\n",
        "plt.xlabel('Direções')\n",
        "plt.title('Cumulativo')\n",
        "plt.show()"
      ],
      "execution_count": 50,
      "outputs": [
        {
          "output_type": "display_data",
          "data": {
            "image/png": "[encoded data removed]",
            "text/plain": [
              "<Figure size 432x288 with 1 Axes>"
            ]
          },
          "metadata": {
            "tags": [],
            "needs_background": "light"
          }
        }
      ]
    },
    {
      "cell_type": "code",
      "metadata": {
        "id": "3dDXRkSGZKpG",
        "colab_type": "code",
        "colab": {
          "base_uri": "https://localhost:8080/",
          "height": 313
        },
        "outputId": "be68dcb5-459f-4b86-bf61-1e199a562ef8"
      },
      "source": [
        "plt.bar(china.Year,china.Value)\n",
        "plt.ylabel('Valores')\n",
        "plt.xlabel('Ano')\n",
        "plt.title('China')"
      ],
      "execution_count": 69,
      "outputs": [
        {
          "output_type": "execute_result",
          "data": {
            "text/plain": [
              "Text(0.5, 1.0, 'China')"
            ]
          },
          "metadata": {
            "tags": []
          },
          "execution_count": 69
        },
        {
          "output_type": "display_data",
          "data": {
            "image/png": "[encoded data removed]",
            "text/plain": [
              "<Figure size 432x288 with 1 Axes>"
            ]
          },
          "metadata": {
            "tags": [],
            "needs_background": "light"
          }
        }
      ]
    },
    {
      "cell_type": "code",
      "metadata": {
        "id": "hFZYZ9auZMHc",
        "colab_type": "code",
        "colab": {
          "base_uri": "https://localhost:8080/",
          "height": 313
        },
        "outputId": "a06de681-110f-44e8-e4df-20a4b40369f5"
      },
      "source": [
        "plt.bar(japao.Year,japao.Value)\n",
        "plt.ylabel('Valores')\n",
        "plt.xlabel('Ano')\n",
        "plt.title('Japão')"
      ],
      "execution_count": 70,
      "outputs": [
        {
          "output_type": "execute_result",
          "data": {
            "text/plain": [
              "Text(0.5, 1.0, 'Japão')"
            ]
          },
          "metadata": {
            "tags": []
          },
          "execution_count": 70
        },
        {
          "output_type": "display_data",
          "data": {
            "image/png": "[encoded data removed]",
            "text/plain": [
              "<Figure size 432x288 with 1 Axes>"
            ]
          },
          "metadata": {
            "tags": [],
            "needs_background": "light"
          }
        }
      ]
    },
    {
      "cell_type": "markdown",
      "metadata": {
        "id": "DFeOb7isZO2J",
        "colab_type": "text"
      },
      "source": [
        "Comparando os anos de 2019 e 2020, podemos perceber que os países acima sofreram impactos diferentes, a China teve um aumento no valor das exportações, importações e reimportações, diferente do Japão que sofreu um decaída."
      ]
    },
    {
      "cell_type": "markdown",
      "metadata": {
        "id": "0dy7KTChZRTz",
        "colab_type": "text"
      },
      "source": [
        "**Estudo de correlação entre atributos**"
      ]
    },
    {
      "cell_type": "code",
      "metadata": {
        "id": "VAZLndLHZS7i",
        "colab_type": "code",
        "colab": {
          "base_uri": "https://localhost:8080/",
          "height": 308
        },
        "outputId": "dbfe5a61-feb8-4f38-dd0a-7de462c2de6f"
      },
      "source": [
        "plt.scatter(expor.Value, expor.Cumulative)\n",
        "plt.xlabel('Valores')\n",
        "plt.suptitle('Exportações')\n",
        "plt.ylabel('Cumulativo')\n",
        "plt.title('Correlação entre valores e cumulativo')\n",
        "plt.show()"
      ],
      "execution_count": 53,
      "outputs": [
        {
          "output_type": "display_data",
          "data": {
            "image/png": "[encoded data removed]",
            "text/plain": [
              "<Figure size 432x288 with 1 Axes>"
            ]
          },
          "metadata": {
            "tags": [],
            "needs_background": "light"
          }
        }
      ]
    },
    {
      "cell_type": "code",
      "metadata": {
        "id": "SPAQ1twYZUGl",
        "colab_type": "code",
        "colab": {
          "base_uri": "https://localhost:8080/",
          "height": 308
        },
        "outputId": "012fdb3d-8372-4ec6-93be-55346dc5ae81"
      },
      "source": [
        "plt.scatter(impor.Value, impor.Cumulative)\n",
        "plt.xlabel('Valores')\n",
        "plt.suptitle('Importações')\n",
        "plt.ylabel('Cumulativo')\n",
        "plt.title('Correlação entre valores e cumulativo')\n",
        "plt.show()"
      ],
      "execution_count": 54,
      "outputs": [
        {
          "output_type": "display_data",
          "data": {
            "image/png": "[encoded data removed]",
            "text/plain": [
              "<Figure size 432x288 with 1 Axes>"
            ]
          },
          "metadata": {
            "tags": [],
            "needs_background": "light"
          }
        }
      ]
    },
    {
      "cell_type": "code",
      "metadata": {
        "id": "Gr-VZrvOZVkY",
        "colab_type": "code",
        "colab": {
          "base_uri": "https://localhost:8080/",
          "height": 308
        },
        "outputId": "b8b95eb8-75f6-471b-cbb0-348ddbe75303"
      },
      "source": [
        "plt.scatter(reimpor.Value, reimpor.Cumulative)\n",
        "plt.xlabel('Valores')\n",
        "plt.suptitle('Reimportações')\n",
        "plt.ylabel('Cumulativo')\n",
        "plt.title('Correlação entre valores e cumulativo')\n",
        "plt.show()"
      ],
      "execution_count": 55,
      "outputs": [
        {
          "output_type": "display_data",
          "data": {
            "image/png": "[encoded data removed]",
            "text/plain": [
              "<Figure size 432x288 with 1 Axes>"
            ]
          },
          "metadata": {
            "tags": [],
            "needs_background": "light"
          }
        }
      ]
    },
    {
      "cell_type": "code",
      "metadata": {
        "id": "iH6oRHynZW_m",
        "colab_type": "code",
        "colab": {
          "base_uri": "https://localhost:8080/",
          "height": 168
        },
        "outputId": "cd59de50-e8bb-4f9c-ddc6-3c1e6316999c"
      },
      "source": [
        "corr = data.corr()\n",
        "corr"
      ],
      "execution_count": 56,
      "outputs": [
        {
          "output_type": "execute_result",
          "data": {
            "text/html": [
              "<div>\n",
              "<style scoped>\n",
              "    .dataframe tbody tr th:only-of-type {\n",
              "        vertical-align: middle;\n",
              "    }\n",
              "\n",
              "    .dataframe tbody tr th {\n",
              "        vertical-align: top;\n",
              "    }\n",
              "\n",
              "    .dataframe thead th {\n",
              "        text-align: right;\n",
              "    }\n",
              "</style>\n",
              "<table border=\"1\" class=\"dataframe\">\n",
              "  <thead>\n",
              "    <tr style=\"text-align: right;\">\n",
              "      <th></th>\n",
              "      <th>Direction</th>\n",
              "      <th>Year</th>\n",
              "      <th>Value</th>\n",
              "      <th>Cumulative</th>\n",
              "    </tr>\n",
              "  </thead>\n",
              "  <tbody>\n",
              "    <tr>\n",
              "      <th>Direction</th>\n",
              "      <td>1.000000</td>\n",
              "      <td>0.000236</td>\n",
              "      <td>0.161824</td>\n",
              "      <td>0.142535</td>\n",
              "    </tr>\n",
              "    <tr>\n",
              "      <th>Year</th>\n",
              "      <td>0.000236</td>\n",
              "      <td>1.000000</td>\n",
              "      <td>0.041330</td>\n",
              "      <td>0.039677</td>\n",
              "    </tr>\n",
              "    <tr>\n",
              "      <th>Value</th>\n",
              "      <td>0.161824</td>\n",
              "      <td>0.041330</td>\n",
              "      <td>1.000000</td>\n",
              "      <td>0.703101</td>\n",
              "    </tr>\n",
              "    <tr>\n",
              "      <th>Cumulative</th>\n",
              "      <td>0.142535</td>\n",
              "      <td>0.039677</td>\n",
              "      <td>0.703101</td>\n",
              "      <td>1.000000</td>\n",
              "    </tr>\n",
              "  </tbody>\n",
              "</table>\n",
              "</div>"
            ],
            "text/plain": [
              "            Direction      Year     Value  Cumulative\n",
              "Direction    1.000000  0.000236  0.161824    0.142535\n",
              "Year         0.000236  1.000000  0.041330    0.039677\n",
              "Value        0.161824  0.041330  1.000000    0.703101\n",
              "Cumulative   0.142535  0.039677  0.703101    1.000000"
            ]
          },
          "metadata": {
            "tags": []
          },
          "execution_count": 56
        }
      ]
    },
    {
      "cell_type": "code",
      "metadata": {
        "id": "5FbMNVVBZYmz",
        "colab_type": "code",
        "colab": {
          "base_uri": "https://localhost:8080/",
          "height": 296
        },
        "outputId": "17972039-145d-436d-d1a9-0ea4ce5432eb"
      },
      "source": [
        "sns.heatmap(corr, vmin = -1, vmax = 1, center = 0, cmap = sns.diverging_palette(30, 350 ,n=900))"
      ],
      "execution_count": 57,
      "outputs": [
        {
          "output_type": "execute_result",
          "data": {
            "text/plain": [
              "<matplotlib.axes._subplots.AxesSubplot at 0x7f7443fa09e8>"
            ]
          },
          "metadata": {
            "tags": []
          },
          "execution_count": 57
        },
        {
          "output_type": "display_data",
          "data": {
            "image/png": "[encoded data removed]",
            "text/plain": [
              "<Figure size 432x288 with 2 Axes>"
            ]
          },
          "metadata": {
            "tags": [],
            "needs_background": "light"
          }
        }
      ]
    },
    {
      "cell_type": "markdown",
      "metadata": {
        "id": "gErA1ciZZgWY",
        "colab_type": "text"
      },
      "source": [
        "A análise preliminar dos dados mostram que os atributos não possuem correlação entre si."
      ]
    },
    {
      "cell_type": "markdown",
      "metadata": {
        "id": "VhamWXYwZi-8",
        "colab_type": "text"
      },
      "source": [
        "**5. Re-escala dos dados**"
      ]
    },
    {
      "cell_type": "code",
      "metadata": {
        "id": "P38Gu9o2Zj8Q",
        "colab_type": "code",
        "colab": {
          "base_uri": "https://localhost:8080/",
          "height": 198
        },
        "outputId": "46911299-604c-44f4-c695-a4a5526a38bd"
      },
      "source": [
        "data.head()"
      ],
      "execution_count": 58,
      "outputs": [
        {
          "output_type": "execute_result",
          "data": {
            "text/html": [
              "<div>\n",
              "<style scoped>\n",
              "    .dataframe tbody tr th:only-of-type {\n",
              "        vertical-align: middle;\n",
              "    }\n",
              "\n",
              "    .dataframe tbody tr th {\n",
              "        vertical-align: top;\n",
              "    }\n",
              "\n",
              "    .dataframe thead th {\n",
              "        text-align: right;\n",
              "    }\n",
              "</style>\n",
              "<table border=\"1\" class=\"dataframe\">\n",
              "  <thead>\n",
              "    <tr style=\"text-align: right;\">\n",
              "      <th></th>\n",
              "      <th>Direction</th>\n",
              "      <th>Year</th>\n",
              "      <th>Date</th>\n",
              "      <th>Current_Match</th>\n",
              "      <th>Country</th>\n",
              "      <th>Commodity</th>\n",
              "      <th>Transport_Mode</th>\n",
              "      <th>Measure</th>\n",
              "      <th>Value</th>\n",
              "      <th>Cumulative</th>\n",
              "    </tr>\n",
              "  </thead>\n",
              "  <tbody>\n",
              "    <tr>\n",
              "      <th>0</th>\n",
              "      <td>0</td>\n",
              "      <td>2015</td>\n",
              "      <td>31/01/2015</td>\n",
              "      <td>1/02/2020</td>\n",
              "      <td>All</td>\n",
              "      <td>All</td>\n",
              "      <td>All</td>\n",
              "      <td>$</td>\n",
              "      <td>257000000</td>\n",
              "      <td>257000000</td>\n",
              "    </tr>\n",
              "    <tr>\n",
              "      <th>1</th>\n",
              "      <td>0</td>\n",
              "      <td>2015</td>\n",
              "      <td>1/02/2015</td>\n",
              "      <td>2/02/2020</td>\n",
              "      <td>All</td>\n",
              "      <td>All</td>\n",
              "      <td>All</td>\n",
              "      <td>$</td>\n",
              "      <td>123000000</td>\n",
              "      <td>380000000</td>\n",
              "    </tr>\n",
              "    <tr>\n",
              "      <th>2</th>\n",
              "      <td>0</td>\n",
              "      <td>2015</td>\n",
              "      <td>2/02/2015</td>\n",
              "      <td>3/02/2020</td>\n",
              "      <td>All</td>\n",
              "      <td>All</td>\n",
              "      <td>All</td>\n",
              "      <td>$</td>\n",
              "      <td>176000000</td>\n",
              "      <td>556000000</td>\n",
              "    </tr>\n",
              "    <tr>\n",
              "      <th>3</th>\n",
              "      <td>0</td>\n",
              "      <td>2015</td>\n",
              "      <td>3/02/2015</td>\n",
              "      <td>4/02/2020</td>\n",
              "      <td>All</td>\n",
              "      <td>All</td>\n",
              "      <td>All</td>\n",
              "      <td>$</td>\n",
              "      <td>115000000</td>\n",
              "      <td>671000000</td>\n",
              "    </tr>\n",
              "    <tr>\n",
              "      <th>4</th>\n",
              "      <td>0</td>\n",
              "      <td>2015</td>\n",
              "      <td>4/02/2015</td>\n",
              "      <td>5/02/2020</td>\n",
              "      <td>All</td>\n",
              "      <td>All</td>\n",
              "      <td>All</td>\n",
              "      <td>$</td>\n",
              "      <td>74000000</td>\n",
              "      <td>746000000</td>\n",
              "    </tr>\n",
              "  </tbody>\n",
              "</table>\n",
              "</div>"
            ],
            "text/plain": [
              "   Direction  Year        Date  ... Measure      Value Cumulative\n",
              "0          0  2015  31/01/2015  ...       $  257000000  257000000\n",
              "1          0  2015   1/02/2015  ...       $  123000000  380000000\n",
              "2          0  2015   2/02/2015  ...       $  176000000  556000000\n",
              "3          0  2015   3/02/2015  ...       $  115000000  671000000\n",
              "4          0  2015   4/02/2015  ...       $   74000000  746000000\n",
              "\n",
              "[5 rows x 10 columns]"
            ]
          },
          "metadata": {
            "tags": []
          },
          "execution_count": 58
        }
      ]
    },
    {
      "cell_type": "code",
      "metadata": {
        "id": "hCploCGNZm8b",
        "colab_type": "code",
        "colab": {
          "base_uri": "https://localhost:8080/",
          "height": 235
        },
        "outputId": "c0ca11cd-835f-4a90-ff2b-4b183664a884"
      },
      "source": [
        "valores = data.Value\n",
        "valores"
      ],
      "execution_count": 59,
      "outputs": [
        {
          "output_type": "execute_result",
          "data": {
            "text/plain": [
              "0        257000000\n",
              "1        123000000\n",
              "2        176000000\n",
              "3        115000000\n",
              "4         74000000\n",
              "           ...    \n",
              "46531            0\n",
              "46532            0\n",
              "46533      5000000\n",
              "46534      1000000\n",
              "46535      1000000\n",
              "Name: Value, Length: 46536, dtype: int64"
            ]
          },
          "metadata": {
            "tags": []
          },
          "execution_count": 59
        }
      ]
    },
    {
      "cell_type": "code",
      "metadata": {
        "id": "RrRn6Fn7ZoJk",
        "colab_type": "code",
        "colab": {
          "base_uri": "https://localhost:8080/",
          "height": 235
        },
        "outputId": "e67ddbe4-2f90-4068-e3a4-3a270c86d43e"
      },
      "source": [
        "cumulativo = data.Cumulative\n",
        "cumulativo"
      ],
      "execution_count": 60,
      "outputs": [
        {
          "output_type": "execute_result",
          "data": {
            "text/plain": [
              "0        257000000\n",
              "1        380000000\n",
              "2        556000000\n",
              "3        671000000\n",
              "4        746000000\n",
              "           ...    \n",
              "46531    105000000\n",
              "46532    105000000\n",
              "46533    110000000\n",
              "46534    110000000\n",
              "46535    111000000\n",
              "Name: Cumulative, Length: 46536, dtype: int64"
            ]
          },
          "metadata": {
            "tags": []
          },
          "execution_count": 60
        }
      ]
    },
    {
      "cell_type": "code",
      "metadata": {
        "id": "iemnrxglZphj",
        "colab_type": "code",
        "colab": {
          "base_uri": "https://localhost:8080/",
          "height": 235
        },
        "outputId": "5d160a44-78b9-429f-f975-c14f04dcf60b"
      },
      "source": [
        "anos = data.Year\n",
        "anos"
      ],
      "execution_count": 61,
      "outputs": [
        {
          "output_type": "execute_result",
          "data": {
            "text/plain": [
              "0        2015\n",
              "1        2015\n",
              "2        2015\n",
              "3        2015\n",
              "4        2015\n",
              "         ... \n",
              "46531    2020\n",
              "46532    2020\n",
              "46533    2020\n",
              "46534    2020\n",
              "46535    2020\n",
              "Name: Year, Length: 46536, dtype: int64"
            ]
          },
          "metadata": {
            "tags": []
          },
          "execution_count": 61
        }
      ]
    },
    {
      "cell_type": "code",
      "metadata": {
        "id": "m_v-8P8qZsBS",
        "colab_type": "code",
        "colab": {
          "base_uri": "https://localhost:8080/",
          "height": 281
        },
        "outputId": "b89c5e1d-c76f-4c08-e9bf-c82c579ab4fc"
      },
      "source": [
        "plt.plot(valores, label='Valores')\n",
        "plt.plot(cumulativo, label='Cumulativo')\n",
        "plt.title('Valores e Cumulativo')\n",
        "plt.legend()\n",
        "plt.show()"
      ],
      "execution_count": 62,
      "outputs": [
        {
          "output_type": "display_data",
          "data": {
            "image/png": "[encoded data removed]",
            "text/plain": [
              "<Figure size 432x288 with 1 Axes>"
            ]
          },
          "metadata": {
            "tags": [],
            "needs_background": "light"
          }
        }
      ]
    },
    {
      "cell_type": "code",
      "metadata": {
        "id": "QM13J0wUZt6l",
        "colab_type": "code",
        "colab": {}
      },
      "source": [
        "valores = (valores-valores.mean())/valores.std()"
      ],
      "execution_count": 63,
      "outputs": []
    },
    {
      "cell_type": "code",
      "metadata": {
        "id": "oXUWPV_DZvHj",
        "colab_type": "code",
        "colab": {}
      },
      "source": [
        "cumulativo = (cumulativo-cumulativo.mean())/cumulativo.std()"
      ],
      "execution_count": 64,
      "outputs": []
    },
    {
      "cell_type": "code",
      "metadata": {
        "id": "gBG7cU69ZwUy",
        "colab_type": "code",
        "colab": {
          "base_uri": "https://localhost:8080/",
          "height": 281
        },
        "outputId": "5099b8dd-6c61-476e-8dae-4a40c872f7e1"
      },
      "source": [
        "plt.plot(valores, label='Valores')\n",
        "plt.plot(cumulativo, label='Cumulativo')\n",
        "plt.title('Valores e Cumulativo')\n",
        "plt.legend()\n",
        "plt.show()"
      ],
      "execution_count": 65,
      "outputs": [
        {
          "output_type": "display_data",
          "data": {
            "image/png": "[encoded data removed]",
            "text/plain": [
              "<Figure size 432x288 with 1 Axes>"
            ]
          },
          "metadata": {
            "tags": [],
            "needs_background": "light"
          }
        }
      ]
    },
    {
      "cell_type": "markdown",
      "metadata": {
        "id": "J2G7Ny0KaBxE",
        "colab_type": "text"
      },
      "source": [
        "**Conclusões**"
      ]
    },
    {
      "cell_type": "markdown",
      "metadata": {
        "id": "5qA7_6P8Z0gx",
        "colab_type": "text"
      },
      "source": [
        "Com a adoção de uma política de combate a pandemia adequeda há uma boa probabilidade de que o país não sofra impactos severos em sua economia."
      ]
    }
  ]
}