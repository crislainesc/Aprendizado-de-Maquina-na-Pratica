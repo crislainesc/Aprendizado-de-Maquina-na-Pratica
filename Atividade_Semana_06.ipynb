{
  "nbformat": 4,
  "nbformat_minor": 0,
  "metadata": {
    "colab": {
      "name": "Atividade Semana 06.ipynb",
      "provenance": [],
      "authorship_tag": "ABX9TyO3CxYHYPY9VYkya7D0Jaz8",
      "include_colab_link": true
    },
    "kernelspec": {
      "name": "python3",
      "display_name": "Python 3"
    }
  },
  "cells": [
    {
      "cell_type": "markdown",
      "metadata": {
        "id": "view-in-github",
        "colab_type": "text"
      },
      "source": [
        "<a href=\"https://colab.research.google.com/github/crislainesc/Aprendizado-de-Maquina-na-Pratica/blob/master/Atividade_Semana_06.ipynb\" target=\"_parent\"><img src=\"https://colab.research.google.com/assets/colab-badge.svg\" alt=\"Open In Colab\"/></a>"
      ]
    },
    {
      "cell_type": "markdown",
      "metadata": {
        "id": "bBviHKlXMudW"
      },
      "source": [
        "# **Estatística e Probabilidade**\n",
        "\n",
        "Data set com atributos númericos acerca de espécies de íris.\n",
        "\n",
        "*  Os dados incluem três espécies de íris com 50 amostras cada, bem como algumas propriedades sobre cada flor.\n",
        "*   [Iris Species](https://www.kaggle.com/uciml/iris)\n"
      ]
    },
    {
      "cell_type": "markdown",
      "metadata": {
        "id": "PIYOaNh2MxrN"
      },
      "source": [
        "# **Leitura dos dados**"
      ]
    },
    {
      "cell_type": "code",
      "metadata": {
        "id": "huCyl0OKL6-f",
        "colab": {
          "base_uri": "https://localhost:8080/"
        },
        "outputId": "73ee17e7-dd05-4d93-d071-5cb2c05715f8"
      },
      "source": [
        "# criando ambiente no Google Drive\n",
        "from google.colab import drive\n",
        "drive.mount(\"/content/drive/\")"
      ],
      "execution_count": 2,
      "outputs": [
        {
          "output_type": "stream",
          "text": [
            "Mounted at /content/drive/\n"
          ],
          "name": "stdout"
        }
      ]
    },
    {
      "cell_type": "code",
      "metadata": {
        "id": "6vf0NJP4NGH_"
      },
      "source": [
        "# importando bibliotecas\n",
        "import matplotlib.pyplot as plt\n",
        "import pandas as pd\n",
        "import numpy as np\n",
        "import seaborn as sns\n",
        "from scipy import stats"
      ],
      "execution_count": 36,
      "outputs": []
    },
    {
      "cell_type": "code",
      "metadata": {
        "id": "YWOpzBSvNQm0"
      },
      "source": [
        "# lendd os dados\n",
        "dados = pd.read_csv(\"/content/drive/My Drive/Colab Notebooks/Estatística e Probabilidade/Semana 6/Iris.csv\")"
      ],
      "execution_count": 23,
      "outputs": []
    },
    {
      "cell_type": "code",
      "metadata": {
        "colab": {
          "base_uri": "https://localhost:8080/",
          "height": 204
        },
        "id": "SSSjqJpWN9-M",
        "outputId": "9adf1094-d389-409c-b6ab-9456687679f5"
      },
      "source": [
        "dados.head()"
      ],
      "execution_count": 24,
      "outputs": [
        {
          "output_type": "execute_result",
          "data": {
            "text/html": [
              "<div>\n",
              "<style scoped>\n",
              "    .dataframe tbody tr th:only-of-type {\n",
              "        vertical-align: middle;\n",
              "    }\n",
              "\n",
              "    .dataframe tbody tr th {\n",
              "        vertical-align: top;\n",
              "    }\n",
              "\n",
              "    .dataframe thead th {\n",
              "        text-align: right;\n",
              "    }\n",
              "</style>\n",
              "<table border=\"1\" class=\"dataframe\">\n",
              "  <thead>\n",
              "    <tr style=\"text-align: right;\">\n",
              "      <th></th>\n",
              "      <th>Id</th>\n",
              "      <th>SepalLengthCm</th>\n",
              "      <th>SepalWidthCm</th>\n",
              "      <th>PetalLengthCm</th>\n",
              "      <th>PetalWidthCm</th>\n",
              "      <th>Species</th>\n",
              "    </tr>\n",
              "  </thead>\n",
              "  <tbody>\n",
              "    <tr>\n",
              "      <th>0</th>\n",
              "      <td>1</td>\n",
              "      <td>5.1</td>\n",
              "      <td>3.5</td>\n",
              "      <td>1.4</td>\n",
              "      <td>0.2</td>\n",
              "      <td>Iris-setosa</td>\n",
              "    </tr>\n",
              "    <tr>\n",
              "      <th>1</th>\n",
              "      <td>2</td>\n",
              "      <td>4.9</td>\n",
              "      <td>3.0</td>\n",
              "      <td>1.4</td>\n",
              "      <td>0.2</td>\n",
              "      <td>Iris-setosa</td>\n",
              "    </tr>\n",
              "    <tr>\n",
              "      <th>2</th>\n",
              "      <td>3</td>\n",
              "      <td>4.7</td>\n",
              "      <td>3.2</td>\n",
              "      <td>1.3</td>\n",
              "      <td>0.2</td>\n",
              "      <td>Iris-setosa</td>\n",
              "    </tr>\n",
              "    <tr>\n",
              "      <th>3</th>\n",
              "      <td>4</td>\n",
              "      <td>4.6</td>\n",
              "      <td>3.1</td>\n",
              "      <td>1.5</td>\n",
              "      <td>0.2</td>\n",
              "      <td>Iris-setosa</td>\n",
              "    </tr>\n",
              "    <tr>\n",
              "      <th>4</th>\n",
              "      <td>5</td>\n",
              "      <td>5.0</td>\n",
              "      <td>3.6</td>\n",
              "      <td>1.4</td>\n",
              "      <td>0.2</td>\n",
              "      <td>Iris-setosa</td>\n",
              "    </tr>\n",
              "  </tbody>\n",
              "</table>\n",
              "</div>"
            ],
            "text/plain": [
              "   Id  SepalLengthCm  SepalWidthCm  PetalLengthCm  PetalWidthCm      Species\n",
              "0   1            5.1           3.5            1.4           0.2  Iris-setosa\n",
              "1   2            4.9           3.0            1.4           0.2  Iris-setosa\n",
              "2   3            4.7           3.2            1.3           0.2  Iris-setosa\n",
              "3   4            4.6           3.1            1.5           0.2  Iris-setosa\n",
              "4   5            5.0           3.6            1.4           0.2  Iris-setosa"
            ]
          },
          "metadata": {
            "tags": []
          },
          "execution_count": 24
        }
      ]
    },
    {
      "cell_type": "code",
      "metadata": {
        "colab": {
          "base_uri": "https://localhost:8080/"
        },
        "id": "TIDSa_ZhQ0TO",
        "outputId": "1d178786-d51a-4685-c007-4ee28c7d4a8d"
      },
      "source": [
        "dados.columns"
      ],
      "execution_count": 25,
      "outputs": [
        {
          "output_type": "execute_result",
          "data": {
            "text/plain": [
              "Index(['Id', 'SepalLengthCm', 'SepalWidthCm', 'PetalLengthCm', 'PetalWidthCm',\n",
              "       'Species'],\n",
              "      dtype='object')"
            ]
          },
          "metadata": {
            "tags": []
          },
          "execution_count": 25
        }
      ]
    },
    {
      "cell_type": "markdown",
      "metadata": {
        "id": "bfhXkScLPJmb"
      },
      "source": [
        "# **Análise Estatística de Duas Variáveis**"
      ]
    },
    {
      "cell_type": "markdown",
      "metadata": {
        "id": "wQkx-AgEPY-p"
      },
      "source": [
        "**Correlação**"
      ]
    },
    {
      "cell_type": "code",
      "metadata": {
        "colab": {
          "base_uri": "https://localhost:8080/",
          "height": 296
        },
        "id": "T6VIe4cfPeeh",
        "outputId": "4440905b-c64a-4014-f099-c43bd0baa231"
      },
      "source": [
        "plt.scatter(dados[\"PetalLengthCm\"], dados[\"SepalLengthCm\"])\n",
        "plt.xlabel(\"Comprimento da Pétala\")\n",
        "plt.ylabel(\"Comprimento do Sépal\")\n",
        "plt.title(\"Diagrama de Dispersão\")\n",
        "plt.show()"
      ],
      "execution_count": 30,
      "outputs": [
        {
          "output_type": "display_data",
          "data": {
            "image/png": "[encoded data removed]",
            "text/plain": [
              "<Figure size 432x288 with 1 Axes>"
            ]
          },
          "metadata": {
            "tags": [],
            "needs_background": "light"
          }
        }
      ]
    },
    {
      "cell_type": "code",
      "metadata": {
        "colab": {
          "base_uri": "https://localhost:8080/"
        },
        "id": "vEIUApHHQUXR",
        "outputId": "3d74782f-97f5-4c03-a4a0-d321d6f878e7"
      },
      "source": [
        "np.corrcoef(dados[\"PetalLengthCm\"], dados[\"SepalLengthCm\"])"
      ],
      "execution_count": 29,
      "outputs": [
        {
          "output_type": "execute_result",
          "data": {
            "text/plain": [
              "array([[1.        , 0.87175416],\n",
              "       [0.87175416, 1.        ]])"
            ]
          },
          "metadata": {
            "tags": []
          },
          "execution_count": 29
        }
      ]
    },
    {
      "cell_type": "markdown",
      "metadata": {
        "id": "0az6SJwpQeZz"
      },
      "source": [
        "De acordo com o diagrama de dispersão acima, podemos perceber que há uma correlação linear positiva entre o comprimento da pétala e o comprimento do sépal."
      ]
    },
    {
      "cell_type": "code",
      "metadata": {
        "colab": {
          "base_uri": "https://localhost:8080/",
          "height": 296
        },
        "id": "LrV4zz8PQ_4p",
        "outputId": "758dfed0-8690-4e2a-8d8f-e2ec9eccacb7"
      },
      "source": [
        "plt.scatter(dados[\"PetalLengthCm\"], dados[\"PetalWidthCm\"])\n",
        "plt.xlabel(\"Comprimento da Pétala\")\n",
        "plt.ylabel(\"Largura da Pétala\")\n",
        "plt.title(\"Diagrama de Dispersão\")\n",
        "plt.show()"
      ],
      "execution_count": 31,
      "outputs": [
        {
          "output_type": "display_data",
          "data": {
            "image/png": "[encoded data removed]",
            "text/plain": [
              "<Figure size 432x288 with 1 Axes>"
            ]
          },
          "metadata": {
            "tags": [],
            "needs_background": "light"
          }
        }
      ]
    },
    {
      "cell_type": "code",
      "metadata": {
        "colab": {
          "base_uri": "https://localhost:8080/"
        },
        "id": "6qPGGi-ORKIe",
        "outputId": "4c39d2ad-de9a-42b4-aaa2-2d394a67208e"
      },
      "source": [
        "np.corrcoef(dados[\"PetalLengthCm\"], dados[\"PetalWidthCm\"])"
      ],
      "execution_count": 33,
      "outputs": [
        {
          "output_type": "execute_result",
          "data": {
            "text/plain": [
              "array([[1.       , 0.9627571],\n",
              "       [0.9627571, 1.       ]])"
            ]
          },
          "metadata": {
            "tags": []
          },
          "execution_count": 33
        }
      ]
    },
    {
      "cell_type": "markdown",
      "metadata": {
        "id": "qV2dWQKYWmjs"
      },
      "source": [
        "Calculando o coeficiente de correlação entre o comprimento e a largura da pétala foi possível perceber que o valor está próximo de um, o que indica uma correlação linear positiva."
      ]
    },
    {
      "cell_type": "code",
      "metadata": {
        "colab": {
          "base_uri": "https://localhost:8080/",
          "height": 296
        },
        "id": "lxVCDIvtXbAx",
        "outputId": "4b8c7a78-8327-4136-c757-9fea1fe1d3db"
      },
      "source": [
        "plt.scatter(dados[\"PetalLengthCm\"], dados[\"SepalWidthCm\"])\n",
        "plt.xlabel(\"Comprimento da Pétala\")\n",
        "plt.ylabel(\"Largura do Sépal\")\n",
        "plt.title(\"Diagrama de Dispersão\")\n",
        "plt.show()"
      ],
      "execution_count": 34,
      "outputs": [
        {
          "output_type": "display_data",
          "data": {
            "image/png": "[encoded data removed]",
            "text/plain": [
              "<Figure size 432x288 with 1 Axes>"
            ]
          },
          "metadata": {
            "tags": [],
            "needs_background": "light"
          }
        }
      ]
    },
    {
      "cell_type": "code",
      "metadata": {
        "colab": {
          "base_uri": "https://localhost:8080/"
        },
        "id": "o3Yq17z6XbA9",
        "outputId": "9dae4513-4024-463c-c675-7aa45bed4e0b"
      },
      "source": [
        "np.corrcoef(dados[\"PetalLengthCm\"], dados[\"SepalWidthCm\"])"
      ],
      "execution_count": 35,
      "outputs": [
        {
          "output_type": "execute_result",
          "data": {
            "text/plain": [
              "array([[ 1.       , -0.4205161],\n",
              "       [-0.4205161,  1.       ]])"
            ]
          },
          "metadata": {
            "tags": []
          },
          "execution_count": 35
        }
      ]
    },
    {
      "cell_type": "markdown",
      "metadata": {
        "id": "BZUE9cAkXzMZ"
      },
      "source": [
        "É possível perceber que o comprimento da pétala e a largura do sépal possuem uma correlação negativa fraca, com base no diagrama de dispersão e no coeficiente de correlação igual a -0.42."
      ]
    },
    {
      "cell_type": "code",
      "metadata": {
        "colab": {
          "base_uri": "https://localhost:8080/",
          "height": 204
        },
        "id": "GumGBOkwSRTN",
        "outputId": "a99fd1b8-59e2-4f7e-b7a8-c1057e1f60ff"
      },
      "source": [
        "corr = dados.corr()\n",
        "corr"
      ],
      "execution_count": 26,
      "outputs": [
        {
          "output_type": "execute_result",
          "data": {
            "text/html": [
              "<div>\n",
              "<style scoped>\n",
              "    .dataframe tbody tr th:only-of-type {\n",
              "        vertical-align: middle;\n",
              "    }\n",
              "\n",
              "    .dataframe tbody tr th {\n",
              "        vertical-align: top;\n",
              "    }\n",
              "\n",
              "    .dataframe thead th {\n",
              "        text-align: right;\n",
              "    }\n",
              "</style>\n",
              "<table border=\"1\" class=\"dataframe\">\n",
              "  <thead>\n",
              "    <tr style=\"text-align: right;\">\n",
              "      <th></th>\n",
              "      <th>Id</th>\n",
              "      <th>SepalLengthCm</th>\n",
              "      <th>SepalWidthCm</th>\n",
              "      <th>PetalLengthCm</th>\n",
              "      <th>PetalWidthCm</th>\n",
              "    </tr>\n",
              "  </thead>\n",
              "  <tbody>\n",
              "    <tr>\n",
              "      <th>Id</th>\n",
              "      <td>1.000000</td>\n",
              "      <td>0.716676</td>\n",
              "      <td>-0.397729</td>\n",
              "      <td>0.882747</td>\n",
              "      <td>0.899759</td>\n",
              "    </tr>\n",
              "    <tr>\n",
              "      <th>SepalLengthCm</th>\n",
              "      <td>0.716676</td>\n",
              "      <td>1.000000</td>\n",
              "      <td>-0.109369</td>\n",
              "      <td>0.871754</td>\n",
              "      <td>0.817954</td>\n",
              "    </tr>\n",
              "    <tr>\n",
              "      <th>SepalWidthCm</th>\n",
              "      <td>-0.397729</td>\n",
              "      <td>-0.109369</td>\n",
              "      <td>1.000000</td>\n",
              "      <td>-0.420516</td>\n",
              "      <td>-0.356544</td>\n",
              "    </tr>\n",
              "    <tr>\n",
              "      <th>PetalLengthCm</th>\n",
              "      <td>0.882747</td>\n",
              "      <td>0.871754</td>\n",
              "      <td>-0.420516</td>\n",
              "      <td>1.000000</td>\n",
              "      <td>0.962757</td>\n",
              "    </tr>\n",
              "    <tr>\n",
              "      <th>PetalWidthCm</th>\n",
              "      <td>0.899759</td>\n",
              "      <td>0.817954</td>\n",
              "      <td>-0.356544</td>\n",
              "      <td>0.962757</td>\n",
              "      <td>1.000000</td>\n",
              "    </tr>\n",
              "  </tbody>\n",
              "</table>\n",
              "</div>"
            ],
            "text/plain": [
              "                     Id  SepalLengthCm  ...  PetalLengthCm  PetalWidthCm\n",
              "Id             1.000000       0.716676  ...       0.882747      0.899759\n",
              "SepalLengthCm  0.716676       1.000000  ...       0.871754      0.817954\n",
              "SepalWidthCm  -0.397729      -0.109369  ...      -0.420516     -0.356544\n",
              "PetalLengthCm  0.882747       0.871754  ...       1.000000      0.962757\n",
              "PetalWidthCm   0.899759       0.817954  ...       0.962757      1.000000\n",
              "\n",
              "[5 rows x 5 columns]"
            ]
          },
          "metadata": {
            "tags": []
          },
          "execution_count": 26
        }
      ]
    },
    {
      "cell_type": "markdown",
      "metadata": {
        "id": "Jt04NTgPYee1"
      },
      "source": [
        "Esta tabela contém os valores de correlação entre todos os atributos das espécies de íris."
      ]
    },
    {
      "cell_type": "code",
      "metadata": {
        "colab": {
          "base_uri": "https://localhost:8080/",
          "height": 355
        },
        "id": "WMPnNMFTSDHP",
        "outputId": "825c2cd5-3f0d-4a09-c802-d4851541bdcd"
      },
      "source": [
        "sns.heatmap(corr, vmin = -1, vmax = 1, center = 0, cmap = sns.diverging_palette(30, 350 ,n=900))"
      ],
      "execution_count": 27,
      "outputs": [
        {
          "output_type": "execute_result",
          "data": {
            "text/plain": [
              "<matplotlib.axes._subplots.AxesSubplot at 0x7fbc5dc2cfd0>"
            ]
          },
          "metadata": {
            "tags": []
          },
          "execution_count": 27
        },
        {
          "output_type": "display_data",
          "data": {
            "image/png": "[encoded data removed]",
            "text/plain": [
              "<Figure size 432x288 with 2 Axes>"
            ]
          },
          "metadata": {
            "tags": [],
            "needs_background": "light"
          }
        }
      ]
    },
    {
      "cell_type": "markdown",
      "metadata": {
        "id": "uWIJMD5tYmTF"
      },
      "source": [
        "O mapa de calor ilustra bem os dados de correlação contidos na tabela acima, dando uma visão geral dos atributos correlacionados entre si."
      ]
    },
    {
      "cell_type": "markdown",
      "metadata": {
        "id": "LgIisM4dY1rU"
      },
      "source": [
        "**Regressão Linear**"
      ]
    },
    {
      "cell_type": "markdown",
      "metadata": {
        "id": "oq7mufunY8QQ"
      },
      "source": [
        "Os dois atributos mais correlacionados do conjunto de dados são o comprimento da pétala e a largura da pétala. Então estes atributos serão utilizados para realizar previsões utilizando a equação de regressão."
      ]
    },
    {
      "cell_type": "code",
      "metadata": {
        "id": "PbJL1WTyZvKF"
      },
      "source": [
        "c_petala = dados[\"PetalLengthCm\"]\n",
        "l_petala = dados[\"PetalWidthCm\"]"
      ],
      "execution_count": 38,
      "outputs": []
    },
    {
      "cell_type": "code",
      "metadata": {
        "colab": {
          "base_uri": "https://localhost:8080/"
        },
        "id": "Mhcq368cZnyg",
        "outputId": "ed1a5e19-ba62-4afa-9ebc-77fd525db616"
      },
      "source": [
        "m, b, r_value, p_value, std_err = stats.linregress(c_petala, l_petala)\n",
        "m, b"
      ],
      "execution_count": 40,
      "outputs": [
        {
          "output_type": "execute_result",
          "data": {
            "text/plain": [
              "(0.41641913228540123, -0.3665140452167277)"
            ]
          },
          "metadata": {
            "tags": []
          },
          "execution_count": 40
        }
      ]
    },
    {
      "cell_type": "code",
      "metadata": {
        "id": "Hd0L2cYYZ_6M"
      },
      "source": [
        "# calculando a linha de regressao\n",
        "linha_reg = [m * i + b for i in range(round((max(c_petala))+0.5))]"
      ],
      "execution_count": 51,
      "outputs": []
    },
    {
      "cell_type": "code",
      "metadata": {
        "colab": {
          "base_uri": "https://localhost:8080/",
          "height": 296
        },
        "id": "LbI5Jr1tZFdP",
        "outputId": "b94c47b7-f411-4e77-8e9a-91550ad11409"
      },
      "source": [
        "plt.scatter(dados[\"PetalLengthCm\"], dados[\"PetalWidthCm\"])\n",
        "plt.plot(linha_reg,\"r\")\n",
        "plt.xlabel(\"Comprimento da Pétala\")\n",
        "plt.ylabel(\"Largura da Pétala\")\n",
        "plt.title(\"Diagrama de Dispersão\")\n",
        "plt.show()"
      ],
      "execution_count": 52,
      "outputs": [
        {
          "output_type": "display_data",
          "data": {
            "image/png": "[encoded data removed]",
            "text/plain": [
              "<Figure size 432x288 with 1 Axes>"
            ]
          },
          "metadata": {
            "tags": [],
            "needs_background": "light"
          }
        }
      ]
    },
    {
      "cell_type": "markdown",
      "metadata": {
        "id": "8BVIYGkebnlX"
      },
      "source": [
        "*   Se um cliente se dirigisse a uma loja que vendesse íris com as mesmas características procurando uma flor que tenha uma pétala de 5cm de comprimento. Qual seria o valor previsto para a largura da pétala desta íris?\n",
        "  *   Substituindo o valor na equação:\n",
        "  * $\\hat{y} = 0.41x + (-0.36) = 0.41*5 - 0.36 = 1.69$\n",
        "\n",
        "Então, pode-se prever que a largura da pétala seria de 1.69 cm.\n",
        "\n"
      ]
    }
  ]
}